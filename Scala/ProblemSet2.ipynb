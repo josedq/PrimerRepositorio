{
 "cells": [
  {
   "cell_type": "markdown",
   "metadata": {},
   "source": [
    "# Declarative Programming @ URJC\n",
    "# Functional programming\n",
    "## Problem Set 2: Algebraic data types"
   ]
  },
  {
   "cell_type": "markdown",
   "metadata": {},
   "source": [
    "Auxiliary definitions:"
   ]
  },
  {
   "cell_type": "code",
   "execution_count": 6,
   "metadata": {},
   "outputs": [
    {
     "data": {
      "text/plain": [
       "defined \u001b[32mtrait\u001b[39m \u001b[36mIsomorphic\u001b[39m"
      ]
     },
     "execution_count": 6,
     "metadata": {},
     "output_type": "execute_result"
    }
   ],
   "source": [
    "trait Isomorphic[A, B]{\n",
    "    \n",
    "    def from(a: A): B\n",
    "    \n",
    "    def to(b: B): A\n",
    "    \n",
    "    // equality \n",
    "    \n",
    "    def equalA(a1: A, a2: A): Boolean = \n",
    "        a1 == a2\n",
    "    \n",
    "    def equalB(b1: B, b2: B): Boolean =\n",
    "        b1 == b2\n",
    "    \n",
    "    // Bijection laws\n",
    "    \n",
    "    def law1(a: A): Boolean = \n",
    "        equalA(to(from(a)), a)\n",
    "    \n",
    "    def law2(b: B): Boolean = \n",
    "        equalB(from(to(b)), b)\n",
    "}"
   ]
  },
  {
   "cell_type": "markdown",
   "metadata": {},
   "source": [
    "## Exercise 1"
   ]
  },
  {
   "cell_type": "markdown",
   "metadata": {},
   "source": [
    "### Part a)"
   ]
  },
  {
   "cell_type": "markdown",
   "metadata": {},
   "source": [
    "Prove that the isomorphism $1+1 \\cong Boolean$ holds by implementing the following bijections: "
   ]
  },
  {
   "cell_type": "code",
   "execution_count": 10,
   "metadata": {},
   "outputs": [
    {
     "name": "stderr",
     "output_type": "stream",
     "text": [
      "2 deprecations (since 2.11.0); re-run with -deprecation for details\n"
     ]
    },
    {
     "data": {
      "text/plain": [
       "defined \u001b[32mobject\u001b[39m \u001b[36mIso\u001b[39m"
      ]
     },
     "execution_count": 10,
     "metadata": {},
     "output_type": "execute_result"
    }
   ],
   "source": [
    "object Iso extends Isomorphic[Either[Unit, Unit], Boolean]{\n",
    " \n",
    "    def from(a: Either[Unit, Unit]): Boolean = \n",
    "        a match {\n",
    "            case Left  (()) => true\n",
    "            case Right (()) => false\n",
    "        }\n",
    "    \n",
    "    def to(a: Boolean): Either[Unit, Unit] = \n",
    "        if (a) Left ()\n",
    "        else Right ()\n",
    "    \n",
    "}"
   ]
  },
  {
   "cell_type": "markdown",
   "metadata": {},
   "source": [
    "Check that they are indeed mutual inverses, i.e. that for all $a: Boolean$, `toBoolean(fromBoolean(a))==a`, and that for all $a: Either[Unit, Unit]$, `fromBoolean(toBoolean(a))==a`."
   ]
  },
  {
   "cell_type": "code",
   "execution_count": 11,
   "metadata": {},
   "outputs": [
    {
     "data": {
      "text/plain": [
       "\u001b[36mv1\u001b[39m: \u001b[32mEither\u001b[39m[\u001b[32mUnit\u001b[39m, \u001b[32mUnit\u001b[39m] = \u001b[33mLeft\u001b[39m(value = ())\r\n",
       "\u001b[36mv2\u001b[39m: \u001b[32mEither\u001b[39m[\u001b[32mUnit\u001b[39m, \u001b[32mUnit\u001b[39m] = \u001b[33mRight\u001b[39m(value = ())\r\n",
       "\u001b[36mv3\u001b[39m: \u001b[32mBoolean\u001b[39m = \u001b[32mtrue\u001b[39m\r\n",
       "\u001b[36mv4\u001b[39m: \u001b[32mBoolean\u001b[39m = \u001b[32mfalse\u001b[39m\r\n",
       "\u001b[36mres11_4\u001b[39m: \u001b[32mEither\u001b[39m[\u001b[32mUnit\u001b[39m, \u001b[32mUnit\u001b[39m] = \u001b[33mLeft\u001b[39m(value = ())\r\n",
       "\u001b[36mres11_5\u001b[39m: \u001b[32mEither\u001b[39m[\u001b[32mUnit\u001b[39m, \u001b[32mUnit\u001b[39m] = \u001b[33mRight\u001b[39m(value = ())\r\n",
       "\u001b[36mres11_6\u001b[39m: \u001b[32mBoolean\u001b[39m = \u001b[32mtrue\u001b[39m\r\n",
       "\u001b[36mres11_7\u001b[39m: \u001b[32mBoolean\u001b[39m = \u001b[32mfalse\u001b[39m"
      ]
     },
     "execution_count": 11,
     "metadata": {},
     "output_type": "execute_result"
    }
   ],
   "source": [
    "val v1: Either[Unit, Unit] = Left (())\n",
    "val v2: Either[Unit, Unit] = Right (())\n",
    "val v3: Boolean = true\n",
    "val v4: Boolean = false\n",
    "\n",
    "// Comprobamos manualmente:\n",
    "\n",
    "Iso.to(Iso.from(v1))\n",
    "Iso.to(Iso.from(v2))\n",
    "Iso.from(Iso.to(v3))\n",
    "Iso.from(Iso.to(v4))\n",
    "\n",
    "// Utilizando aserciones: (si falla genera AssertionError, si no falla no dice nada)\n",
    "\n",
    "assert(Iso.law1(v1))\n",
    "assert(Iso.law1(v2))\n",
    "assert(Iso.law2(v3))\n",
    "assert(Iso.law2(v4))"
   ]
  },
  {
   "cell_type": "markdown",
   "metadata": {},
   "source": [
    "### Part b)"
   ]
  },
  {
   "cell_type": "markdown",
   "metadata": {},
   "source": [
    "Show that we can redefine `Option[A]` using `Either[A,Unit]`: "
   ]
  },
  {
   "cell_type": "code",
   "execution_count": 12,
   "metadata": {},
   "outputs": [
    {
     "name": "stderr",
     "output_type": "stream",
     "text": [
      "cell12.sc:11: abstract type pattern A is unchecked since it is eliminated by erasure\n",
      "            case Left (a: A) => Some(a)\n",
      "                          ^\n"
     ]
    },
    {
     "data": {
      "text/plain": [
       "defined \u001b[32mclass\u001b[39m \u001b[36mIso\u001b[39m"
      ]
     },
     "execution_count": 12,
     "metadata": {},
     "output_type": "execute_result"
    }
   ],
   "source": [
    "class Iso[A] extends Isomorphic[Option[A], Either[A, Unit]]{\n",
    "    \n",
    "    def from(o: Option[A]): Either[A, Unit] = \n",
    "        o match {\n",
    "            case Some (a) => Left (a)\n",
    "            case None => Right (())\n",
    "        }\n",
    "\n",
    "    def to(e: Either[A, Unit]): Option[A] = \n",
    "        e match {\n",
    "            case Left (a: A) => Some(a)\n",
    "            case Right (()) => None\n",
    "        }\n",
    "}"
   ]
  },
  {
   "cell_type": "markdown",
   "metadata": {},
   "source": [
    "Check that these functions are mutual inverses. For that, fix $A$ to particular types (e.g. `Boolean`, `Int`, etc.), and test the equivalences `from(to(e)) == e` and `to(from(o)) == o` for some values $o$ and $e$."
   ]
  },
  {
   "cell_type": "code",
   "execution_count": 18,
   "metadata": {},
   "outputs": [
    {
     "data": {
      "text/plain": [
       "\u001b[36mv5\u001b[39m: \u001b[32mOption\u001b[39m[\u001b[32mInt\u001b[39m] = \u001b[33mSome\u001b[39m(value = \u001b[32m1\u001b[39m)\r\n",
       "\u001b[36mv6\u001b[39m: \u001b[32mOption\u001b[39m[\u001b[32mInt\u001b[39m] = \u001b[32mNone\u001b[39m\r\n",
       "\u001b[36mv7\u001b[39m: \u001b[32mOption\u001b[39m[\u001b[32mBoolean\u001b[39m] = \u001b[33mSome\u001b[39m(value = \u001b[32mtrue\u001b[39m)\r\n",
       "\u001b[36mv8\u001b[39m: \u001b[32mOption\u001b[39m[\u001b[32mBoolean\u001b[39m] = \u001b[32mNone\u001b[39m\r\n",
       "\u001b[36mv9\u001b[39m: \u001b[32mEither\u001b[39m[\u001b[32mInt\u001b[39m, \u001b[32mUnit\u001b[39m] = \u001b[33mLeft\u001b[39m(value = \u001b[32m1\u001b[39m)\r\n",
       "\u001b[36mv10\u001b[39m: \u001b[32mEither\u001b[39m[\u001b[32mInt\u001b[39m, \u001b[32mUnit\u001b[39m] = \u001b[33mRight\u001b[39m(value = ())\r\n",
       "\u001b[36mv11\u001b[39m: \u001b[32mEither\u001b[39m[\u001b[32mBoolean\u001b[39m, \u001b[32mUnit\u001b[39m] = \u001b[33mLeft\u001b[39m(value = \u001b[32mtrue\u001b[39m)\r\n",
       "\u001b[36mv12\u001b[39m: \u001b[32mEither\u001b[39m[\u001b[32mBoolean\u001b[39m, \u001b[32mUnit\u001b[39m] = \u001b[33mRight\u001b[39m(value = ())\r\n",
       "\u001b[36mi\u001b[39m: \u001b[32mIso\u001b[39m[\u001b[32mInt\u001b[39m] = ammonite.$sess.cell12$Helper$Iso@2373c783\r\n",
       "\u001b[36mi2\u001b[39m: \u001b[32mIso\u001b[39m[\u001b[32mBoolean\u001b[39m] = ammonite.$sess.cell12$Helper$Iso@5beb0a8d"
      ]
     },
     "execution_count": 18,
     "metadata": {},
     "output_type": "execute_result"
    }
   ],
   "source": [
    "val v5: Option[Int] = Some (1)\n",
    "val v6: Option[Int] = None\n",
    "val v7: Option[Boolean] = Some(true)\n",
    "val v8: Option[Boolean] = None\n",
    "val v9: Either[Int, Unit] = Left (1)\n",
    "val v10: Either[Int, Unit] = Right (())\n",
    "val v11: Either[Boolean, Unit] = Left (true)\n",
    "val v12: Either[Boolean, Unit] = Right (())\n",
    "\n",
    "val i = new Iso[Int]\n",
    "val i2 = new Iso[Boolean]\n",
    "\n",
    "assert(i.law1(v5))\n",
    "assert(i.law1(v6))\n",
    "assert(i.law2(v9))\n",
    "assert(i.law2(v10))\n",
    "assert(i2.law1(v7))\n",
    "assert(i2.law1(v8))\n",
    "assert(i2.law2(v11))\n",
    "assert(i2.law2(v12))"
   ]
  },
  {
   "cell_type": "markdown",
   "metadata": {},
   "source": [
    "## Exercise 2"
   ]
  },
  {
   "cell_type": "markdown",
   "metadata": {},
   "source": [
    "How many functions are there of type `1+1+1 => Boolean`? Identify all of them as alternative implementations of the following signature: "
   ]
  },
  {
   "cell_type": "code",
   "execution_count": 5,
   "metadata": {},
   "outputs": [
    {
     "data": {
      "text/plain": [
       "defined \u001b[32mfunction\u001b[39m \u001b[36mg\u001b[39m\r\n",
       "defined \u001b[32mfunction\u001b[39m \u001b[36mg1\u001b[39m\r\n",
       "defined \u001b[32mfunction\u001b[39m \u001b[36mg2\u001b[39m\r\n",
       "defined \u001b[32mfunction\u001b[39m \u001b[36mg3\u001b[39m\r\n",
       "defined \u001b[32mfunction\u001b[39m \u001b[36mg4\u001b[39m\r\n",
       "defined \u001b[32mfunction\u001b[39m \u001b[36mg5\u001b[39m\r\n",
       "defined \u001b[32mfunction\u001b[39m \u001b[36mg6\u001b[39m\r\n",
       "defined \u001b[32mfunction\u001b[39m \u001b[36mg7\u001b[39m\r\n",
       "defined \u001b[32mfunction\u001b[39m \u001b[36mg8\u001b[39m"
      ]
     },
     "execution_count": 5,
     "metadata": {},
     "output_type": "execute_result"
    }
   ],
   "source": [
    "def g(e: Either[Unit, Either[Unit, Unit]]): Boolean = \n",
    "    e match {\n",
    "        case Left (()) => ??? // true o false\n",
    "        case Right (Left(())) => ??? // true o false\n",
    "        case Right (Right(())) => ??? // true o false\n",
    "    }\n",
    "\n",
    "// 2^3 = 8 funciones en total:\n",
    "\n",
    "def g1(e: Either[Unit, Either[Unit, Unit]]): Boolean = true\n",
    "def g2(e: Either[Unit, Either[Unit, Unit]]): Boolean = false\n",
    "def g3(e: Either[Unit, Either[Unit, Unit]]): Boolean = \n",
    "    e match {\n",
    "        case Left (()) => true\n",
    "        case Right (Left(())) => true\n",
    "        case Right (Right(())) => false\n",
    "    }\n",
    "def g4(e: Either[Unit, Either[Unit, Unit]]): Boolean = \n",
    "    e match {\n",
    "        case Left (()) => true\n",
    "        case Right (Left(())) => false\n",
    "        case Right (Right(())) => false\n",
    "    }\n",
    "def g5(e: Either[Unit, Either[Unit, Unit]]): Boolean = \n",
    "    e match {\n",
    "        case Left (()) => false\n",
    "        case Right (Left(())) => true\n",
    "        case Right (Right(())) => true\n",
    "    }\n",
    "def g6(e: Either[Unit, Either[Unit, Unit]]): Boolean = \n",
    "    e match {\n",
    "        case Left (()) => false\n",
    "        case Right (Left(())) => false\n",
    "        case Right (Right(())) => true\n",
    "    }\n",
    "def g7(e: Either[Unit, Either[Unit, Unit]]): Boolean = \n",
    "    e match {\n",
    "        case Left (()) => false\n",
    "        case Right (Left(())) => true\n",
    "        case Right (Right(())) => false\n",
    "    }\n",
    "def g8(e: Either[Unit, Either[Unit, Unit]]): Boolean = \n",
    "    e match {\n",
    "        case Left (()) => true\n",
    "        case Right (Left(())) => false\n",
    "        case Right (Right(())) => true\n",
    "    }"
   ]
  },
  {
   "cell_type": "markdown",
   "metadata": {},
   "source": [
    "Idem, as alternative lambda expressions:"
   ]
  },
  {
   "cell_type": "code",
   "execution_count": 20,
   "metadata": {},
   "outputs": [
    {
     "data": {
      "text/html": [
       "<div class=\"jp-RenderedText\">\n",
       "<pre><code><span style=\"color: rgb(0, 187, 187)\"><span class=\"ansi-cyan-fg\">f1</span></span>: <span style=\"color: rgb(0, 187, 0)\"><span class=\"ansi-green-fg\">Either</span></span>[<span style=\"color: rgb(0, 187, 0)\"><span class=\"ansi-green-fg\">Unit</span></span>, <span style=\"color: rgb(0, 187, 0)\"><span class=\"ansi-green-fg\">Either</span></span>[<span style=\"color: rgb(0, 187, 0)\"><span class=\"ansi-green-fg\">Unit</span></span>, <span style=\"color: rgb(0, 187, 0)\"><span class=\"ansi-green-fg\">Unit</span></span>]] =&gt; <span style=\"color: rgb(0, 187, 0)\"><span class=\"ansi-green-fg\">Boolean</span></span> = <span style=\"color: white\"><span class=\"ansi-white-fg\">[lazy]</span></span></code></pre>\n",
       "</div>"
      ],
      "text/plain": [
       "\u001b[36mf1\u001b[39m: \u001b[32mEither\u001b[39m[\u001b[32mUnit\u001b[39m, \u001b[32mEither\u001b[39m[\u001b[32mUnit\u001b[39m, \u001b[32mUnit\u001b[39m]] => \u001b[32mBoolean\u001b[39m = \u001b[37m[lazy]\u001b[39m"
      ]
     },
     "metadata": {},
     "output_type": "display_data"
    }
   ],
   "source": [
    "lazy val f1: Either[Unit, Either[Unit, Unit]] => Boolean = \n",
    "    {\n",
    "        case Left (()) => ??? // true o false\n",
    "        case Right (Left(())) => ??? // true o false\n",
    "        case Right (Right(())) => ??? // true o false\n",
    "    }"
   ]
  },
  {
   "cell_type": "markdown",
   "metadata": {},
   "source": [
    "## Exercise 3"
   ]
  },
  {
   "cell_type": "markdown",
   "metadata": {},
   "source": [
    "How many different implementations are there of the following function signature? Recall that two implementations will be considered different if the corresponding mathematical functions are different. Write all of them."
   ]
  },
  {
   "cell_type": "code",
   "execution_count": 4,
   "metadata": {},
   "outputs": [
    {
     "name": "stderr",
     "output_type": "stream",
     "text": [
      "10 deprecations (since 2.11.0); re-run with -deprecation for details\n"
     ]
    },
    {
     "data": {
      "text/plain": [
       "defined \u001b[32mfunction\u001b[39m \u001b[36mf\u001b[39m\r\n",
       "defined \u001b[32mfunction\u001b[39m \u001b[36mf1\u001b[39m\r\n",
       "defined \u001b[32mfunction\u001b[39m \u001b[36mf2\u001b[39m\r\n",
       "defined \u001b[32mfunction\u001b[39m \u001b[36mf3\u001b[39m\r\n",
       "defined \u001b[32mfunction\u001b[39m \u001b[36mf4\u001b[39m\r\n",
       "defined \u001b[32mfunction\u001b[39m \u001b[36mf5\u001b[39m\r\n",
       "defined \u001b[32mfunction\u001b[39m \u001b[36mf6\u001b[39m\r\n",
       "defined \u001b[32mfunction\u001b[39m \u001b[36mf7\u001b[39m\r\n",
       "defined \u001b[32mfunction\u001b[39m \u001b[36mf8\u001b[39m\r\n",
       "defined \u001b[32mfunction\u001b[39m \u001b[36mf9\u001b[39m"
      ]
     },
     "execution_count": 4,
     "metadata": {},
     "output_type": "execute_result"
    }
   ],
   "source": [
    "def f(b: Boolean): Either[Unit, Either[Unit, Unit]] = \n",
    "    if (b) { // importante poner b entre parentesis\n",
    "        Left (())\n",
    "        // Right (Left())\n",
    "        // Right (Right())\n",
    "    }\n",
    "    else {\n",
    "        Left (())\n",
    "        // Right (Left())\n",
    "        // Right (Right())\n",
    "    }\n",
    "// 3^2 = 9 funciones:\n",
    "\n",
    "def f1(b: Boolean): Either[Unit, Either[Unit, Unit]] = Left(())\n",
    "def f2(b: Boolean): Either[Unit, Either[Unit, Unit]] = Right(Left())\n",
    "def f3(b: Boolean): Either[Unit, Either[Unit, Unit]] = Right(Right())\n",
    "def f4(b: Boolean): Either[Unit, Either[Unit, Unit]] = \n",
    "    if (b) Left (())\n",
    "    else Right(Left())\n",
    "def f5(b: Boolean): Either[Unit, Either[Unit, Unit]] = \n",
    "    if (b) Left (())\n",
    "    else Right(Right())\n",
    "def f6(b: Boolean): Either[Unit, Either[Unit, Unit]] = \n",
    "    if (b) Right(Left())\n",
    "    else Left (())\n",
    "def f7(b: Boolean): Either[Unit, Either[Unit, Unit]] = \n",
    "    if (b) Right(Left())\n",
    "    else Right(Right())\n",
    "def f8(b: Boolean): Either[Unit, Either[Unit, Unit]] = \n",
    "    if (b) Right(Right())\n",
    "    else Left(())\n",
    "def f9(b: Boolean): Either[Unit, Either[Unit, Unit]] = \n",
    "    if (b) Right(Right())\n",
    "    else Right(Left())"
   ]
  },
  {
   "cell_type": "markdown",
   "metadata": {},
   "source": [
    "## Exercise 4"
   ]
  },
  {
   "cell_type": "markdown",
   "metadata": {},
   "source": [
    "Show that the following law holds for exponent types: $(Z^Y)^X \\cong Z^{Y*X}$, for all types $X$, $Y$ and $Z$."
   ]
  },
  {
   "cell_type": "code",
   "execution_count": 7,
   "metadata": {},
   "outputs": [
    {
     "data": {
      "text/plain": [
       "defined \u001b[32mclass\u001b[39m \u001b[36mIso\u001b[39m"
      ]
     },
     "execution_count": 7,
     "metadata": {},
     "output_type": "execute_result"
    }
   ],
   "source": [
    "class Iso[X, Y, Z] extends Isomorphic[X => (Y => Z), (Y, X) => Z]{\n",
    "    \n",
    "    // uncurry\n",
    "    def from(f: X => Y => Z): (Y, X) => Z = \n",
    "        (y, x) => f(x)(y)\n",
    " \n",
    "    // curry\n",
    "    def to(f: (Y, X) => Z): X => Y => Z = \n",
    "        x => y => f(y,x)\n",
    "}"
   ]
  },
  {
   "cell_type": "markdown",
   "metadata": {},
   "source": [
    "Implement function equality for the following signatures and check that both functions, `curry` and `uncurry`, are inverses of each other for two sample functions $ex1$ and $ex2$:  "
   ]
  },
  {
   "cell_type": "code",
   "execution_count": null,
   "metadata": {},
   "outputs": [],
   "source": [
    "def ex1: Boolean => Boolean => Boolean = \n",
    "    ???\n",
    "\n",
    "def ex2: (Boolean, Boolean) => Boolean = \n",
    "    ???"
   ]
  },
  {
   "cell_type": "markdown",
   "metadata": {},
   "source": [
    "Accordingly, we need to override the equality functions:"
   ]
  },
  {
   "cell_type": "code",
   "execution_count": null,
   "metadata": {},
   "outputs": [],
   "source": [
    "object Iso extends Iso[Boolean, Boolean, Boolean]{\n",
    "    \n",
    "    override def equalA(f1: Boolean => Boolean => Boolean, \n",
    "               f2: Boolean => Boolean => Boolean): Boolean = \n",
    "        ???\n",
    "    \n",
    "    override def equalB(f1: (Boolean, Boolean) => Boolean, \n",
    "               f2: (Boolean, Boolean) => Boolean): Boolean = \n",
    "        ???\n",
    "}"
   ]
  },
  {
   "cell_type": "markdown",
   "metadata": {},
   "source": [
    "Now, check that curry and uncurry are inverses of each other for sample\n",
    "functions `ex1` and `ex2`:\n"
   ]
  },
  {
   "cell_type": "code",
   "execution_count": null,
   "metadata": {},
   "outputs": [],
   "source": []
  },
  {
   "cell_type": "markdown",
   "metadata": {},
   "source": [
    "## Exercise 5"
   ]
  },
  {
   "cell_type": "markdown",
   "metadata": {},
   "source": [
    "Shows that the following law holds for exponent types: $(Y*Z)^X \\cong Y^X*Z^X$, for all types $X$, $Y$ and $Z$."
   ]
  },
  {
   "cell_type": "code",
   "execution_count": null,
   "metadata": {},
   "outputs": [],
   "source": [
    "// extends trait Isomorphic"
   ]
  },
  {
   "cell_type": "markdown",
   "metadata": {},
   "source": [
    "Fix the type parameters to particular types $A$, $B$ and $C$, implement equality for the corresponding signatures and check that both functions, `from[A, B, C]` and `to[A, B, C]`, are inverses of each other given two sample functions of your choice.  "
   ]
  },
  {
   "cell_type": "code",
   "execution_count": null,
   "metadata": {},
   "outputs": [],
   "source": [
    "// give two sample functions\n"
   ]
  },
  {
   "cell_type": "code",
   "execution_count": null,
   "metadata": {},
   "outputs": [],
   "source": [
    "// override equality functions\n"
   ]
  },
  {
   "cell_type": "code",
   "execution_count": null,
   "metadata": {},
   "outputs": [],
   "source": [
    "// test laws"
   ]
  },
  {
   "cell_type": "code",
   "execution_count": null,
   "metadata": {},
   "outputs": [],
   "source": []
  }
 ],
 "metadata": {
  "kernelspec": {
   "display_name": "Scala",
   "language": "scala",
   "name": "scala"
  },
  "language_info": {
   "codemirror_mode": "text/x-scala",
   "file_extension": ".sc",
   "mimetype": "text/x-scala",
   "name": "scala",
   "nbconvert_exporter": "script",
   "version": "2.13.11"
  }
 },
 "nbformat": 4,
 "nbformat_minor": 4
}
