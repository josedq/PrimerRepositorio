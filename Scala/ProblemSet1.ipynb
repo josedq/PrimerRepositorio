{
 "cells": [
  {
   "cell_type": "markdown",
   "metadata": {},
   "source": [
    "# Declarative Programming @ URJC\n",
    "# Functional programming\n",
    "## Problem Set 1: Functions"
   ]
  },
  {
   "cell_type": "markdown",
   "metadata": {},
   "source": [
    "## Exercise 1"
   ]
  },
  {
   "cell_type": "markdown",
   "metadata": {},
   "source": [
    "Implement the following _function-methods_ as standard _function-values_ without any syntactic sugar, i.e. as instances of the corresponding trait [Function1](https://www.scala-lang.org/api/current/scala/Function1.html), [Function2](https://www.scala-lang.org/api/current/scala/Function2.html), etc. Implement alternative versions using `object`/`val` declarations, and different levels of type inference."
   ]
  },
  {
   "cell_type": "code",
   "execution_count": null,
   "metadata": {},
   "outputs": [],
   "source": [
    "import scala.math._\n",
    "\n",
    "object FunctionMethods{\n",
    "    \n",
    "    def circleArea(radius: Double): Double = \n",
    "        Pi*pow(radius, 2)\n",
    "    \n",
    "    def triangleArea(base: Double, height: Double): Double = \n",
    "        base * height / 2\n",
    "    \n",
    "    def rectangleArea(width: Double, height: Double): Double = \n",
    "        width * height\n",
    "    \n",
    "    def trapezoidArea(width1: Double, width2: Double, height: Double): Double = \n",
    "        (width1 + width2) * height / 2 \n",
    "}"
   ]
  },
  {
   "cell_type": "code",
   "execution_count": 2,
   "metadata": {},
   "outputs": [
    {
     "data": {
      "text/plain": [
       "\u001b[32mimport \u001b[39m\u001b[36mscala.math._\u001b[39m\r\n",
       "defined \u001b[32mobject\u001b[39m \u001b[36mFunctionValuesNoSugar\u001b[39m"
      ]
     },
     "execution_count": 2,
     "metadata": {},
     "output_type": "execute_result"
    }
   ],
   "source": [
    "import scala.math._\n",
    "\n",
    "object FunctionValuesNoSugar{\n",
    "    \n",
    "    object circleArea extends Function1[Double, Double]{\n",
    "        def apply (radius: Double): Double =\n",
    "            Pi*pow(radius, 2)\n",
    "    }\n",
    "    \n",
    "    object triangleArea extends Function2[Double, Double, Double]{\n",
    "        def apply (base: Double, height: Double): Double =\n",
    "            base * height/2\n",
    "    }\n",
    "    \n",
    "    val rectangleArea = new Function2[Double, Double, Double]{\n",
    "        def apply (width: Double, height: Double): Double =\n",
    "            width * height\n",
    "    }\n",
    "    \n",
    "    val trapezoidArea: Function3[Double, Double,  Double, Double] =\n",
    "        new Function3[Double, Double, Double, Double]{\n",
    "            def apply (width1: Double, width2: Double, height: Double): Double =\n",
    "                (width1 + width2) * height / 2\n",
    "        }\n",
    "}"
   ]
  },
  {
   "cell_type": "code",
   "execution_count": 4,
   "metadata": {},
   "outputs": [
    {
     "data": {
      "text/plain": [
       "\u001b[36ma1\u001b[39m: \u001b[32mDouble\u001b[39m = \u001b[32m12.566370614359172\u001b[39m\r\n",
       "\u001b[36ma2\u001b[39m: \u001b[32mDouble\u001b[39m = \u001b[32m16.56\u001b[39m\r\n",
       "\u001b[36ma3\u001b[39m: \u001b[32mDouble\u001b[39m = \u001b[32m38.5\u001b[39m\r\n",
       "\u001b[36ma4\u001b[39m: \u001b[32mDouble\u001b[39m = \u001b[32m30.0\u001b[39m"
      ]
     },
     "execution_count": 4,
     "metadata": {},
     "output_type": "execute_result"
    }
   ],
   "source": [
    "val a1 = FunctionValuesNoSugar.circleArea(2.0)\n",
    "val a2 = FunctionValuesNoSugar.triangleArea(4.8, 6.9)\n",
    "val a3 = FunctionValuesNoSugar.rectangleArea(11, 3.5)\n",
    "val a4 = FunctionValuesNoSugar.trapezoidArea(2,8,6)"
   ]
  },
  {
   "cell_type": "markdown",
   "metadata": {},
   "source": [
    "## Exercise 2"
   ]
  },
  {
   "cell_type": "markdown",
   "metadata": {},
   "source": [
    "The same as in exercise 1, but using lambda expressions. Implement alternative versions with different levels of type inference and syntactic sugar (e.g. using _underscore_ syntax)."
   ]
  },
  {
   "cell_type": "code",
   "execution_count": 5,
   "metadata": {},
   "outputs": [
    {
     "data": {
      "text/plain": [
       "\u001b[32mimport \u001b[39m\u001b[36mscala.math._\u001b[39m\r\n",
       "defined \u001b[32mobject\u001b[39m \u001b[36mFunctionValuesSugar\u001b[39m"
      ]
     },
     "execution_count": 5,
     "metadata": {},
     "output_type": "execute_result"
    }
   ],
   "source": [
    "import scala.math._\n",
    "\n",
    "object FunctionValuesSugar{\n",
    "    \n",
    "    val circleArea: Double => Double =\n",
    "        radius => Pi*pow(radius, 2)\n",
    "            \n",
    "    val triangleArea: (Double, Double) => Double =\n",
    "        (base, height) => base * height / 2\n",
    "        \n",
    "    val rectangleArea =\n",
    "        (width: Double, height: Double) => width * height\n",
    "    \n",
    "    val trapezoidArea: (Double, Double, Double) => Double =\n",
    "        (width1, width2, height) => (width1 + width2) * height / 2\n",
    "\n",
    "    // Otra manera\n",
    "\n",
    "    //val trapezoidArea= \n",
    "    //   (width1: Double, width2: Double, height: Double) = (width1 + width2) * height / 2\n",
    "}"
   ]
  },
  {
   "cell_type": "code",
   "execution_count": 6,
   "metadata": {},
   "outputs": [
    {
     "data": {
      "text/plain": [
       "\u001b[36ma5\u001b[39m: \u001b[32mDouble\u001b[39m = \u001b[32m12.566370614359172\u001b[39m\r\n",
       "\u001b[36ma6\u001b[39m: \u001b[32mDouble\u001b[39m = \u001b[32m16.56\u001b[39m\r\n",
       "\u001b[36ma7\u001b[39m: \u001b[32mDouble\u001b[39m = \u001b[32m38.5\u001b[39m\r\n",
       "\u001b[36ma8\u001b[39m: \u001b[32mDouble\u001b[39m = \u001b[32m30.0\u001b[39m"
      ]
     },
     "execution_count": 6,
     "metadata": {},
     "output_type": "execute_result"
    }
   ],
   "source": [
    "val a5 = FunctionValuesSugar.circleArea(2.0)\n",
    "val a6 = FunctionValuesSugar.triangleArea(4.8, 6.9)\n",
    "val a7 = FunctionValuesSugar.rectangleArea(11, 3.5)\n",
    "val a8 = FunctionValuesSugar.trapezoidArea(2,8,6)"
   ]
  },
  {
   "cell_type": "markdown",
   "metadata": {},
   "source": [
    "## Exercise 3 "
   ]
  },
  {
   "cell_type": "markdown",
   "metadata": {},
   "source": [
    "Implement the function-methods as _currified_ function-values."
   ]
  },
  {
   "cell_type": "code",
   "execution_count": 7,
   "metadata": {},
   "outputs": [
    {
     "data": {
      "text/plain": [
       "\u001b[32mimport \u001b[39m\u001b[36mscala.math._\u001b[39m\r\n",
       "defined \u001b[32mobject\u001b[39m \u001b[36mFunctionValuesCurrified\u001b[39m"
      ]
     },
     "execution_count": 7,
     "metadata": {},
     "output_type": "execute_result"
    }
   ],
   "source": [
    "import scala.math._\n",
    "\n",
    "object FunctionValuesCurrified{\n",
    "    \n",
    "    val circleArea =\n",
    "        (radius: Double) => Pi*pow(radius, 2)\n",
    "    \n",
    "    val triangleArea =\n",
    "        (base: Double) => (height: Double) => base * height / 2\n",
    "    \n",
    "    val rectangleArea = \n",
    "        (width: Double) => (height: Double) => width * height\n",
    "    \n",
    "    val trapezoidArea =\n",
    "        (width1: Double) => (width2: Double) => (height: Double) => (width1 + width2) * height / 2\n",
    "}"
   ]
  },
  {
   "cell_type": "code",
   "execution_count": 8,
   "metadata": {},
   "outputs": [
    {
     "data": {
      "text/plain": [
       "\u001b[36ma9\u001b[39m: \u001b[32mDouble\u001b[39m = \u001b[32m12.566370614359172\u001b[39m\r\n",
       "\u001b[36ma10\u001b[39m: \u001b[32mDouble\u001b[39m = \u001b[32m16.56\u001b[39m\r\n",
       "\u001b[36ma11\u001b[39m: \u001b[32mDouble\u001b[39m = \u001b[32m38.5\u001b[39m\r\n",
       "\u001b[36ma12\u001b[39m: \u001b[32mDouble\u001b[39m = \u001b[32m30.0\u001b[39m"
      ]
     },
     "execution_count": 8,
     "metadata": {},
     "output_type": "execute_result"
    }
   ],
   "source": [
    "val a9 = FunctionValuesCurrified.circleArea(2.0)\n",
    "val a10 = FunctionValuesCurrified.triangleArea(4.8)(6.9)\n",
    "val a11 = FunctionValuesCurrified.rectangleArea(11)(3.5)\n",
    "val a12 = FunctionValuesCurrified.trapezoidArea(2)(8)(6)"
   ]
  },
  {
   "cell_type": "markdown",
   "metadata": {},
   "source": [
    "## Exercise 4"
   ]
  },
  {
   "cell_type": "markdown",
   "metadata": {},
   "source": [
    "Given the following monomorphic version of the `call` HOF "
   ]
  },
  {
   "cell_type": "code",
   "execution_count": null,
   "metadata": {},
   "outputs": [],
   "source": [
    "def call(f: Int => Int, a: Int): Int =\n",
    "    f(a)"
   ]
  },
  {
   "cell_type": "markdown",
   "metadata": {},
   "source": [
    "implement a polymorphic version as a function-method, so that it can work with multiple types (i.e. not only with functions of type `Int => Int`). Test that your implementation is correct by checking that the following examples compile and work as expected."
   ]
  },
  {
   "cell_type": "code",
   "execution_count": 6,
   "metadata": {},
   "outputs": [
    {
     "data": {
      "text/plain": [
       "defined \u001b[32mfunction\u001b[39m \u001b[36mcallPolym\u001b[39m\r\n",
       "defined \u001b[32mfunction\u001b[39m \u001b[36mcallPolym2\u001b[39m"
      ]
     },
     "execution_count": 6,
     "metadata": {},
     "output_type": "execute_result"
    }
   ],
   "source": [
    "// Incorrecta:\n",
    "\n",
    "def callPolym [A,B] (f: A => B, a: A): A => B = // Estoy devolviendo una funcion (despues de : se pone lo que devuelve)\n",
    "    a => f(a)\n",
    "\n",
    "// Correcta:\n",
    "\n",
    "def callPolym2 [A, B] (f: A => B, a: A): B = f(a)"
   ]
  },
  {
   "cell_type": "code",
   "execution_count": 8,
   "metadata": {},
   "outputs": [
    {
     "data": {
      "text/plain": [
       "\u001b[36mres8_0\u001b[39m: \u001b[32mInt\u001b[39m = \u001b[32m2\u001b[39m\r\n",
       "\u001b[36mres8_1\u001b[39m: \u001b[32mInt\u001b[39m = \u001b[32m4\u001b[39m\r\n",
       "\u001b[36mres8_2\u001b[39m: \u001b[32mString\u001b[39m = \u001b[32m\"hello, pepe\"\u001b[39m\r\n",
       "\u001b[36mres8_3\u001b[39m: \u001b[32mBoolean\u001b[39m = \u001b[32mtrue\u001b[39m\r\n",
       "\u001b[36mres8_4\u001b[39m: \u001b[32mBoolean\u001b[39m = \u001b[32mfalse\u001b[39m"
      ]
     },
     "execution_count": 8,
     "metadata": {},
     "output_type": "execute_result"
    }
   ],
   "source": [
    "callPolym2[Int, Int](_ + 1,1)\n",
    "callPolym2((i: Int) => i+1, 3)\n",
    "callPolym2(\"hello, \" + _, \"pepe\")\n",
    "callPolym2((_ : Int) > 0, 3)\n",
    "callPolym2((i: Int) => i < 0, 2)"
   ]
  },
  {
   "cell_type": "code",
   "execution_count": null,
   "metadata": {},
   "outputs": [],
   "source": [
    "// call[Int, Int](_ + 1, 1)\n",
    "// call((i: Int) => i+1, 3)\n",
    "// call(\"hello, \" + _, \"pepe\")\n",
    "// call((_ : Int) > 0, 3)\n",
    "// call((i: Int) => i < 0, 2)"
   ]
  },
  {
   "cell_type": "markdown",
   "metadata": {},
   "source": [
    "## Exercise 5"
   ]
  },
  {
   "cell_type": "markdown",
   "metadata": {},
   "source": [
    "Given the following monomorphic version of the `call` HOF "
   ]
  },
  {
   "cell_type": "code",
   "execution_count": null,
   "metadata": {},
   "outputs": [],
   "source": [
    "def call(f: Int => Int)(a: Int): Int =\n",
    "    f(a)"
   ]
  },
  {
   "cell_type": "markdown",
   "metadata": {},
   "source": [
    "implement a polymorphic version as a currified function-value, so that it can work with multiple types. The implementation must comply with the following template:"
   ]
  },
  {
   "cell_type": "code",
   "execution_count": 9,
   "metadata": {},
   "outputs": [
    {
     "data": {
      "text/plain": [
       "defined \u001b[32mfunction\u001b[39m \u001b[36mcall\u001b[39m\r\n",
       "defined \u001b[32mfunction\u001b[39m \u001b[36mcall2\u001b[39m"
      ]
     },
     "execution_count": 9,
     "metadata": {},
     "output_type": "execute_result"
    }
   ],
   "source": [
    "def call[A, B]: (A => B) => A => B = \n",
    "    (f: A => B) => (a: A) => f(a)\n",
    "\n",
    "// Mas compacto:\n",
    "\n",
    "def call2[A, B]=\n",
    "    (f: A => B) => (a: A) => f(a)"
   ]
  },
  {
   "cell_type": "markdown",
   "metadata": {},
   "source": [
    "Test that your implementation is correct by checking that the following examples compile and work as expected."
   ]
  },
  {
   "cell_type": "code",
   "execution_count": 11,
   "metadata": {},
   "outputs": [
    {
     "data": {
      "text/plain": [
       "\u001b[36mres11_0\u001b[39m: \u001b[32mInt\u001b[39m = \u001b[32m2\u001b[39m\r\n",
       "\u001b[36mres11_1\u001b[39m: \u001b[32mInt\u001b[39m = \u001b[32m4\u001b[39m\r\n",
       "\u001b[36mres11_2\u001b[39m: \u001b[32mString\u001b[39m = \u001b[32m\"hello, pepe\"\u001b[39m\r\n",
       "\u001b[36mres11_3\u001b[39m: \u001b[32mBoolean\u001b[39m = \u001b[32mtrue\u001b[39m\r\n",
       "\u001b[36mres11_4\u001b[39m: \u001b[32mBoolean\u001b[39m = \u001b[32mfalse\u001b[39m"
      ]
     },
     "execution_count": 11,
     "metadata": {},
     "output_type": "execute_result"
    }
   ],
   "source": [
    "call[Int, Int](_ + 1)(1)\n",
    "call((i: Int) => i+1)(3)\n",
    "call(\"hello, \" + _)(\"pepe\")\n",
    "call((_ : Int) > 0)(3)\n",
    "call((i: Int) => i < 0)(2)"
   ]
  },
  {
   "cell_type": "markdown",
   "metadata": {},
   "source": [
    "## Exercise 6"
   ]
  },
  {
   "cell_type": "markdown",
   "metadata": {},
   "source": [
    "Implement the identity laws of function composition:\n",
    "1. `(identity[B] compose f)(a) == f(a)` for all `f: A => B`, `a: A`\n",
    "2. `(f compose identity[A])(a) == f(a)` for all `f: A => B`, `a: A`"
   ]
  },
  {
   "cell_type": "code",
   "execution_count": 12,
   "metadata": {},
   "outputs": [
    {
     "data": {
      "text/plain": [
       "defined \u001b[32mfunction\u001b[39m \u001b[36midentityRightLaw\u001b[39m"
      ]
     },
     "execution_count": 12,
     "metadata": {},
     "output_type": "execute_result"
    }
   ],
   "source": [
    "def identityRightLaw[A, B](f: A => B, a: A): Boolean = \n",
    "    (f compose identity[A])(a) == f(a)"
   ]
  },
  {
   "cell_type": "code",
   "execution_count": 13,
   "metadata": {},
   "outputs": [
    {
     "data": {
      "text/plain": [
       "defined \u001b[32mfunction\u001b[39m \u001b[36midentityLeftLaw\u001b[39m"
      ]
     },
     "execution_count": 13,
     "metadata": {},
     "output_type": "execute_result"
    }
   ],
   "source": [
    "def identityLeftLaw[A, B](f: A => B, a: A): Boolean = \n",
    "    (identity[B]_ compose f)(a) == f(a)"
   ]
  },
  {
   "cell_type": "code",
   "execution_count": 15,
   "metadata": {},
   "outputs": [
    {
     "data": {
      "text/plain": [
       "\u001b[36mres15_0\u001b[39m: \u001b[32mBoolean\u001b[39m = \u001b[32mtrue\u001b[39m\r\n",
       "\u001b[36mres15_1\u001b[39m: \u001b[32mBoolean\u001b[39m = \u001b[32mtrue\u001b[39m"
      ]
     },
     "execution_count": 15,
     "metadata": {},
     "output_type": "execute_result"
    }
   ],
   "source": [
    "identityRightLaw[Int, Int](_+1,5)\n",
    "identityLeftLaw((i: Int) => i / 3, 6)"
   ]
  }
 ],
 "metadata": {
  "kernelspec": {
   "display_name": "Scala",
   "language": "scala",
   "name": "scala"
  },
  "language_info": {
   "codemirror_mode": "text/x-scala",
   "file_extension": ".sc",
   "mimetype": "text/x-scala",
   "name": "scala",
   "nbconvert_exporter": "script",
   "version": "2.13.11"
  }
 },
 "nbformat": 4,
 "nbformat_minor": 4
}
