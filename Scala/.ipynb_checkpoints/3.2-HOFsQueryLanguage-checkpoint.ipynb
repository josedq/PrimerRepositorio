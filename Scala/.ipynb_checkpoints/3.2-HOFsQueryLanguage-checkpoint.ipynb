{
 "cells": [
  {
   "cell_type": "markdown",
   "metadata": {},
   "source": [
    "# Scala's Collection Library"
   ]
  },
  {
   "cell_type": "code",
   "execution_count": 1,
   "metadata": {},
   "outputs": [
    {
     "data": {
      "text/plain": [
       "\u001b[32mimport \u001b[39m\u001b[36m$ivy.$\u001b[39m\r\n",
       "\u001b[32mimport \u001b[39m\u001b[36m_root_.org.scalatest._\u001b[39m"
      ]
     },
     "execution_count": 1,
     "metadata": {},
     "output_type": "execute_result"
    }
   ],
   "source": [
    "import $ivy.`org.scalatest::scalatest:3.0.8`\n",
    "import _root_.org.scalatest._"
   ]
  },
  {
   "cell_type": "markdown",
   "metadata": {},
   "source": [
    "### References\n",
    "\n",
    "A gentle guide to the Scala's collection library can be found online in the Scala site:\n",
    "\n",
    "https://docs.scala-lang.org/overviews/collections-2.13/introduction.html"
   ]
  },
  {
   "cell_type": "markdown",
   "metadata": {},
   "source": [
    "[__Programming in Scala, \n",
    "A comprehensive step-by-step guide__](https://www.artima.com/shop/programming_in_scala_3ed) Third Edition.\n",
    "by Martin Odersky, Lex Spoon, and Bill Venners. \n",
    "\n",
    "- Chapter 11. Scala's Hierarchy \n",
    "- Chapter 17. Working with Other Collections\n",
    "- Chapter 24. Collections in Depth\n",
    "- Chapter 25. The Architecture of Scala Collections\n",
    "\n",
    "[__Functional programming in Scala__](https://www.manning.com/books/functional-programming-in-scala), by Paul Chiusano and Runar Bjarnason.\n",
    "\n",
    "- Chapter 3. Functional data structures\n",
    "\n",
    "[__Functional programming simplified__](https://alvinalexander.com/downloads/fpsimplified-free-preview.pdf), by Alvin Alexander.\n",
    "\n",
    "- Chapters 29-36. Recursion."
   ]
  },
  {
   "cell_type": "markdown",
   "metadata": {},
   "source": [
    "## Collection types"
   ]
  },
  {
   "cell_type": "markdown",
   "metadata": {},
   "source": [
    "Collection types can be classified along two major dimensions:\n",
    "- Mutable/Immutable: mutable collections can be modified in-place; immutable collections return a new instance when they are updated.\n",
    "- Sequences/Sets/Maps. These are ordered/unordered collections and key-value collections, respectively. \n",
    "\n",
    "There are many different implementations of sequences, sets and maps, as summarized by these figures (cf. Scala's [guide](https://docs.scala-lang.org/overviews/collections-2.13/overview.html))"
   ]
  },
  {
   "cell_type": "markdown",
   "metadata": {},
   "source": [
    "![](images/collections-hierarchy.svg)"
   ]
  },
  {
   "cell_type": "markdown",
   "metadata": {},
   "source": [
    "![](images/collections-hierarchy-inmutable.svg)"
   ]
  },
  {
   "cell_type": "markdown",
   "metadata": {},
   "source": [
    "![](images/collections-mutable.svg)"
   ]
  },
  {
   "cell_type": "markdown",
   "metadata": {},
   "source": [
    "How do we choose from this huge number of collection types and implementations? The colletion type is chosen according to the functionality that we demand from our collection, e.g., should it be _ordered_?, can there be repeated elements?, are elements associated with keys?, etc. In order to choose the right implementation of the collection type (e.g. should I use a `Vector` or a `List`?) we must take into account the complexity of the corresponding implementation: \n",
    "\n",
    "https://docs.scala-lang.org/overviews/collections-2.13/performance-characteristics.html\n",
    "\n",
    "From now on, we will work with immutable collection types only."
   ]
  },
  {
   "cell_type": "markdown",
   "metadata": {},
   "source": [
    "## `Map`s of key-value pairs"
   ]
  },
  {
   "cell_type": "markdown",
   "metadata": {},
   "source": [
    "`Map`s are key-value collections (i.e. they are like sets of key-value pairs indexed by their keys)."
   ]
  },
  {
   "cell_type": "code",
   "execution_count": null,
   "metadata": {},
   "outputs": [],
   "source": [
    "val m: Map[String, Int] = \n",
    "    Map((\"a\", 5), (\"b\", 10), (\"c\", 11))"
   ]
  },
  {
   "cell_type": "markdown",
   "metadata": {},
   "source": [
    "Specially for key-value pairs, we commonly write `Tuple2` values with the following syntax: "
   ]
  },
  {
   "cell_type": "code",
   "execution_count": 2,
   "metadata": {},
   "outputs": [
    {
     "data": {
      "text/plain": [
       "\u001b[36mm\u001b[39m: \u001b[32mMap\u001b[39m[\u001b[32mString\u001b[39m, \u001b[32mInt\u001b[39m] = \u001b[33mMap\u001b[39m(\u001b[32m\"a\"\u001b[39m -> \u001b[32m5\u001b[39m, \u001b[32m\"b\"\u001b[39m -> \u001b[32m10\u001b[39m, \u001b[32m\"c\"\u001b[39m -> \u001b[32m11\u001b[39m)"
      ]
     },
     "execution_count": 2,
     "metadata": {},
     "output_type": "execute_result"
    }
   ],
   "source": [
    "val m: Map[String, Int] = \n",
    "    Map(\"a\" -> 5, \"b\" -> 10, \"c\" -> 11)"
   ]
  },
  {
   "cell_type": "markdown",
   "metadata": {},
   "source": [
    "Common operations on maps: "
   ]
  },
  {
   "cell_type": "code",
   "execution_count": 3,
   "metadata": {},
   "outputs": [
    {
     "name": "stderr",
     "output_type": "stream",
     "text": [
      "cell3.sc:5: This catches all Throwables. If this is really intended, use `case _ : Throwable` to clear this warning.\n",
      "val res3_2 = try{ m(\"d\") } catch { case _ => \"exception raised\" }\n",
      "                                        ^\n"
     ]
    },
    {
     "data": {
      "text/plain": [
       "\u001b[36mres3_0\u001b[39m: \u001b[32mInt\u001b[39m = \u001b[32m5\u001b[39m\r\n",
       "\u001b[36mres3_1\u001b[39m: \u001b[32mOption\u001b[39m[\u001b[32mInt\u001b[39m] = \u001b[33mSome\u001b[39m(value = \u001b[32m5\u001b[39m)\r\n",
       "\u001b[36mres3_2\u001b[39m: \u001b[32mAny\u001b[39m = \u001b[32m\"exception raised\"\u001b[39m\r\n",
       "\u001b[36mres3_3\u001b[39m: \u001b[32mOption\u001b[39m[\u001b[32mInt\u001b[39m] = \u001b[32mNone\u001b[39m"
      ]
     },
     "execution_count": 3,
     "metadata": {},
     "output_type": "execute_result"
    }
   ],
   "source": [
    "// retrieving values of existing and non-existing keys\n",
    "\n",
    "m(\"a\"): Int\n",
    "m.get(\"a\"): Option[Int]\n",
    "try{ m(\"d\") } catch { case _ => \"exception raised\" }\n",
    "m.get(\"d\")"
   ]
  },
  {
   "cell_type": "code",
   "execution_count": 4,
   "metadata": {},
   "outputs": [
    {
     "data": {
      "text/plain": [
       "\u001b[36mres4_0\u001b[39m: \u001b[32mIterable\u001b[39m[\u001b[32mString\u001b[39m] = \u001b[33mSet\u001b[39m(\u001b[32m\"a\"\u001b[39m, \u001b[32m\"b\"\u001b[39m, \u001b[32m\"c\"\u001b[39m)\r\n",
       "\u001b[36mres4_1\u001b[39m: \u001b[32mIterable\u001b[39m[\u001b[32mInt\u001b[39m] = \u001b[33mIterable\u001b[39m(\u001b[32m5\u001b[39m, \u001b[32m10\u001b[39m, \u001b[32m11\u001b[39m)"
      ]
     },
     "execution_count": 4,
     "metadata": {},
     "output_type": "execute_result"
    }
   ],
   "source": [
    "// retrieving all keys and values\n",
    "\n",
    "m.keys: Iterable[String]\n",
    "m.values: Iterable[Int]"
   ]
  },
  {
   "cell_type": "markdown",
   "metadata": {},
   "source": [
    "The default implementation types of these `Iterable`s are `collection.immutable.Set` and the general `View` type. Views are _lazy_ collections which offer better performance. For more information on views consult the Scala [guide](https://docs.scala-lang.org/overviews/collections-2.13/views.html). The only thing that we need from views and the general `Iterable` collection type is that they can be converted to a concrete collection type with conversors `toList`, `toSet`, `toMap`, etc. "
   ]
  },
  {
   "cell_type": "code",
   "execution_count": 5,
   "metadata": {},
   "outputs": [
    {
     "data": {
      "text/plain": [
       "\u001b[36mres5_0\u001b[39m: \u001b[32mList\u001b[39m[\u001b[32mString\u001b[39m] = \u001b[33mList\u001b[39m(\u001b[32m\"a\"\u001b[39m, \u001b[32m\"b\"\u001b[39m, \u001b[32m\"c\"\u001b[39m)\r\n",
       "\u001b[36mres5_1\u001b[39m: \u001b[32mSet\u001b[39m[\u001b[32mString\u001b[39m] = \u001b[33mSet\u001b[39m(\u001b[32m\"a\"\u001b[39m, \u001b[32m\"b\"\u001b[39m, \u001b[32m\"c\"\u001b[39m)\r\n",
       "\u001b[36mres5_2\u001b[39m: \u001b[32mList\u001b[39m[\u001b[32mInt\u001b[39m] = \u001b[33mList\u001b[39m(\u001b[32m5\u001b[39m, \u001b[32m10\u001b[39m, \u001b[32m11\u001b[39m)\r\n",
       "\u001b[36mres5_3\u001b[39m: \u001b[32mSet\u001b[39m[\u001b[32mInt\u001b[39m] = \u001b[33mSet\u001b[39m(\u001b[32m5\u001b[39m, \u001b[32m10\u001b[39m, \u001b[32m11\u001b[39m)"
      ]
     },
     "execution_count": 5,
     "metadata": {},
     "output_type": "execute_result"
    }
   ],
   "source": [
    "// Converting to proper implementation types\n",
    "m.keys.toList\n",
    "m.keys.toSet\n",
    "m.values.toList\n",
    "m.values.toSet"
   ]
  },
  {
   "cell_type": "markdown",
   "metadata": {},
   "source": [
    "We can also convert optional values to collection types: "
   ]
  },
  {
   "cell_type": "code",
   "execution_count": 6,
   "metadata": {},
   "outputs": [
    {
     "data": {
      "text/plain": [
       "\u001b[36mres6_0\u001b[39m: \u001b[32mSet\u001b[39m[\u001b[32mInt\u001b[39m] = \u001b[33mSet\u001b[39m(\u001b[32m1\u001b[39m)\r\n",
       "\u001b[36mres6_1\u001b[39m: \u001b[32mList\u001b[39m[\u001b[32mInt\u001b[39m] = \u001b[33mList\u001b[39m(\u001b[32m0\u001b[39m)\r\n",
       "\u001b[36mres6_2\u001b[39m: \u001b[32mSet\u001b[39m[\u001b[32mNothing\u001b[39m] = \u001b[33mSet\u001b[39m()\r\n",
       "\u001b[36mres6_3\u001b[39m: \u001b[32mList\u001b[39m[\u001b[32mNothing\u001b[39m] = \u001b[33mList\u001b[39m()"
      ]
     },
     "execution_count": 6,
     "metadata": {},
     "output_type": "execute_result"
    }
   ],
   "source": [
    "Some(1).toSet\n",
    "Some(0).toList\n",
    "None.toSet\n",
    "None.toList"
   ]
  },
  {
   "cell_type": "code",
   "execution_count": 9,
   "metadata": {},
   "outputs": [
    {
     "name": "stderr",
     "output_type": "stream",
     "text": [
      "1 deprecation (since 2.13.0); re-run with -deprecation for details\n"
     ]
    },
    {
     "data": {
      "text/plain": [
       "\u001b[36mm2\u001b[39m: \u001b[32mMap\u001b[39m[\u001b[32mString\u001b[39m, \u001b[32mBoolean\u001b[39m] = \u001b[33mMap\u001b[39m(\u001b[32m\"a\"\u001b[39m -> \u001b[32mfalse\u001b[39m, \u001b[32m\"b\"\u001b[39m -> \u001b[32mtrue\u001b[39m, \u001b[32m\"c\"\u001b[39m -> \u001b[32mfalse\u001b[39m)"
      ]
     },
     "execution_count": 9,
     "metadata": {},
     "output_type": "execute_result"
    }
   ],
   "source": [
    "// Mapping values (toMap is required to convert the view type `MapView` to `Map`)\n",
    "\n",
    "val m2: Map[String, Boolean] = \n",
    "    m.mapValues((value: Int) => value % 2 == 0).toMap"
   ]
  },
  {
   "cell_type": "code",
   "execution_count": 10,
   "metadata": {},
   "outputs": [
    {
     "data": {
      "text/plain": [
       "\u001b[36mres10_0\u001b[39m: \u001b[32mcollection\u001b[39m.\u001b[32mimmutable\u001b[39m.\u001b[32mIterable\u001b[39m[\u001b[32mBoolean\u001b[39m] = \u001b[33mList\u001b[39m(\u001b[32mfalse\u001b[39m, \u001b[32mtrue\u001b[39m, \u001b[32mfalse\u001b[39m)\r\n",
       "\u001b[36mres10_1\u001b[39m: \u001b[32mcollection\u001b[39m.\u001b[32mimmutable\u001b[39m.\u001b[32mIterable\u001b[39m[\u001b[32mBoolean\u001b[39m] = \u001b[33mList\u001b[39m(\u001b[32mfalse\u001b[39m, \u001b[32mtrue\u001b[39m, \u001b[32mfalse\u001b[39m)"
      ]
     },
     "execution_count": 10,
     "metadata": {},
     "output_type": "execute_result"
    }
   ],
   "source": [
    "// Mapping whole entries, not only values\n",
    "\n",
    "m.map((entry: (String, Int)) => entry._2 % 2 == 0)\n",
    "m.map{ case (key: String, value: Int) => value % 2 == 0 }"
   ]
  },
  {
   "cell_type": "code",
   "execution_count": 15,
   "metadata": {},
   "outputs": [
    {
     "data": {
      "text/plain": [
       "\u001b[36mres15\u001b[39m: \u001b[32mMap\u001b[39m[\u001b[32mString\u001b[39m, \u001b[32mInt\u001b[39m] = \u001b[33mMap\u001b[39m(\u001b[32m\"c\"\u001b[39m -> \u001b[32m11\u001b[39m)"
      ]
     },
     "execution_count": 15,
     "metadata": {},
     "output_type": "execute_result"
    }
   ],
   "source": [
    "// Filter also return a general iterable (a list, by default)\n",
    "m.filter{ case (key: String, value: Int) => value > 10 }"
   ]
  },
  {
   "cell_type": "markdown",
   "metadata": {},
   "source": [
    "We can obtain a `Map` from a list of pairs with `toMap`:"
   ]
  },
  {
   "cell_type": "code",
   "execution_count": 16,
   "metadata": {},
   "outputs": [
    {
     "data": {
      "text/plain": [
       "\u001b[36ml\u001b[39m: \u001b[32mList\u001b[39m[(\u001b[32mInt\u001b[39m, \u001b[32mString\u001b[39m)] = \u001b[33mList\u001b[39m((\u001b[32m1\u001b[39m, \u001b[32m\"a\"\u001b[39m), (\u001b[32m2\u001b[39m, \u001b[32m\"b\"\u001b[39m), (\u001b[32m1\u001b[39m, \u001b[32m\"c\"\u001b[39m), (\u001b[32m2\u001b[39m, \u001b[32m\"d\"\u001b[39m), (\u001b[32m3\u001b[39m, \u001b[32m\"a\"\u001b[39m))\r\n",
       "\u001b[36mres16_1\u001b[39m: \u001b[32mMap\u001b[39m[\u001b[32mInt\u001b[39m, \u001b[32mString\u001b[39m] = \u001b[33mMap\u001b[39m(\u001b[32m1\u001b[39m -> \u001b[32m\"c\"\u001b[39m, \u001b[32m2\u001b[39m -> \u001b[32m\"d\"\u001b[39m, \u001b[32m3\u001b[39m -> \u001b[32m\"a\"\u001b[39m)"
      ]
     },
     "execution_count": 16,
     "metadata": {},
     "output_type": "execute_result"
    }
   ],
   "source": [
    "val l: List[(Int, String)] =  \n",
    "    List((1, \"a\"), (2, \"b\"), (1, \"c\"), (2, \"d\"), (3, \"a\"))\n",
    "\n",
    "l.toMap"
   ]
  },
  {
   "cell_type": "markdown",
   "metadata": {},
   "source": [
    "Note that only one value is kept for a single key. If we want all values, we can use `groupBy`:"
   ]
  },
  {
   "cell_type": "code",
   "execution_count": 72,
   "metadata": {},
   "outputs": [
    {
     "data": {
      "text/plain": [
       "\u001b[36mres72\u001b[39m: \u001b[32mMap\u001b[39m[\u001b[32mInt\u001b[39m, \u001b[32mList\u001b[39m[(\u001b[32mInt\u001b[39m, \u001b[32mString\u001b[39m)]] = \u001b[33mHashMap\u001b[39m(\n",
       "  \u001b[32m1\u001b[39m -> \u001b[33mList\u001b[39m((\u001b[32m1\u001b[39m, \u001b[32m\"a\"\u001b[39m), (\u001b[32m1\u001b[39m, \u001b[32m\"c\"\u001b[39m)),\n",
       "  \u001b[32m2\u001b[39m -> \u001b[33mList\u001b[39m((\u001b[32m2\u001b[39m, \u001b[32m\"b\"\u001b[39m), (\u001b[32m2\u001b[39m, \u001b[32m\"d\"\u001b[39m)),\n",
       "  \u001b[32m3\u001b[39m -> \u001b[33mList\u001b[39m((\u001b[32m3\u001b[39m, \u001b[32m\"a\"\u001b[39m))\n",
       ")"
      ]
     },
     "execution_count": 72,
     "metadata": {},
     "output_type": "execute_result"
    }
   ],
   "source": [
    "l.groupBy(entry => entry._1)"
   ]
  },
  {
   "cell_type": "markdown",
   "metadata": {},
   "source": [
    "# Set collections"
   ]
  },
  {
   "cell_type": "markdown",
   "metadata": {},
   "source": [
    "`Set`s are unordered collections of unique elements. The following two sets are equal: "
   ]
  },
  {
   "cell_type": "code",
   "execution_count": 20,
   "metadata": {},
   "outputs": [
    {
     "data": {
      "text/plain": [
       "\u001b[36mres20_0\u001b[39m: \u001b[32mBoolean\u001b[39m = \u001b[32mtrue\u001b[39m\r\n",
       "\u001b[36mres20_1\u001b[39m: \u001b[32mBoolean\u001b[39m = \u001b[32mfalse\u001b[39m"
      ]
     },
     "execution_count": 20,
     "metadata": {},
     "output_type": "execute_result"
    }
   ],
   "source": [
    "Set(1,2,2,3) == Set(3,1,2)\n",
    "// compare with lists:\n",
    "List(1,2,2,3) == List(3,1,2)"
   ]
  },
  {
   "cell_type": "markdown",
   "metadata": {},
   "source": [
    "Common operations on sets: "
   ]
  },
  {
   "cell_type": "code",
   "execution_count": 21,
   "metadata": {},
   "outputs": [
    {
     "data": {
      "text/plain": [
       "\u001b[36mres21\u001b[39m: \u001b[32mSet\u001b[39m[\u001b[32mInt\u001b[39m] = \u001b[33mHashSet\u001b[39m(\u001b[32m1\u001b[39m, \u001b[32m2\u001b[39m, \u001b[32m3\u001b[39m, \u001b[32m4\u001b[39m)"
      ]
     },
     "execution_count": 21,
     "metadata": {},
     "output_type": "execute_result"
    }
   ],
   "source": [
    "// Filtering elements\n",
    "Set(-1, 0, 1, 3, -5, 2, 4).filter(e => e > 0)"
   ]
  },
  {
   "cell_type": "code",
   "execution_count": 22,
   "metadata": {},
   "outputs": [
    {
     "data": {
      "text/plain": [
       "\u001b[36mres22\u001b[39m: \u001b[32mSet\u001b[39m[\u001b[32mInt\u001b[39m] = \u001b[33mSet\u001b[39m(\u001b[32m1\u001b[39m, \u001b[32m4\u001b[39m, \u001b[32m3\u001b[39m, \u001b[32m5\u001b[39m)"
      ]
     },
     "execution_count": 22,
     "metadata": {},
     "output_type": "execute_result"
    }
   ],
   "source": [
    "// Mapping elements\n",
    "Set(-1,-4,-3,5).map(e => e.abs)"
   ]
  },
  {
   "cell_type": "code",
   "execution_count": 24,
   "metadata": {},
   "outputs": [
    {
     "data": {
      "text/plain": [
       "\u001b[36mres24_0\u001b[39m: \u001b[32mSet\u001b[39m[\u001b[32mSet\u001b[39m[\u001b[32mInt\u001b[39m]] = \u001b[33mSet\u001b[39m(\u001b[33mSet\u001b[39m(\u001b[32m1\u001b[39m, \u001b[32m-1\u001b[39m), \u001b[33mSet\u001b[39m(\u001b[32m2\u001b[39m, \u001b[32m-2\u001b[39m), \u001b[33mSet\u001b[39m(\u001b[32m3\u001b[39m, \u001b[32m-3\u001b[39m))\r\n",
       "\u001b[36mres24_1\u001b[39m: \u001b[32mSet\u001b[39m[\u001b[32mInt\u001b[39m] = \u001b[33mHashSet\u001b[39m(\u001b[32m-3\u001b[39m, \u001b[32m1\u001b[39m, \u001b[32m2\u001b[39m, \u001b[32m3\u001b[39m, \u001b[32m-1\u001b[39m, \u001b[32m-2\u001b[39m)"
      ]
     },
     "execution_count": 24,
     "metadata": {},
     "output_type": "execute_result"
    }
   ],
   "source": [
    "// Flatmapping elements\n",
    "Set(1,2,3).map(e => Set(e,-e))\n",
    "Set(1,2,3).flatMap(e => Set(e,-e))"
   ]
  },
  {
   "cell_type": "code",
   "execution_count": 25,
   "metadata": {},
   "outputs": [
    {
     "data": {
      "text/plain": [
       "\u001b[36mres25_0\u001b[39m: \u001b[32mBoolean\u001b[39m = \u001b[32mtrue\u001b[39m\r\n",
       "\u001b[36mres25_1\u001b[39m: \u001b[32mBoolean\u001b[39m = \u001b[32mfalse\u001b[39m\r\n",
       "\u001b[36mres25_2\u001b[39m: \u001b[32mSet\u001b[39m[\u001b[32mInt\u001b[39m] = \u001b[33mSet\u001b[39m(\u001b[32m3\u001b[39m)\r\n",
       "\u001b[36mres25_3\u001b[39m: \u001b[32mSet\u001b[39m[\u001b[32mInt\u001b[39m] = \u001b[33mSet\u001b[39m(\u001b[32m1\u001b[39m)\r\n",
       "\u001b[36mres25_4\u001b[39m: \u001b[32mSet\u001b[39m[\u001b[32mInt\u001b[39m] = \u001b[33mHashSet\u001b[39m(\u001b[32m5\u001b[39m, \u001b[32m1\u001b[39m, \u001b[32m2\u001b[39m, \u001b[32m3\u001b[39m, \u001b[32m4\u001b[39m)"
      ]
     },
     "execution_count": 25,
     "metadata": {},
     "output_type": "execute_result"
    }
   ],
   "source": [
    "// Common set operations\n",
    "Set(1,2,3).subsetOf(Set(1,2,3,4))\n",
    "Set(1,2,3) subsetOf Set(1,2)\n",
    "Set(1,2,3) diff Set(1,2)\n",
    "Set(1) diff Set(3,4)\n",
    "Set(1,2,3) union Set(1,2,3,4,5)"
   ]
  },
  {
   "cell_type": "markdown",
   "metadata": {},
   "source": [
    "## Lists as multisets"
   ]
  },
  {
   "cell_type": "markdown",
   "metadata": {},
   "source": [
    "Multisets (or bags) are unordered collections like sets, but each element may occur repeated times. The collections library does not have a class to represent multisets directly, but we can approximate them with lists (with any sequence, actually). "
   ]
  },
  {
   "cell_type": "code",
   "execution_count": 27,
   "metadata": {},
   "outputs": [
    {
     "name": "stderr",
     "output_type": "stream",
     "text": [
      "1 deprecation (since 2.13.0); re-run with -deprecation for details\n"
     ]
    }
   ],
   "source": [
    "// multiset operations\n",
    "assert(List(1,1,3,3,3,2).diff(List(3,4,1,2)) == List(1,3,3))\n",
    "assert((List(1,3,3) union List(0,0,1,1,3)) == List(1,3,3,0,0,1,1,3))\n",
    "assert((List(1,3,3) intersect List(0,0,1,1,3)) == List(1, 3))"
   ]
  },
  {
   "cell_type": "markdown",
   "metadata": {},
   "source": [
    "We can remove repeated occurrences with `distinct`:"
   ]
  },
  {
   "cell_type": "code",
   "execution_count": 28,
   "metadata": {},
   "outputs": [
    {
     "data": {
      "text/plain": [
       "\u001b[36mres28\u001b[39m: \u001b[32mList\u001b[39m[\u001b[32mInt\u001b[39m] = \u001b[33mList\u001b[39m(\u001b[32m1\u001b[39m, \u001b[32m3\u001b[39m, \u001b[32m2\u001b[39m)"
      ]
     },
     "execution_count": 28,
     "metadata": {},
     "output_type": "execute_result"
    }
   ],
   "source": [
    "List(1,1,1,3,2,2,3).distinct "
   ]
  },
  {
   "cell_type": "markdown",
   "metadata": {},
   "source": [
    "## Implementing & querying data models"
   ]
  },
  {
   "cell_type": "markdown",
   "metadata": {},
   "source": [
    "The Scala collections greatly facilitate the implementation and querying of data models. For instance, the following classes model the structure of an organization which consists of departments, employees and tasks that employees can perform. "
   ]
  },
  {
   "cell_type": "code",
   "execution_count": 29,
   "metadata": {},
   "outputs": [
    {
     "data": {
      "text/plain": [
       "defined \u001b[32mclass\u001b[39m \u001b[36mDepartment\u001b[39m\r\n",
       "defined \u001b[32mobject\u001b[39m \u001b[36mDepartment\u001b[39m\r\n",
       "defined \u001b[32mclass\u001b[39m \u001b[36mTask\u001b[39m\r\n",
       "defined \u001b[32mobject\u001b[39m \u001b[36mTask\u001b[39m\r\n",
       "defined \u001b[32mclass\u001b[39m \u001b[36mEmployee\u001b[39m\r\n",
       "defined \u001b[32mobject\u001b[39m \u001b[36mEmployee\u001b[39m\r\n",
       "defined \u001b[32mclass\u001b[39m \u001b[36mOrganization\u001b[39m"
      ]
     },
     "execution_count": 29,
     "metadata": {},
     "output_type": "execute_result"
    }
   ],
   "source": [
    "// departments\n",
    "\n",
    "case class Department(id: Department.Id)\n",
    "object Department{\n",
    "    type Id = String\n",
    "}\n",
    "\n",
    "// tasks \n",
    "\n",
    "case class Task(id: Task.Id, hours: Int)\n",
    "object Task{\n",
    "    type Id = String\n",
    "}\n",
    "\n",
    "// Employees\n",
    "\n",
    "case class Employee(id: Employee.Id, dpt: Department.Id)\n",
    "object Employee{\n",
    "    type Id = String\n",
    "}\n",
    "\n",
    "// The whole organization\n",
    "\n",
    "case class Organization(\n",
    "    departments: Map[Department.Id, Department], \n",
    "    tasks: Map[Task.Id, Task],\n",
    "    employees: Map[Employee.Id, Employee], \n",
    "    knows: List[(Employee.Id, Task.Id)])"
   ]
  },
  {
   "cell_type": "markdown",
   "metadata": {},
   "source": [
    "This implementation is an example of a _flat_ data model. The key feature of these kinds of models are that the different entities (employees, departments and tasks, in this case) refer to each other by using _keys_. This is a possible instance of the organization data model:"
   ]
  },
  {
   "cell_type": "code",
   "execution_count": 58,
   "metadata": {},
   "outputs": [
    {
     "data": {
      "text/plain": [
       "\u001b[36morg\u001b[39m: \u001b[32mOrganization\u001b[39m = \u001b[33mOrganization\u001b[39m(\n",
       "  departments = \u001b[33mMap\u001b[39m(\n",
       "    \u001b[32m\"Product\"\u001b[39m -> \u001b[33mDepartment\u001b[39m(id = \u001b[32m\"Product\"\u001b[39m),\n",
       "    \u001b[32m\"Quality\"\u001b[39m -> \u001b[33mDepartment\u001b[39m(id = \u001b[32m\"Quality\"\u001b[39m),\n",
       "    \u001b[32m\"Research\"\u001b[39m -> \u001b[33mDepartment\u001b[39m(id = \u001b[32m\"Research\"\u001b[39m),\n",
       "    \u001b[32m\"Sales\"\u001b[39m -> \u001b[33mDepartment\u001b[39m(id = \u001b[32m\"Sales\"\u001b[39m)\n",
       "  ),\n",
       "  tasks = \u001b[33mHashMap\u001b[39m(\n",
       "    \u001b[32m\"program\"\u001b[39m -> \u001b[33mTask\u001b[39m(id = \u001b[32m\"program\"\u001b[39m, hours = \u001b[32m3\u001b[39m),\n",
       "    \u001b[32m\"design\"\u001b[39m -> \u001b[33mTask\u001b[39m(id = \u001b[32m\"design\"\u001b[39m, hours = \u001b[32m2\u001b[39m),\n",
       "    \u001b[32m\"abstract\"\u001b[39m -> \u001b[33mTask\u001b[39m(id = \u001b[32m\"abstract\"\u001b[39m, hours = \u001b[32m5\u001b[39m),\n",
       "    \u001b[32m\"build\"\u001b[39m -> \u001b[33mTask\u001b[39m(id = \u001b[32m\"build\"\u001b[39m, hours = \u001b[32m3\u001b[39m),\n",
       "    \u001b[32m\"call\"\u001b[39m -> \u001b[33mTask\u001b[39m(id = \u001b[32m\"call\"\u001b[39m, hours = \u001b[32m1\u001b[39m)\n",
       "  ),\n",
       "  employees = \u001b[33mHashMap\u001b[39m(\n",
       "    \u001b[32m\"Alex\"\u001b[39m -> \u001b[33mEmployee\u001b[39m(id = \u001b[32m\"Alex\"\u001b[39m, dpt = \u001b[32m\"Product\"\u001b[39m),\n",
       "    \u001b[32m\"Fred\"\u001b[39m -> \u001b[33mEmployee\u001b[39m(id = \u001b[32m\"Fred\"\u001b[39m, dpt = \u001b[32m\"Sales\"\u001b[39m),\n",
       "    \u001b[32m\"Bert\"\u001b[39m -> \u001b[33mEmployee\u001b[39m(id = \u001b[32m\"Bert\"\u001b[39m, dpt = \u001b[32m\"Product\"\u001b[39m),\n",
       "    \u001b[32m\"Cora\"\u001b[39m -> \u001b[33mEmployee\u001b[39m(id = \u001b[32m\"Cora\"\u001b[39m, dpt = \u001b[32m\"Research\"\u001b[39m),\n",
       "    \u001b[32m\"Edna\"\u001b[39m -> \u001b[33mEmployee\u001b[39m(id = \u001b[32m\"Edna\"\u001b[39m, dpt = \u001b[32m\"Research\"\u001b[39m),\n",
       "    \u001b[32m\"Drew\"\u001b[39m -> \u001b[33mEmployee\u001b[39m(id = \u001b[32m\"Drew\"\u001b[39m, dpt = \u001b[32m\"Research\"\u001b[39m)\n",
       "  ),\n",
       "  knows = \u001b[33mList\u001b[39m(\n",
       "    (\u001b[32m\"Alex\"\u001b[39m, \u001b[32m\"build\"\u001b[39m),\n",
       "    (\u001b[32m\"Bert\"\u001b[39m, \u001b[32m\"build\"\u001b[39m),\n",
       "    (\u001b[32m\"Cora\"\u001b[39m, \u001b[32m\"abstract\"\u001b[39m),\n",
       "    (\u001b[32m\"Cora\"\u001b[39m, \u001b[32m\"build\"\u001b[39m),\n",
       "    (\u001b[32m\"Cora\"\u001b[39m, \u001b[32m\"design\"\u001b[39m),\n",
       "    (\u001b[32m\"Drew\"\u001b[39m, \u001b[32m\"abstract\"\u001b[39m),\n",
       "    (\u001b[32m\"Drew\"\u001b[39m, \u001b[32m\"design\"\u001b[39m),\n",
       "    (\u001b[32m\"Edna\"\u001b[39m, \u001b[32m\"abstract\"\u001b[39m),\n",
       "    (\u001b[32m\"Edna\"\u001b[39m, \u001b[32m\"call\"\u001b[39m),\n",
       "    (\u001b[32m\"Edna\"\u001b[39m, \u001b[32m\"design\"\u001b[39m),\n",
       "    (\u001b[32m\"Fred\"\u001b[39m, \u001b[32m\"call\"\u001b[39m)\n",
       "  )\n",
       ")"
      ]
     },
     "execution_count": 58,
     "metadata": {},
     "output_type": "execute_result"
    }
   ],
   "source": [
    "val org: Organization = Organization(\n",
    "    Map(\n",
    "        \"Product\"  -> Department(\"Product\"),\n",
    "        \"Quality\"  -> Department(\"Quality\"),\n",
    "        \"Research\" -> Department(\"Research\"),\n",
    "        \"Sales\"    -> Department(\"Sales\")),\n",
    "    \n",
    "    Map(\"build\"    -> Task(\"build\", 3), \n",
    "        \"abstract\" -> Task(\"abstract\", 5), \n",
    "        \"design\"   -> Task(\"design\", 2),\n",
    "        \"call\"     -> Task(\"call\", 1),\n",
    "        \"program\"  -> Task(\"program\", 3)),\n",
    "    \n",
    "    Map(\"Alex\"     -> Employee(\"Alex\", \"Product\"), \n",
    "        \"Bert\"     -> Employee(\"Bert\", \"Product\"), \n",
    "        \"Cora\"     -> Employee(\"Cora\", \"Research\"), \n",
    "        \"Drew\"     -> Employee(\"Drew\", \"Research\"), \n",
    "        \"Edna\"     -> Employee(\"Edna\", \"Research\"), \n",
    "        \"Fred\"     -> Employee(\"Fred\", \"Sales\")),\n",
    "    \n",
    "    List(\n",
    "        (\"Alex\", \"build\"),\n",
    "        (\"Bert\", \"build\"),\n",
    "        (\"Cora\", \"abstract\"),\n",
    "        (\"Cora\", \"build\"),\n",
    "        (\"Cora\", \"design\"),\n",
    "        (\"Drew\", \"abstract\"),\n",
    "        (\"Drew\", \"design\"),\n",
    "        (\"Edna\", \"abstract\"),\n",
    "        (\"Edna\", \"call\"),\n",
    "        (\"Edna\", \"design\"),\n",
    "        (\"Fred\", \"call\")))"
   ]
  },
  {
   "cell_type": "markdown",
   "metadata": {},
   "source": [
    "Flat data models are actually very close to the common _relational_ data models used in SQL persistent stores. This is the equivalent relational model of the organization database: "
   ]
  },
  {
   "cell_type": "markdown",
   "metadata": {},
   "source": [
    "![](images/relational-model.png)"
   ]
  },
  {
   "cell_type": "markdown",
   "metadata": {},
   "source": [
    "According to this mapping: \n",
    "- The `Organization` class represents the whole relational _database_.\n",
    "- Members of this class correspond to the different _tables_ of the database, represented as `Map`s or simple `Set`s. We have four tables: the table of departments, employees, tasks, and a table which stores which tasks employees can perform.\n",
    "- The key type of `Map` can be understood as the primary key of the relational table. The value type specifies the columns of the table. By convention, the identifier type is defined by the `Id` type alias in the companion object of the value type. For instance, the `employees` table is indexed by the employee identifier (a string value), and stores the department to which the employee belongs to.\n",
    "- If the primary key consists of several keys, as in the `knows` table, we use tuples. \n",
    "- If the table just consists of the key (simple or composed) we use `Set` instead of `Map` (as the `knows` table also illustrates).\n",
    "\n"
   ]
  },
  {
   "cell_type": "markdown",
   "metadata": {},
   "source": [
    "### Basic queries"
   ]
  },
  {
   "cell_type": "markdown",
   "metadata": {},
   "source": [
    "Complex queries typically builds upon basic queries which are directly related to the structure of the data model. In particular, they are identified from the primary key and foreign-key relations in the relational model. In the organizational database we can identify the following queries:"
   ]
  },
  {
   "cell_type": "code",
   "execution_count": 35,
   "metadata": {},
   "outputs": [
    {
     "data": {
      "text/plain": [
       "defined \u001b[32mobject\u001b[39m \u001b[36mBasicQueries\u001b[39m\r\n",
       "\u001b[32mimport \u001b[39m\u001b[36mBasicQueries._\u001b[39m"
      ]
     },
     "execution_count": 35,
     "metadata": {},
     "output_type": "execute_result"
    }
   ],
   "source": [
    "\n",
    "object BasicQueries{\n",
    "\n",
    "    // Entities\n",
    "    \n",
    "    def departments(org: Organization): List[Department] = \n",
    "        org.departments.values.toList\n",
    "\n",
    "    def departmentIds(org: Organization): List[Department.Id] = \n",
    "        org.departments.keys.toList\n",
    "    \n",
    "    def getDepartment(id: Department.Id)(org: Organization): List[Department] = \n",
    "        org.departments.get(id).toList\n",
    "\n",
    "    def employees(org: Organization): List[Employee] = \n",
    "        org.employees.values.toList\n",
    "\n",
    "    def employeeIds(org: Organization): List[Employee.Id] = \n",
    "        org.employees.keys.toList\n",
    "\n",
    "    def getEmployee(id: Employee.Id)(org: Organization): List[Employee] = \n",
    "        org.employees.get(id).toList\n",
    "\n",
    "    def tasks(org: Organization): List[Task] = \n",
    "        org.tasks.values.toList\n",
    "\n",
    "    def taskIds(org: Organization): List[Task.Id] = \n",
    "        org.tasks.keys.toList\n",
    "\n",
    "    def getTask(id: Task.Id)(org: Organization): List[Task] = \n",
    "        org.tasks.get(id).toList\n",
    "    \n",
    "    // 1-N relationships\n",
    "    \n",
    "    def employeeIds(dpt: Department.Id)(org: Organization): List[Employee.Id] = \n",
    "        org.employees.filter(_._2.dpt == dpt).map(_._1).toList\n",
    "    \n",
    "    // N-M relationships\n",
    "    \n",
    "    def performerIds(tsk: Task.Id)(org: Organization): List[Employee.Id] = \n",
    "        org.knows.filter(_._2 == tsk).map(_._1)\n",
    "\n",
    "    def capabilities(emp: Employee.Id)(org: Organization): List[Task.Id] = \n",
    "        org.knows.filter(_._1 == emp).map(_._2)\n",
    "}\n",
    "\n",
    "import BasicQueries._"
   ]
  },
  {
   "cell_type": "code",
   "execution_count": 39,
   "metadata": {},
   "outputs": [
    {
     "data": {
      "text/plain": [
       "\u001b[36mres39_0\u001b[39m: \u001b[32mList\u001b[39m[\u001b[32mEmployee\u001b[39m.\u001b[32mId\u001b[39m] = \u001b[33mList\u001b[39m(\u001b[32m\"Alex\"\u001b[39m, \u001b[32m\"Bert\"\u001b[39m)\r\n",
       "\u001b[36mres39_1\u001b[39m: \u001b[32mcollection\u001b[39m.\u001b[32mimmutable\u001b[39m.\u001b[32mIterable\u001b[39m[\u001b[32mEmployee\u001b[39m.\u001b[32mId\u001b[39m] = \u001b[33mList\u001b[39m(\u001b[32m\"Alex\"\u001b[39m, \u001b[32m\"Bert\"\u001b[39m)"
      ]
     },
     "execution_count": 39,
     "metadata": {},
     "output_type": "execute_result"
    }
   ],
   "source": [
    "employeeIds(\"Product\")(org)\n",
    "org.employees.filter(_._2.dpt == \"Product\").map(_._1)"
   ]
  },
  {
   "cell_type": "markdown",
   "metadata": {},
   "source": [
    "### Sample queries"
   ]
  },
  {
   "cell_type": "markdown",
   "metadata": {},
   "source": [
    "__Which are the tasks of the organization which can't be performed by any employee?__"
   ]
  },
  {
   "cell_type": "code",
   "execution_count": 40,
   "metadata": {},
   "outputs": [
    {
     "data": {
      "text/plain": [
       "defined \u001b[32mclass\u001b[39m \u001b[36mTestImpossibleTasks\u001b[39m"
      ]
     },
     "execution_count": 40,
     "metadata": {},
     "output_type": "execute_result"
    }
   ],
   "source": [
    "class TestImpossibleTasks(\n",
    "    impossibleTasks: Organization => List[Task.Id]\n",
    ") extends FlatSpec with Matchers{\n",
    "    \n",
    "    \"impossibleTasks\" should \"work\" in {\n",
    "        impossibleTasks(org) shouldBe \n",
    "            List(\"program\")\n",
    "    }\n",
    "}"
   ]
  },
  {
   "cell_type": "markdown",
   "metadata": {},
   "source": [
    "This is a conventional imperative implementation, using mutable variables:"
   ]
  },
  {
   "cell_type": "code",
   "execution_count": 41,
   "metadata": {},
   "outputs": [
    {
     "data": {
      "text/plain": [
       "\u001b[32mimport \u001b[39m\u001b[36mcollection.mutable.ListBuffer\u001b[39m\r\n",
       "defined \u001b[32mfunction\u001b[39m \u001b[36mimpossibleTasks\u001b[39m"
      ]
     },
     "execution_count": 41,
     "metadata": {},
     "output_type": "execute_result"
    }
   ],
   "source": [
    "import collection.mutable.ListBuffer\n",
    "\n",
    "def impossibleTasks(org: Organization): List[Task.Id] = {\n",
    "    var impTasks: ListBuffer[Task.Id] = \n",
    "        ListBuffer.from(taskIds(org))\n",
    "    for (entry <- org.knows)\n",
    "        impTasks -= entry._2\n",
    "//        impTasks = impTasks subtractOne entry._2\n",
    "    impTasks.toList\n",
    "}"
   ]
  },
  {
   "cell_type": "code",
   "execution_count": 42,
   "metadata": {},
   "outputs": [
    {
     "name": "stdout",
     "output_type": "stream",
     "text": [
      "\u001b[32mcell40$Helper$TestImpossibleTasks:\u001b[0m\n",
      "\u001b[32mimpossibleTasks\u001b[0m\n",
      "\u001b[32m- should work\u001b[0m\n"
     ]
    }
   ],
   "source": [
    "run(new TestImpossibleTasks(impossibleTasks))"
   ]
  },
  {
   "cell_type": "markdown",
   "metadata": {},
   "source": [
    "This works but it is not the _functional_ style. The following version is closer to what we are looking for:"
   ]
  },
  {
   "cell_type": "code",
   "execution_count": null,
   "metadata": {},
   "outputs": [],
   "source": [
    "def impossibleTasks(org: Organization): List[Task.Id] =\n",
    "    org.knows.foldLeft(ListBuffer.from(taskIds(org)))(\n",
    "        (impTasks, entry) => impTasks subtractOne entry._2\n",
    "    ).toList"
   ]
  },
  {
   "cell_type": "markdown",
   "metadata": {},
   "source": [
    "or with pattern matching syntax:"
   ]
  },
  {
   "cell_type": "code",
   "execution_count": null,
   "metadata": {},
   "outputs": [],
   "source": [
    "def impossibleTasks(org: Organization): List[Task.Id] =\n",
    "    org.knows.foldLeft(ListBuffer.from(taskIds(org))){\n",
    "        case (impTasks, (_, task)) => impTasks subtractOne task\n",
    "    }.toList"
   ]
  },
  {
   "cell_type": "code",
   "execution_count": null,
   "metadata": {},
   "outputs": [],
   "source": [
    "run(new TestImpossibleTasks(impossibleTasks))"
   ]
  },
  {
   "cell_type": "markdown",
   "metadata": {},
   "source": [
    "But we can do it even better. We will endorse the following implementation that uses hight-level set operations (`diff`) and HOFs (`map`):"
   ]
  },
  {
   "cell_type": "code",
   "execution_count": 43,
   "metadata": {},
   "outputs": [
    {
     "data": {
      "text/plain": [
       "defined \u001b[32mfunction\u001b[39m \u001b[36mimpossibleTasks\u001b[39m"
      ]
     },
     "execution_count": 43,
     "metadata": {},
     "output_type": "execute_result"
    }
   ],
   "source": [
    "def impossibleTasks(org: Organization): List[Task.Id] = {\n",
    "    val possibleTasks = org.knows.map(entry => entry._2)\n",
    "    taskIds(org) diff possibleTasks\n",
    "}"
   ]
  },
  {
   "cell_type": "code",
   "execution_count": 44,
   "metadata": {},
   "outputs": [
    {
     "data": {
      "text/plain": [
       "\u001b[36mpossibleTasks\u001b[39m: \u001b[32mList\u001b[39m[\u001b[32mTask\u001b[39m.\u001b[32mId\u001b[39m] = \u001b[33mList\u001b[39m(\n",
       "  \u001b[32m\"build\"\u001b[39m,\n",
       "  \u001b[32m\"build\"\u001b[39m,\n",
       "  \u001b[32m\"abstract\"\u001b[39m,\n",
       "  \u001b[32m\"build\"\u001b[39m,\n",
       "  \u001b[32m\"design\"\u001b[39m,\n",
       "  \u001b[32m\"abstract\"\u001b[39m,\n",
       "  \u001b[32m\"design\"\u001b[39m,\n",
       "  \u001b[32m\"abstract\"\u001b[39m,\n",
       "  \u001b[32m\"call\"\u001b[39m,\n",
       "  \u001b[32m\"design\"\u001b[39m,\n",
       "  \u001b[32m\"call\"\u001b[39m\n",
       ")"
      ]
     },
     "execution_count": 44,
     "metadata": {},
     "output_type": "execute_result"
    }
   ],
   "source": [
    "val possibleTasks = org.knows.map(entry => entry._2)"
   ]
  },
  {
   "cell_type": "code",
   "execution_count": null,
   "metadata": {},
   "outputs": [],
   "source": [
    "run(new TestImpossibleTasks(impossibleTasks))"
   ]
  },
  {
   "cell_type": "markdown",
   "metadata": {},
   "source": [
    "Arguably, this implementation conveys the intent of the function more clearly. It's more _declarative_. Moreover, it is more reliable since it builds upon standard methods of the Scala library (`diff` and `map`). It's true that the imperative version is also easy to read, but this is only because this is such a very simple function. We will see later on more complex examples where the functional solution shines brighter. "
   ]
  },
  {
   "cell_type": "markdown",
   "metadata": {},
   "source": [
    "__Which tasks can be performed by the employees of a given department?__"
   ]
  },
  {
   "cell_type": "code",
   "execution_count": 61,
   "metadata": {},
   "outputs": [
    {
     "data": {
      "text/plain": [
       "defined \u001b[32mclass\u001b[39m \u001b[36mTestAllTasks\u001b[39m"
      ]
     },
     "execution_count": 61,
     "metadata": {},
     "output_type": "execute_result"
    }
   ],
   "source": [
    "class TestAllTasks(\n",
    "    allTasks: Department.Id => Organization => List[Task.Id]\n",
    ") extends FlatSpec with Matchers{\n",
    "    \n",
    "    \"allTasks\" should \"work\" in {\n",
    "        allTasks(\"Product\")(org).toSet shouldBe \n",
    "            Set(\"build\")\n",
    "        allTasks(\"Quality\")(org).toSet shouldBe \n",
    "            Set()\n",
    "        allTasks(\"Sales\")(org).toSet shouldBe \n",
    "            Set(\"call\")\n",
    "        allTasks(\"Research\")(org).toSet shouldBe \n",
    "            Set(\"abstract\", \"build\", \"design\", \"call\")\n",
    "    }\n",
    "}"
   ]
  },
  {
   "cell_type": "markdown",
   "metadata": {},
   "source": [
    "The basic queries of the data model allow us to obtain all the employees of an organization, and the tasks that they can perform. So, this a first step towards the solution:"
   ]
  },
  {
   "cell_type": "code",
   "execution_count": 46,
   "metadata": {},
   "outputs": [
    {
     "data": {
      "text/plain": [
       "defined \u001b[32mfunction\u001b[39m \u001b[36mallTasks\u001b[39m"
      ]
     },
     "execution_count": 46,
     "metadata": {},
     "output_type": "execute_result"
    }
   ],
   "source": [
    "// def allTasks(dpt: Department.Id)(org: Organization): List[Task.Id]\n",
    "def allTasks(dpt: Department.Id)(org: Organization): List[List[Task.Id]] = \n",
    "    employeeIds(dpt)(org) map (\n",
    "        emp => capabilities(emp)(org)\n",
    "    )"
   ]
  },
  {
   "cell_type": "markdown",
   "metadata": {},
   "source": [
    "However, this is not the signature that we need to implement, since we are returning a set of sets of tasks, not a set of tasks. In order to do it right we need also to _flatten_ the result, i.e. concatenate all the individual sets of tasks for each employee. In sum, we need the `flatMap` HOF:"
   ]
  },
  {
   "cell_type": "code",
   "execution_count": 65,
   "metadata": {},
   "outputs": [
    {
     "data": {
      "text/plain": [
       "defined \u001b[32mfunction\u001b[39m \u001b[36mallTasks2\u001b[39m"
      ]
     },
     "execution_count": 65,
     "metadata": {},
     "output_type": "execute_result"
    }
   ],
   "source": [
    "def allTasks2(dpt: Department.Id)(org: Organization): List[Task.Id] = \n",
    "    employeeIds(dpt)(org).flatMap(\n",
    "        emp => capabilities(emp)(org)\n",
    "    ).distinct"
   ]
  },
  {
   "cell_type": "code",
   "execution_count": 63,
   "metadata": {},
   "outputs": [
    {
     "name": "stdout",
     "output_type": "stream",
     "text": [
      "\u001b[32mcell61$Helper$TestAllTasks:\u001b[0m\n",
      "\u001b[32mallTasks\u001b[0m\n",
      "\u001b[32m- should work\u001b[0m\n"
     ]
    }
   ],
   "source": [
    "run(new TestAllTasks(allTasks))"
   ]
  },
  {
   "cell_type": "markdown",
   "metadata": {},
   "source": [
    "__Compute the list of departments of an organization together with the number of tasks their employees can perform, sorted by the number of tasks__"
   ]
  },
  {
   "cell_type": "code",
   "execution_count": 47,
   "metadata": {},
   "outputs": [
    {
     "data": {
      "text/plain": [
       "defined \u001b[32mclass\u001b[39m \u001b[36mTestSortedDeps\u001b[39m"
      ]
     },
     "execution_count": 47,
     "metadata": {},
     "output_type": "execute_result"
    }
   ],
   "source": [
    "class TestSortedDeps(\n",
    "    sortedDeps: Organization => List[(Department.Id, Int)]\n",
    ") extends FlatSpec with Matchers{\n",
    "    \n",
    "    \"sortedDeps\" should \"work\" in {\n",
    "        sortedDeps(org).toSet shouldBe \n",
    "            Set((\"Research\",4), (\"Product\",1), (\"Sales\",1), (\"Quality\",0))\n",
    "    }\n",
    "}"
   ]
  },
  {
   "cell_type": "code",
   "execution_count": 48,
   "metadata": {},
   "outputs": [
    {
     "data": {
      "text/plain": [
       "defined \u001b[32mfunction\u001b[39m \u001b[36msortedDeps\u001b[39m"
      ]
     },
     "execution_count": 48,
     "metadata": {},
     "output_type": "execute_result"
    }
   ],
   "source": [
    "def sortedDeps(org: Organization): List[(Department.Id, Int)] = \n",
    "    departmentIds(org).map( dep => \n",
    "        (dep, allTasks(dep)(org).size)\n",
    "    ).sortWith( (tuple1, tuple2) => \n",
    "        tuple1._2 > tuple2._2\n",
    "    )"
   ]
  },
  {
   "cell_type": "markdown",
   "metadata": {},
   "source": [
    "or with pattern matching syntax:"
   ]
  },
  {
   "cell_type": "code",
   "execution_count": 66,
   "metadata": {},
   "outputs": [
    {
     "data": {
      "text/plain": [
       "defined \u001b[32mfunction\u001b[39m \u001b[36msortedDeps2\u001b[39m"
      ]
     },
     "execution_count": 66,
     "metadata": {},
     "output_type": "execute_result"
    }
   ],
   "source": [
    "def sortedDeps2(org: Organization): List[(Department.Id, Int)] = \n",
    "    departmentIds(org).map( dep => \n",
    "        (dep, allTasks2(dep)(org).size)\n",
    "    ).sortWith{ case ((_, n1), (_, n2)) => \n",
    "        n1 > n2\n",
    "    }"
   ]
  },
  {
   "cell_type": "code",
   "execution_count": 67,
   "metadata": {},
   "outputs": [
    {
     "name": "stdout",
     "output_type": "stream",
     "text": [
      "\u001b[32mcell47$Helper$TestSortedDeps:\u001b[0m\n",
      "\u001b[32msortedDeps\u001b[0m\n",
      "\u001b[32m- should work\u001b[0m\n"
     ]
    }
   ],
   "source": [
    "run(new TestSortedDeps(sortedDeps2))"
   ]
  },
  {
   "cell_type": "markdown",
   "metadata": {},
   "source": [
    "__Which are the employees who can perform tasks of a given duration?__"
   ]
  },
  {
   "cell_type": "code",
   "execution_count": null,
   "metadata": {},
   "outputs": [],
   "source": [
    "class TestPersistentEmps(\n",
    "    persistentEmps: Int => Organization => List[Employee.Id]\n",
    ") extends FlatSpec with Matchers{\n",
    "    \n",
    "    \"persistentEmps\" should \"work\" in {\n",
    "        persistentEmps(3)(org).toSet shouldBe \n",
    "            Set(\"Cora\", \"Drew\", \"Edna\")\n",
    "    }\n",
    "}"
   ]
  },
  {
   "cell_type": "code",
   "execution_count": null,
   "metadata": {},
   "outputs": [],
   "source": [
    "def persistentEmps(min: Int)(org: Organization): List[Employee.Id] = \n",
    "    org.knows.flatMap{ case (emp, task) => \n",
    "        getTask(task)(org) filter { task =>\n",
    "            task.hours > min\n",
    "        } map { _ => \n",
    "            emp\n",
    "        }\n",
    "    }.distinct"
   ]
  },
  {
   "cell_type": "markdown",
   "metadata": {},
   "source": [
    "Alterrnatively, we can also bet by with `filter` and `exists`:"
   ]
  },
  {
   "cell_type": "code",
   "execution_count": null,
   "metadata": {},
   "outputs": [],
   "source": [
    "def persistentEmps(min: Int)(org: Organization): List[Employee.Id] = \n",
    "    employeeIds(org).filter( empId =>  \n",
    "        capabilities(empId)(org).flatMap(\n",
    "            taskId => getTask(taskId)(org)\n",
    "        ).exists(task => task.hours > min)\n",
    "    )"
   ]
  },
  {
   "cell_type": "code",
   "execution_count": null,
   "metadata": {},
   "outputs": [],
   "source": [
    "run(new TestPersistentEmps(persistentEmps))"
   ]
  },
  {
   "cell_type": "markdown",
   "metadata": {},
   "source": [
    "__Which are the departments whose employees, as a team, know how to perform a given set of tasks?__"
   ]
  },
  {
   "cell_type": "code",
   "execution_count": 68,
   "metadata": {},
   "outputs": [
    {
     "data": {
      "text/plain": [
       "defined \u001b[32mclass\u001b[39m \u001b[36mTestDptsThatKnowHowTo\u001b[39m"
      ]
     },
     "execution_count": 68,
     "metadata": {},
     "output_type": "execute_result"
    }
   ],
   "source": [
    "class TestDptsThatKnowHowTo(\n",
    "    dptsThatKnowHowTo: Set[Task.Id] => Organization => List[Department.Id]\n",
    ") extends FlatSpec with Matchers{\n",
    "    \n",
    "    \"dptsThatKnowHowTo\" should \"work\" in {\n",
    "        dptsThatKnowHowTo(Set())(org).toSet shouldBe \n",
    "            Set(\"Sales\", \"Product\", \"Quality\", \"Research\")\n",
    "        dptsThatKnowHowTo(Set(\"call\"))(org).toSet shouldBe \n",
    "            Set(\"Sales\", \"Research\")\n",
    "        dptsThatKnowHowTo(Set(\"call\", \"abstract\"))(org).toSet shouldBe \n",
    "            Set(\"Research\")\n",
    "    }\n",
    "}"
   ]
  },
  {
   "cell_type": "markdown",
   "metadata": {},
   "source": [
    "We can build upon the previous function `allTasks`:"
   ]
  },
  {
   "cell_type": "code",
   "execution_count": 69,
   "metadata": {},
   "outputs": [
    {
     "data": {
      "text/plain": [
       "defined \u001b[32mfunction\u001b[39m \u001b[36mdptsThatKnowHowTo\u001b[39m"
      ]
     },
     "execution_count": 69,
     "metadata": {},
     "output_type": "execute_result"
    }
   ],
   "source": [
    "def dptsThatKnowHowTo(tasks: Set[Task.Id])(org: Organization): List[Department.Id] = \n",
    "    departmentIds(org) filter {\n",
    "        dpt: Department.Id => tasks subsetOf allTasks(dpt)(org).toSet\n",
    "    }"
   ]
  },
  {
   "cell_type": "code",
   "execution_count": 70,
   "metadata": {},
   "outputs": [
    {
     "name": "stdout",
     "output_type": "stream",
     "text": [
      "\u001b[32mcell68$Helper$TestDptsThatKnowHowTo:\u001b[0m\n",
      "\u001b[32mdptsThatKnowHowTo\u001b[0m\n",
      "\u001b[32m- should work\u001b[0m\n"
     ]
    }
   ],
   "source": [
    "run(new TestDptsThatKnowHowTo(dptsThatKnowHowTo))"
   ]
  },
  {
   "cell_type": "markdown",
   "metadata": {},
   "source": [
    "__Obtain a list of employees sorted by the number of tasks that they can perform__"
   ]
  },
  {
   "cell_type": "code",
   "execution_count": 77,
   "metadata": {},
   "outputs": [
    {
     "data": {
      "text/plain": [
       "defined \u001b[32mclass\u001b[39m \u001b[36mTestSortedEmployees\u001b[39m"
      ]
     },
     "execution_count": 77,
     "metadata": {},
     "output_type": "execute_result"
    }
   ],
   "source": [
    "class TestSortedEmployees(\n",
    "    sortedEmployees: Organization => List[(Employee.Id, Int)]\n",
    ") extends FlatSpec with Matchers{\n",
    "    \n",
    "    \"sortedEmployees\" should \"work\" in {\n",
    "        sortedEmployees(org) shouldBe \n",
    "            List(\n",
    "              (\"Alex\", 1),\n",
    "              (\"Fred\", 1),\n",
    "              (\"Bert\", 1),\n",
    "              (\"Drew\", 2),\n",
    "              (\"Cora\", 3),\n",
    "              (\"Edna\", 3))\n",
    "    }\n",
    "}"
   ]
  },
  {
   "cell_type": "markdown",
   "metadata": {},
   "source": [
    "We may attempt the following:"
   ]
  },
  {
   "cell_type": "code",
   "execution_count": 80,
   "metadata": {},
   "outputs": [
    {
     "name": "stderr",
     "output_type": "stream",
     "text": [
      "1 deprecation (since 2.13.0); re-run with -deprecation for details\n"
     ]
    },
    {
     "data": {
      "text/plain": [
       "defined \u001b[32mfunction\u001b[39m \u001b[36msortedEmployees\u001b[39m"
      ]
     },
     "execution_count": 80,
     "metadata": {},
     "output_type": "execute_result"
    }
   ],
   "source": [
    "def sortedEmployees(org: Organization): List[(Employee.Id, Int)] = \n",
    "    org.knows\n",
    "        .groupBy(_._1)     // Map[Employee.Id, List[Task.Id]]\n",
    "        .mapValues(_.size) // Map[Employee.Id, Int]\n",
    "        .toList            // List[(Employee.Id, Int)]\n",
    "        .sortBy(_._2) "
   ]
  },
  {
   "cell_type": "code",
   "execution_count": 81,
   "metadata": {},
   "outputs": [
    {
     "name": "stderr",
     "output_type": "stream",
     "text": [
      "1 deprecation (since 2.13.0); re-run with -deprecation for details\n"
     ]
    },
    {
     "data": {
      "text/plain": [
       "\u001b[36mres81\u001b[39m: \u001b[32mList\u001b[39m[(\u001b[32mEmployee\u001b[39m.\u001b[32mId\u001b[39m, \u001b[32mInt\u001b[39m)] = \u001b[33mList\u001b[39m(\n",
       "  (\u001b[32m\"Alex\"\u001b[39m, \u001b[32m1\u001b[39m),\n",
       "  (\u001b[32m\"Fred\"\u001b[39m, \u001b[32m1\u001b[39m),\n",
       "  (\u001b[32m\"Bert\"\u001b[39m, \u001b[32m1\u001b[39m),\n",
       "  (\u001b[32m\"Drew\"\u001b[39m, \u001b[32m2\u001b[39m),\n",
       "  (\u001b[32m\"Cora\"\u001b[39m, \u001b[32m3\u001b[39m),\n",
       "  (\u001b[32m\"Edna\"\u001b[39m, \u001b[32m3\u001b[39m)\n",
       ")"
      ]
     },
     "execution_count": 81,
     "metadata": {},
     "output_type": "execute_result"
    }
   ],
   "source": [
    "    org.knows\n",
    "        .groupBy(_._1)     // Map[Employee.Id, List[Task.Id]]\n",
    "        .mapValues(_.size) // Map[Employee.Id, Int]\n",
    "        .toList            // List[(Employee.Id, Int)]\n",
    "        .sortBy(_._2)"
   ]
  },
  {
   "cell_type": "markdown",
   "metadata": {},
   "source": [
    "and this is almost right: we are missing those employees that can't perform any task. This is the right one:"
   ]
  },
  {
   "cell_type": "code",
   "execution_count": 78,
   "metadata": {},
   "outputs": [
    {
     "data": {
      "text/plain": [
       "defined \u001b[32mfunction\u001b[39m \u001b[36msortedEmployees\u001b[39m"
      ]
     },
     "execution_count": 78,
     "metadata": {},
     "output_type": "execute_result"
    }
   ],
   "source": [
    "def sortedEmployees(org: Organization): List[(Employee.Id, Int)] = \n",
    "    employeeIds(org).map{ empId: Employee.Id => \n",
    "        (empId, capabilities(empId)(org).size)\n",
    "    }.sortBy(_._2)"
   ]
  },
  {
   "cell_type": "code",
   "execution_count": 79,
   "metadata": {},
   "outputs": [
    {
     "name": "stdout",
     "output_type": "stream",
     "text": [
      "\u001b[32mcell77$Helper$TestSortedEmployees:\u001b[0m\n",
      "\u001b[32msortedEmployees\u001b[0m\n",
      "\u001b[32m- should work\u001b[0m\n"
     ]
    }
   ],
   "source": [
    "run(new TestSortedEmployees(sortedEmployees))"
   ]
  },
  {
   "cell_type": "markdown",
   "metadata": {},
   "source": [
    "__Which are the departments whose employees are all able to perform a given task?__"
   ]
  },
  {
   "cell_type": "code",
   "execution_count": 82,
   "metadata": {},
   "outputs": [
    {
     "data": {
      "text/plain": [
       "defined \u001b[32mclass\u001b[39m \u001b[36mTestExpertDepsIn\u001b[39m"
      ]
     },
     "execution_count": 82,
     "metadata": {},
     "output_type": "execute_result"
    }
   ],
   "source": [
    "class TestExpertDepsIn(\n",
    "    expertDpts: Task.Id => Organization => List[Department.Id]\n",
    ") extends FlatSpec with Matchers{\n",
    "    \n",
    "    \"expertDpts\" should \"work\" in {\n",
    "        expertDpts(\"abstract\")(org).toSet shouldBe \n",
    "            Set(\"Quality\", \"Research\")\n",
    "    }\n",
    "}"
   ]
  },
  {
   "cell_type": "markdown",
   "metadata": {},
   "source": [
    "The conventional imperative solution is quite complex: "
   ]
  },
  {
   "cell_type": "code",
   "execution_count": 83,
   "metadata": {},
   "outputs": [
    {
     "data": {
      "text/plain": [
       "defined \u001b[32mfunction\u001b[39m \u001b[36mexpertDepsIn\u001b[39m"
      ]
     },
     "execution_count": 83,
     "metadata": {},
     "output_type": "execute_result"
    }
   ],
   "source": [
    "def expertDepsIn(task: Task.Id)(org: Organization): List[Department.Id] = {\n",
    "    var out: ListBuffer[Department.Id] = ListBuffer()\n",
    "    for (dep <- departmentIds(org)){\n",
    "        var employeesThatCantPerform: ListBuffer[Employee.Id] = \n",
    "            ListBuffer.from(employeeIds(dep)(org))\n",
    "        for (emp <- employeeIds(dep)(org)){\n",
    "            for (someTask <- capabilities(emp)(org))\n",
    "                if (someTask == task)\n",
    "                    employeesThatCantPerform -= emp\n",
    "        }\n",
    "        if (employeesThatCantPerform.isEmpty) \n",
    "            out += dep\n",
    "    }\n",
    "    out.toList\n",
    "}"
   ]
  },
  {
   "cell_type": "code",
   "execution_count": 84,
   "metadata": {},
   "outputs": [
    {
     "name": "stdout",
     "output_type": "stream",
     "text": [
      "\u001b[32mcell82$Helper$TestExpertDepsIn:\u001b[0m\n",
      "\u001b[32mexpertDpts\u001b[0m\n",
      "\u001b[32m- should work\u001b[0m\n"
     ]
    }
   ],
   "source": [
    "run(new TestExpertDepsIn(expertDepsIn))"
   ]
  },
  {
   "cell_type": "markdown",
   "metadata": {},
   "source": [
    "This is not only more complex to understand, but prone to error. In order to obtain a simpler (and functional) solution by first declaring in plain natural language the intended query:"
   ]
  },
  {
   "cell_type": "code",
   "execution_count": null,
   "metadata": {},
   "outputs": [],
   "source": [
    "def expertDepsIn(tsk: Task.Id)(org: Organization): List[Department.Id] = \n",
    "    // From all the departments of the organization, choose\n",
    "    // those that for all its employees\n",
    "    // the specified task is included in their capabilities\n",
    "    ???"
   ]
  },
  {
   "cell_type": "markdown",
   "metadata": {},
   "source": [
    "Then, we can formalize the natural language specification by relying on standard HOFs (`filter`, `forall`) and collection operations (`contains`):"
   ]
  },
  {
   "cell_type": "code",
   "execution_count": 85,
   "metadata": {},
   "outputs": [
    {
     "data": {
      "text/plain": [
       "defined \u001b[32mfunction\u001b[39m \u001b[36mexpertDepsIn\u001b[39m"
      ]
     },
     "execution_count": 85,
     "metadata": {},
     "output_type": "execute_result"
    }
   ],
   "source": [
    "def expertDepsIn(tsk: Task.Id)(org: Organization): List[Department.Id] = \n",
    "    departmentIds(org).filter(\n",
    "        dpt => employeeIds(dpt)(org).forall(\n",
    "            emp => capabilities(emp)(org).contains(tsk)\n",
    "        )\n",
    "    )"
   ]
  },
  {
   "cell_type": "code",
   "execution_count": 86,
   "metadata": {},
   "outputs": [
    {
     "name": "stdout",
     "output_type": "stream",
     "text": [
      "\u001b[32mcell82$Helper$TestExpertDepsIn:\u001b[0m\n",
      "\u001b[32mexpertDpts\u001b[0m\n",
      "\u001b[32m- should work\u001b[0m\n"
     ]
    }
   ],
   "source": [
    "run(new TestExpertDepsIn(expertDepsIn))"
   ]
  },
  {
   "cell_type": "code",
   "execution_count": null,
   "metadata": {},
   "outputs": [],
   "source": []
  }
 ],
 "metadata": {
  "kernelspec": {
   "display_name": "Scala",
   "language": "scala",
   "name": "scala"
  },
  "language_info": {
   "codemirror_mode": "text/x-scala",
   "file_extension": ".sc",
   "mimetype": "text/x-scala",
   "name": "scala",
   "nbconvert_exporter": "script",
   "version": "2.13.11"
  }
 },
 "nbformat": 4,
 "nbformat_minor": 4
}
