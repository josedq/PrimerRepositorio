{
 "cells": [
  {
   "cell_type": "markdown",
   "metadata": {},
   "source": [
    "# Programación declarativa @ URJC\n",
    "# Programación funcional\n",
    "## Curso 22-23, convocatoria extraordinaria (29 de junio de 2023)\n"
   ]
  },
  {
   "cell_type": "markdown",
   "metadata": {},
   "source": [
    "# Definiciones auxiliares"
   ]
  },
  {
   "cell_type": "code",
   "execution_count": 59,
   "metadata": {},
   "outputs": [
    {
     "data": {
      "text/plain": [
       "\u001b[32mimport \u001b[39m\u001b[36m$ivy.$                               \n",
       "\u001b[39m\n",
       "\u001b[32mimport \u001b[39m\u001b[36morg.scalatest._\u001b[39m"
      ]
     },
     "execution_count": 59,
     "metadata": {},
     "output_type": "execute_result"
    }
   ],
   "source": [
    "import $ivy.`org.scalatest::scalatest:3.0.8`\n",
    "import org.scalatest._"
   ]
  },
  {
   "cell_type": "markdown",
   "metadata": {},
   "source": [
    "### Algunas definiciones de tipos y funciones auxiliares"
   ]
  },
  {
   "cell_type": "code",
   "execution_count": 2,
   "metadata": {},
   "outputs": [
    {
     "data": {
      "text/plain": [
       "defined \u001b[32mclass\u001b[39m \u001b[36mTree\u001b[39m\n",
       "defined \u001b[32mclass\u001b[39m \u001b[36mEmpty\u001b[39m\n",
       "defined \u001b[32mclass\u001b[39m \u001b[36mNode\u001b[39m\n",
       "defined \u001b[32mobject\u001b[39m \u001b[36mTree\u001b[39m\n",
       "\u001b[32mimport \u001b[39m\u001b[36mTree._\n",
       "\n",
       "\u001b[39m\n",
       "defined \u001b[32mfunction\u001b[39m \u001b[36mfoldTree\u001b[39m"
      ]
     },
     "execution_count": 2,
     "metadata": {},
     "output_type": "execute_result"
    }
   ],
   "source": [
    "sealed abstract class Tree[A]\n",
    "case class Empty[A]() extends Tree[A]\n",
    "case class Node[A](left: Tree[A], root: A, right: Tree[A]) extends Tree[A]\n",
    "\n",
    "object Tree{\n",
    "    def void[A]: Tree[A] = Empty()\n",
    "    def leaf[A](a: A): Node[A] = Node(Empty(), a, Empty())\n",
    "    def right[A](a: A, tree: Tree[A]): Node[A] = Node(Empty(), a, tree)\n",
    "    def left[A](tree: Tree[A], a: A): Node[A] = Node(tree, a, Empty())\n",
    "    def node[A](left: Tree[A], a: A, right: Tree[A]): Node[A] = Node(left, a, right)\n",
    "}\n",
    "\n",
    "import Tree._\n",
    "\n",
    "def foldTree[A, B](tree: Tree[A])(empty: B)(node: (B, A, B) => B): B = \n",
    "    tree match {\n",
    "        case Empty() => empty\n",
    "        case Node(left, root, right) => node(foldTree(left)(empty)(node), root, foldTree(right)(empty)(node))\n",
    "    }"
   ]
  },
  {
   "cell_type": "code",
   "execution_count": 3,
   "metadata": {},
   "outputs": [
    {
     "data": {
      "text/plain": [
       "defined \u001b[32mobject\u001b[39m \u001b[36mSignatures\u001b[39m"
      ]
     },
     "execution_count": 3,
     "metadata": {},
     "output_type": "execute_result"
    }
   ],
   "source": [
    "object Signatures{\n",
    "    abstract class List[A]{\n",
    "        \n",
    "        // Common HOFs\n",
    "        def foldRight[B](nil: B)(cons: (A, B) => B): B\n",
    "        def foldLeft[B](initial: B)(update: (B, A) => B): B\n",
    "        def map[B](f: A => B): List[B]\n",
    "        def flatMap[B](f: A => List[B]): List[B]\n",
    "        def filter(f: A => Boolean): List[A]\n",
    "        def forall(pred: A => Boolean): Boolean\n",
    "        def exists(pred: A => Boolean): Boolean\n",
    " \n",
    "        // Returns the number of elements of this list\n",
    "        def length: Int\n",
    "        def reverse: List[A]\n",
    "    }\n",
    "}"
   ]
  },
  {
   "cell_type": "markdown",
   "metadata": {},
   "source": [
    "### Definiciones auxiliares sobre la correspondencia Curry-Howard y Tipos Algebraicos de Datos"
   ]
  },
  {
   "cell_type": "code",
   "execution_count": 4,
   "metadata": {},
   "outputs": [
    {
     "data": {
      "text/plain": [
       "defined \u001b[32mtrait\u001b[39m \u001b[36mIsomorphic\u001b[39m"
      ]
     },
     "execution_count": 4,
     "metadata": {},
     "output_type": "execute_result"
    }
   ],
   "source": [
    "trait Isomorphic[A, B]{\n",
    "    \n",
    "    def from(a: A): B\n",
    "    \n",
    "    def to(b: B): A\n",
    "}"
   ]
  },
  {
   "cell_type": "code",
   "execution_count": 5,
   "metadata": {},
   "outputs": [
    {
     "data": {
      "text/plain": [
       "defined \u001b[32mtype\u001b[39m \u001b[36mNot\u001b[39m"
      ]
     },
     "execution_count": 5,
     "metadata": {},
     "output_type": "execute_result"
    }
   ],
   "source": [
    "type Not[P] = P => Nothing"
   ]
  },
  {
   "cell_type": "markdown",
   "metadata": {},
   "source": [
    "# Ejercicio 1 (a)\n",
    "__(2 puntos)__\n",
    "\n",
    "__a) (1 punto)__ Utiliza la correspondencia de Curry-Howard para demostrar la siguiente tautología de la lógica intuicionista proposicional: \n",
    "\n",
    "$\\vdash p \\wedge q \\rightarrow \\neg(\\neg p \\vee \\neg q) $"
   ]
  },
  {
   "cell_type": "code",
   "execution_count": 6,
   "metadata": {},
   "outputs": [
    {
     "data": {
      "text/plain": [
       "defined \u001b[32mfunction\u001b[39m \u001b[36mproof\u001b[39m"
      ]
     },
     "execution_count": 6,
     "metadata": {},
     "output_type": "execute_result"
    }
   ],
   "source": [
    "def proof[P, Q]: (P, Q) => Not[Either[Not[P], Not[Q]]] = \n",
    "    (p: P, q: Q) => {\n",
    "        case Left(np: Not[P]) => np(p)\n",
    "        case Right(nq: Not[Q]) => nq(q)\n",
    "    }"
   ]
  },
  {
   "cell_type": "markdown",
   "metadata": {},
   "source": [
    "__b) (1 punto)__ Utiliza la correspondencia de Curry-Howard para demostrar la siguiente tautología de la lógica clásica proposicional: $\\vdash_c  \\neg(\\neg p \\vee \\neg q) \\rightarrow p \\wedge q $. Para ello, utiliza como premisa adicional la ley del tercio excluso aplicada a las proposiciones $p$ y $q$, es decir, demuestra la validez intuicionista del siguiente argumento lógico:\n",
    "\n",
    "$\\{ p \\vee \\neg p, q \\vee \\neg q \\} \\vdash \\neg(\\neg p \\vee \\neg q) \\rightarrow p \\wedge q$"
   ]
  },
  {
   "cell_type": "code",
   "execution_count": 8,
   "metadata": {},
   "outputs": [
    {
     "data": {
      "text/plain": [
       "defined \u001b[32mfunction\u001b[39m \u001b[36mproof\u001b[39m"
      ]
     },
     "execution_count": 8,
     "metadata": {},
     "output_type": "execute_result"
    }
   ],
   "source": [
    "def proof[P, Q](lemp: Either[P, Not[P]], lemq: Either[Q, Not[Q]]): Not[Either[Not[P], Not[Q]]] => (P, Q) = \n",
    "    n => (lemp, lemq) match {\n",
    "        case (Left(p), Left(q)) => (p, q)\n",
    "        case (_, Right(nq)) => n(Right(nq))\n",
    "        case (Right(np), _) => n(Left(np))\n",
    "    }"
   ]
  },
  {
   "cell_type": "markdown",
   "metadata": {},
   "source": [
    "# Ejercicio 1 (b)\n",
    "__(2 puntos)__\n",
    "\n",
    "__a) (1 punto)__ Utiliza la correspondencia de Curry-Howard para demostrar la siguiente tautología de la lógica intuicionista proposicional: \n",
    "\n",
    "$\\vdash p \\wedge q \\rightarrow \\neg(p \\rightarrow \\neg q) $"
   ]
  },
  {
   "cell_type": "code",
   "execution_count": 8,
   "metadata": {},
   "outputs": [
    {
     "data": {
      "text/plain": [
       "defined \u001b[32mfunction\u001b[39m \u001b[36mproof\u001b[39m"
      ]
     },
     "execution_count": 8,
     "metadata": {},
     "output_type": "execute_result"
    }
   ],
   "source": [
    "def proof[P, Q]: (P, Q) => Not[P => Not[Q]] = \n",
    "    (p: P, q: Q) => (f: P => Not[Q]) => \n",
    "        f(p : P)(q : Q)"
   ]
  },
  {
   "cell_type": "markdown",
   "metadata": {},
   "source": [
    "__b) (1 punto)__ Utiliza la correspondencia de Curry-Howard para demostrar la siguiente tautología de la lógica clásica proposicional: $\\vdash_c  \\neg(p \\rightarrow \\neg q) \\rightarrow p \\wedge q $. Para ello, utiliza como premisa adicional la ley del tercio excluso aplicada a las proposiciones $p$ y $q$, es decir, demuestra la validez intuicionista del siguiente argumento lógico:\n",
    "\n",
    "$\\{ p \\vee \\neg p, q \\vee \\neg q \\} \\vdash \\neg(p \\rightarrow \\neg q)  \\rightarrow p \\wedge q$"
   ]
  },
  {
   "cell_type": "code",
   "execution_count": 9,
   "metadata": {},
   "outputs": [
    {
     "data": {
      "text/plain": [
       "defined \u001b[32mfunction\u001b[39m \u001b[36mproof\u001b[39m"
      ]
     },
     "execution_count": 9,
     "metadata": {},
     "output_type": "execute_result"
    }
   ],
   "source": [
    "def proof[P, Q](lemp: Either[P, Not[P]], lemq: Either[Q, Not[Q]]): Not[P => Not[Q]] => (P, Q) = \n",
    "    (n: (P => Q => Nothing) => Nothing) => (lemp, lemq) match {\n",
    "        case (Left(p), Left(q)) => (p, q)\n",
    "        case (_, Right(nq)) => n(_ => nq)\n",
    "        case (Right(np), Left(q)) => (n((p: P) => (_ : Q) => np(p)), q)\n",
    "    }"
   ]
  },
  {
   "cell_type": "markdown",
   "metadata": {},
   "source": [
    "# Ejercicio 2 (a)\n",
    "__(1,5 puntos)__"
   ]
  },
  {
   "cell_type": "markdown",
   "metadata": {},
   "source": [
    "Demostrar que los tipos `(Either[P, Q], Either[R, S])` y `Either[(P, R), Either[(P, S), Either[(Q, R), (Q, S)]]]` son isomorfos, para todo tipo `P`, `Q`, `R` y `S`."
   ]
  },
  {
   "cell_type": "code",
   "execution_count": 9,
   "metadata": {},
   "outputs": [
    {
     "data": {
      "text/plain": [
       "defined \u001b[32mclass\u001b[39m \u001b[36mIso\u001b[39m"
      ]
     },
     "execution_count": 9,
     "metadata": {},
     "output_type": "execute_result"
    }
   ],
   "source": [
    "class Iso[P, Q, R, S] extends Isomorphic[(Either[P, Q], Either[R, S]), Either[(P, R), Either[(P, S), Either[(Q, R), (Q, S)]]]]{\n",
    "    \n",
    "    def from(t: (Either[P, Q], Either[R, S])): Either[(P, R), Either[(P, S), Either[(Q, R), (Q, S)]]] = \n",
    "        t match {\n",
    "            case (Left(p), Left(r)) =>\n",
    "                Left((p,r))\n",
    "            case (Left(p), Right(s)) =>\n",
    "                Right(Left((p,s)))\n",
    "            case (Right(q), Left(r)) =>\n",
    "                Right(Right(Left((q,r))))\n",
    "            case (Right(q), Right(s)) =>\n",
    "                Right(Right(Right((q,s))))\n",
    "        }\n",
    "    \n",
    "    def to(e: Either[(P, R), Either[(P, S), Either[(Q, R), (Q, S)]]]): (Either[P, Q], Either[R, S]) = \n",
    "        e match {\n",
    "            case Left((p, r)) =>\n",
    "                (Left(p), Left(r))\n",
    "            case Right(Left((p, s))) =>\n",
    "                (Left(p), Right(s))\n",
    "            case Right(Right(Left((q, r)))) =>\n",
    "                (Right(q), Left(r))\n",
    "            case Right(Right(Right((q, s)))) =>\n",
    "                (Right(q), Right(s))\n",
    "        }\n",
    "}"
   ]
  },
  {
   "cell_type": "markdown",
   "metadata": {},
   "source": [
    "# Ejercicio 2 (b)\n",
    "__(1,5 puntos)__"
   ]
  },
  {
   "cell_type": "markdown",
   "metadata": {},
   "source": [
    "Demostrar que los tipos `((Y, Either[Z, V])) => X` y `(Z => Y => X, V => Y => X)` son isomorfos, para todo tipo `X`, `Y`, `Z` y `V`."
   ]
  },
  {
   "cell_type": "code",
   "execution_count": 10,
   "metadata": {},
   "outputs": [
    {
     "data": {
      "text/plain": [
       "defined \u001b[32mclass\u001b[39m \u001b[36mIso\u001b[39m"
      ]
     },
     "execution_count": 10,
     "metadata": {},
     "output_type": "execute_result"
    }
   ],
   "source": [
    "class Iso[X, Y, Z, V] extends Isomorphic[((Y, Either[Z, V])) => X, (Z => Y => X, V => Y => X)]{\n",
    "    \n",
    "    def from(t: ((Y, Either[Z, V])) => X): (Z => Y => X, V => Y => X) = \n",
    "        (z => y => t((y, Left(z))), \n",
    "         v => y => t((y, Right(v))))\n",
    "    \n",
    "    def to(t: (Z => Y => X, V => Y => X)): ((Y, Either[Z, V])) => X = {\n",
    "        case (y, Left(z)) => t._1(z)(y)\n",
    "        case (y, Right(v)) => t._2(v)(y)\n",
    "    }\n",
    "        \n",
    "}"
   ]
  },
  {
   "cell_type": "markdown",
   "metadata": {},
   "source": [
    "# Ejercicio 3 (a)\n",
    "__(5 puntos)__"
   ]
  },
  {
   "cell_type": "markdown",
   "metadata": {},
   "source": [
    "__a) (1 punto)__ La función `duplicate` recibe un árbol de elementos cualesquiera y devuelve un árbol con la misma estructura donde los elementos de los nodos se encuentran duplicados. Por ejemplo: "
   ]
  },
  {
   "cell_type": "code",
   "execution_count": 11,
   "metadata": {},
   "outputs": [
    {
     "data": {
      "text/plain": [
       "defined \u001b[32mclass\u001b[39m \u001b[36mTestDuplicate\u001b[39m"
      ]
     },
     "execution_count": 11,
     "metadata": {},
     "output_type": "execute_result"
    }
   ],
   "source": [
    "class TestDuplicate(duplicate: Tree[Int] => Tree[(Int, Int)]) extends FlatSpec with Matchers{\n",
    "    \n",
    "    \"duplicate\" should \"work\" in {\n",
    "        duplicate(void) shouldBe void\n",
    "        duplicate(node(left(leaf(1),3),4,left(right(3, leaf(9)),10))) shouldBe node(left(leaf((1,1)),(3,3)),(4,4),left(right((3,3), leaf((9,9))),(10,10)))\n",
    "    }\n",
    "}"
   ]
  },
  {
   "cell_type": "markdown",
   "metadata": {},
   "source": [
    "Implementa recursivamente la función `duplicate`."
   ]
  },
  {
   "cell_type": "code",
   "execution_count": 12,
   "metadata": {},
   "outputs": [
    {
     "data": {
      "text/plain": [
       "defined \u001b[32mfunction\u001b[39m \u001b[36mduplicate\u001b[39m"
      ]
     },
     "execution_count": 12,
     "metadata": {},
     "output_type": "execute_result"
    }
   ],
   "source": [
    "def duplicate[A](t: Tree[A]): Tree[(A, A)] = \n",
    "    t match {\n",
    "        case Empty() => Empty()\n",
    "        case Node(left, root, right) => \n",
    "            Node(duplicate(left), (root, root), duplicate(right))\n",
    "    }"
   ]
  },
  {
   "cell_type": "code",
   "execution_count": 13,
   "metadata": {},
   "outputs": [
    {
     "name": "stdout",
     "output_type": "stream",
     "text": [
      "\u001b[32mcmd10$Helper$TestDuplicate:\u001b[0m\n",
      "\u001b[32mduplicate\u001b[0m\n",
      "\u001b[32m- should work\u001b[0m\n"
     ]
    }
   ],
   "source": [
    "run(new TestDuplicate(duplicate[Int]))"
   ]
  },
  {
   "cell_type": "markdown",
   "metadata": {},
   "source": [
    "__b) (1 punto)__ Implementa recursivamente la función `fusion` especificada de la siguiente forma: "
   ]
  },
  {
   "cell_type": "code",
   "execution_count": 14,
   "metadata": {},
   "outputs": [
    {
     "data": {
      "text/plain": [
       "defined \u001b[32mclass\u001b[39m \u001b[36mTestFusion\u001b[39m"
      ]
     },
     "execution_count": 14,
     "metadata": {},
     "output_type": "execute_result"
    }
   ],
   "source": [
    "class TestFusion(fusion: Tree[(Int, Int, Int)] => Tree[Int]) extends FlatSpec with Matchers{\n",
    "    \n",
    "    \"fusion\" should \"work\" in {\n",
    "        fusion(void) shouldBe void\n",
    "        fusion(node(left(leaf((1,2,3)),(4,5,6)),(0,0,0),left(right((3,3,3), leaf((9,8,1))),(10,1,0)))) shouldBe \n",
    "               node(left(leaf(6)      ,15)     ,0      ,left(right(9      , leaf(18))     ,11))\n",
    "    }\n",
    "}"
   ]
  },
  {
   "cell_type": "markdown",
   "metadata": {},
   "source": [
    "Como se puede observar, la función `fusion` recibe un árbol cuyos elementos son tripletas de enteros, y devuelve un árbol con la misma estructura cuyos elementos resultan de sumar dichas tripletas."
   ]
  },
  {
   "cell_type": "code",
   "execution_count": 15,
   "metadata": {},
   "outputs": [
    {
     "data": {
      "text/plain": [
       "defined \u001b[32mfunction\u001b[39m \u001b[36mfusion\u001b[39m"
      ]
     },
     "execution_count": 15,
     "metadata": {},
     "output_type": "execute_result"
    }
   ],
   "source": [
    "def fusion(t: Tree[(Int, Int, Int)]): Tree[Int] = \n",
    "    t match {\n",
    "        case Empty() => Empty()\n",
    "        case Node(left, (a,b,c), right) => \n",
    "            Node(fusion(left), a+b+c, fusion(right))\n",
    "    }"
   ]
  },
  {
   "cell_type": "code",
   "execution_count": 16,
   "metadata": {},
   "outputs": [
    {
     "name": "stdout",
     "output_type": "stream",
     "text": [
      "\u001b[32mcmd13$Helper$TestFusion:\u001b[0m\n",
      "\u001b[32mfusion\u001b[0m\n",
      "\u001b[32m- should work\u001b[0m\n"
     ]
    }
   ],
   "source": [
    "run(new TestFusion(fusion))"
   ]
  },
  {
   "cell_type": "markdown",
   "metadata": {},
   "source": [
    "__c) (1 punto)__ Se desean generalizar las dos funciones anteriores por medio de una función `map`. Esta función recibe un árbol de elementos cualquiera y devuelve un árbol con la misma estructura cuyos elementos resultan de aplicar una función recibida como parámetro a los elementos del árbol original. Por ejemplo: "
   ]
  },
  {
   "cell_type": "code",
   "execution_count": 17,
   "metadata": {},
   "outputs": [
    {
     "data": {
      "text/plain": [
       "defined \u001b[32mclass\u001b[39m \u001b[36mTestMap\u001b[39m"
      ]
     },
     "execution_count": 17,
     "metadata": {},
     "output_type": "execute_result"
    }
   ],
   "source": [
    "class TestMap(map: Tree[Int] => (Int => String) => Tree[String]) extends FlatSpec with Matchers{\n",
    "    \n",
    "    \"map\" should \"work for _.toString\" in {\n",
    "        map(void)(_.toString) shouldBe void\n",
    "        map(left(node(leaf(1),3,leaf(4)),4))(_.toString) shouldBe left(node(leaf(\"1\"),\"3\",leaf(\"4\")),\"4\")\n",
    "    }\n",
    "    \n",
    "    \"map\" should \"work for replicate('a')\" in {\n",
    "        \n",
    "        def replicate(c: Char)(i: Int): String = \n",
    "            (1 to i).foldLeft(\"\")((out: String, _) => out + c)\n",
    "        \n",
    "        map(void)(replicate('a')) shouldBe void\n",
    "        map(left(node(leaf(1),3,leaf(4)),4))(replicate('a')) shouldBe left(node(leaf(\"a\"),\"aaa\",leaf(\"aaaa\")),\"aaaa\")\n",
    "    }\n",
    "}"
   ]
  },
  {
   "cell_type": "code",
   "execution_count": 18,
   "metadata": {},
   "outputs": [
    {
     "data": {
      "text/plain": [
       "defined \u001b[32mfunction\u001b[39m \u001b[36mmap\u001b[39m"
      ]
     },
     "execution_count": 18,
     "metadata": {},
     "output_type": "execute_result"
    }
   ],
   "source": [
    "def map[A, B](t: Tree[A])(f: A => B): Tree[B] = \n",
    "    t match {\n",
    "        case Empty() => Empty()\n",
    "        case Node(left, root, right) => \n",
    "            Node(map(left)(f), f(root), map(right)(f))\n",
    "    }"
   ]
  },
  {
   "cell_type": "code",
   "execution_count": 19,
   "metadata": {},
   "outputs": [
    {
     "name": "stdout",
     "output_type": "stream",
     "text": [
      "\u001b[32mcmd16$Helper$TestMap:\u001b[0m\n",
      "\u001b[32mmap\u001b[0m\n",
      "\u001b[32m- should work for _.toString\u001b[0m\n",
      "\u001b[32mmap\u001b[0m\n",
      "\u001b[32m- should work for replicate('a')\u001b[0m\n"
     ]
    }
   ],
   "source": [
    "run(new TestMap(map))"
   ]
  },
  {
   "cell_type": "markdown",
   "metadata": {},
   "source": [
    "__d) (1 punto)__ Reimplementa las funciones de los apartados `a)` y `b)` utilizando la función `map`."
   ]
  },
  {
   "cell_type": "code",
   "execution_count": 20,
   "metadata": {},
   "outputs": [
    {
     "data": {
      "text/plain": [
       "defined \u001b[32mfunction\u001b[39m \u001b[36mduplicate\u001b[39m"
      ]
     },
     "execution_count": 20,
     "metadata": {},
     "output_type": "execute_result"
    }
   ],
   "source": [
    "def duplicate[A](t: Tree[A]): Tree[(A, A)] = \n",
    "    map(t)(a => (a, a))"
   ]
  },
  {
   "cell_type": "code",
   "execution_count": 21,
   "metadata": {},
   "outputs": [
    {
     "data": {
      "text/plain": [
       "defined \u001b[32mfunction\u001b[39m \u001b[36mfusion\u001b[39m"
      ]
     },
     "execution_count": 21,
     "metadata": {},
     "output_type": "execute_result"
    }
   ],
   "source": [
    "def fusion(t: Tree[(Int, Int, Int)]): Tree[Int] = \n",
    "    map(t){ case (a,b,c) => a+b+c }"
   ]
  },
  {
   "cell_type": "code",
   "execution_count": 22,
   "metadata": {},
   "outputs": [
    {
     "name": "stdout",
     "output_type": "stream",
     "text": [
      "\u001b[32mcmd10$Helper$TestDuplicate:\u001b[0m\n",
      "\u001b[32mduplicate\u001b[0m\n",
      "\u001b[32m- should work\u001b[0m\n",
      "\u001b[32mcmd13$Helper$TestFusion:\u001b[0m\n",
      "\u001b[32mfusion\u001b[0m\n",
      "\u001b[32m- should work\u001b[0m\n"
     ]
    }
   ],
   "source": [
    "run(new TestDuplicate(duplicate[Int]))\n",
    "run(new TestFusion(fusion))"
   ]
  },
  {
   "cell_type": "markdown",
   "metadata": {},
   "source": [
    "__e) (1 punto)__ Reimplementa la función `map` del apartado `c)` utilizando la función `foldTree`."
   ]
  },
  {
   "cell_type": "code",
   "execution_count": 23,
   "metadata": {},
   "outputs": [
    {
     "data": {
      "text/plain": [
       "defined \u001b[32mfunction\u001b[39m \u001b[36mmap\u001b[39m"
      ]
     },
     "execution_count": 23,
     "metadata": {},
     "output_type": "execute_result"
    }
   ],
   "source": [
    "def map[A, B](t: Tree[A])(f: A => B): Tree[B] = \n",
    "    foldTree[A, Tree[B]](t)(\n",
    "        Empty())((leftSol, root, rightSol) => Node(leftSol, f(root), rightSol))"
   ]
  },
  {
   "cell_type": "code",
   "execution_count": 24,
   "metadata": {},
   "outputs": [
    {
     "name": "stdout",
     "output_type": "stream",
     "text": [
      "\u001b[32mcmd16$Helper$TestMap:\u001b[0m\n",
      "\u001b[32mmap\u001b[0m\n",
      "\u001b[32m- should work for _.toString\u001b[0m\n",
      "\u001b[32mmap\u001b[0m\n",
      "\u001b[32m- should work for replicate('a')\u001b[0m\n"
     ]
    }
   ],
   "source": [
    "run(new TestMap(map))"
   ]
  },
  {
   "cell_type": "markdown",
   "metadata": {},
   "source": [
    "# Ejercicio 3 (b)\n",
    "__(5 puntos)__"
   ]
  },
  {
   "cell_type": "markdown",
   "metadata": {},
   "source": [
    "__a) (1 punto)__ La función `positives` recibe un árbol de elementos enteros y devuelve un árbol con la misma estructura donde los elementos de los nodos son valores booleanos que indican si el nodo correspondiente del árbol de entrada es positivo o no. Por ejemplo: "
   ]
  },
  {
   "cell_type": "code",
   "execution_count": 34,
   "metadata": {},
   "outputs": [
    {
     "data": {
      "text/plain": [
       "defined \u001b[32mclass\u001b[39m \u001b[36mTestPositives\u001b[39m"
      ]
     },
     "execution_count": 34,
     "metadata": {},
     "output_type": "execute_result"
    }
   ],
   "source": [
    "class TestPositives(positives: Tree[Int] => Tree[Boolean]) extends FlatSpec with Matchers{\n",
    "    \n",
    "    \"positives\" should \"work\" in {\n",
    "        positives(void) shouldBe void\n",
    "        positives(node(left(leaf(-1),   3),   0,    left(right(-3,    leaf(-9)),   10))) shouldBe \n",
    "                  node(left(leaf(false),true),false,left(right(false, leaf(false)),true))\n",
    "    }\n",
    "}"
   ]
  },
  {
   "cell_type": "markdown",
   "metadata": {},
   "source": [
    "Implementa recursivamente la función `positives`."
   ]
  },
  {
   "cell_type": "code",
   "execution_count": 35,
   "metadata": {},
   "outputs": [
    {
     "data": {
      "text/plain": [
       "defined \u001b[32mfunction\u001b[39m \u001b[36mpositives\u001b[39m"
      ]
     },
     "execution_count": 35,
     "metadata": {},
     "output_type": "execute_result"
    }
   ],
   "source": [
    "def positives(t: Tree[Int]): Tree[Boolean] = \n",
    "    t match {\n",
    "        case Empty() => Empty()\n",
    "        case Node(left, root, right) => \n",
    "            Node(positives(left), root > 0, positives(right))\n",
    "    }"
   ]
  },
  {
   "cell_type": "code",
   "execution_count": 37,
   "metadata": {},
   "outputs": [
    {
     "name": "stdout",
     "output_type": "stream",
     "text": [
      "\u001b[32mcmd33$Helper$TestPositives:\u001b[0m\n",
      "\u001b[32mpositives\u001b[0m\n",
      "\u001b[32m- should work\u001b[0m\n"
     ]
    }
   ],
   "source": [
    "run(new TestPositives(positives))"
   ]
  },
  {
   "cell_type": "markdown",
   "metadata": {},
   "source": [
    "__b) (1 punto)__ Implementa recursivamente la función `chars` especificada de la siguiente forma: "
   ]
  },
  {
   "cell_type": "code",
   "execution_count": 38,
   "metadata": {},
   "outputs": [
    {
     "data": {
      "text/plain": [
       "defined \u001b[32mclass\u001b[39m \u001b[36mTestChars\u001b[39m"
      ]
     },
     "execution_count": 38,
     "metadata": {},
     "output_type": "execute_result"
    }
   ],
   "source": [
    "class TestChars(chars: Tree[String] => Tree[List[Char]]) extends FlatSpec with Matchers{\n",
    "    \n",
    "    \"chars\" should \"work\" in {\n",
    "        chars(void) shouldBe void\n",
    "        chars(node(left(leaf(\"hola\"),                \"adios\"),                   \n",
    "                   \"\",     \n",
    "                   left(right(\"pfff\",                leaf(\"A\")),      \"bye\"))) shouldBe \n",
    "              node(left(leaf(List('h','o','l','a')), List('a','d','i','o','s')), \n",
    "                   List(), \n",
    "                   left(right(List('p','f','f','f'), leaf(List('A'))), List('b','y','e')))\n",
    "    }\n",
    "}"
   ]
  },
  {
   "cell_type": "markdown",
   "metadata": {},
   "source": [
    "Como se puede observar, la función `chars` recibe un árbol cuyos elementos son cadenas de caracteres, y devuelve un árbol con la misma estructura cuyos elementos se obtienen transformando el string correspondiente en una lista de caracteres. "
   ]
  },
  {
   "cell_type": "code",
   "execution_count": 39,
   "metadata": {},
   "outputs": [
    {
     "data": {
      "text/plain": [
       "defined \u001b[32mfunction\u001b[39m \u001b[36mchars\u001b[39m"
      ]
     },
     "execution_count": 39,
     "metadata": {},
     "output_type": "execute_result"
    }
   ],
   "source": [
    "def chars(t: Tree[String]): Tree[List[Char]] = \n",
    "    t match {\n",
    "        case Empty() => Empty()\n",
    "        case Node(left, s, right) => \n",
    "            Node(chars(left), s.toList, chars(right))\n",
    "    }"
   ]
  },
  {
   "cell_type": "code",
   "execution_count": 40,
   "metadata": {},
   "outputs": [
    {
     "name": "stdout",
     "output_type": "stream",
     "text": [
      "\u001b[32mcmd13$Helper$TestFusion:\u001b[0m\n",
      "\u001b[32mfusion\u001b[0m\n",
      "\u001b[32m- should work\u001b[0m\n"
     ]
    }
   ],
   "source": [
    "run(new TestFusion(fusion))"
   ]
  },
  {
   "cell_type": "markdown",
   "metadata": {},
   "source": [
    "__c) (1 punto)__ Se desean generalizar las dos funciones anteriores por medio de una función `map`. Esta función recibe un árbol de elementos cualquiera y devuelve un árbol con la misma estructura cuyos elementos resultan de aplicar una función recibida como parámetro a los elementos del árbol original. Por ejemplo: "
   ]
  },
  {
   "cell_type": "code",
   "execution_count": 41,
   "metadata": {},
   "outputs": [
    {
     "data": {
      "text/plain": [
       "defined \u001b[32mclass\u001b[39m \u001b[36mTestMap\u001b[39m"
      ]
     },
     "execution_count": 41,
     "metadata": {},
     "output_type": "execute_result"
    }
   ],
   "source": [
    "class TestMap(map: Tree[Int] => (Int => String) => Tree[String]) extends FlatSpec with Matchers{\n",
    "    \n",
    "    \"map\" should \"work for _.toString\" in {\n",
    "        map(void)(_.toString) shouldBe void\n",
    "        map(left(node(leaf(1),3,leaf(4)),4))(_.toString) shouldBe left(node(leaf(\"1\"),\"3\",leaf(\"4\")),\"4\")\n",
    "    }\n",
    "    \n",
    "    \"map\" should \"work for replicate('a')\" in {\n",
    "        \n",
    "        def replicate(c: Char)(i: Int): String = \n",
    "            (1 to i).foldLeft(\"\")((out: String, _) => out + c)\n",
    "        \n",
    "        map(void)(replicate('a')) shouldBe void\n",
    "        map(left(node(leaf(1),3,leaf(4)),4))(replicate('a')) shouldBe left(node(leaf(\"a\"),\"aaa\",leaf(\"aaaa\")),\"aaaa\")\n",
    "    }\n",
    "}"
   ]
  },
  {
   "cell_type": "code",
   "execution_count": 42,
   "metadata": {},
   "outputs": [
    {
     "data": {
      "text/plain": [
       "defined \u001b[32mfunction\u001b[39m \u001b[36mmap\u001b[39m"
      ]
     },
     "execution_count": 42,
     "metadata": {},
     "output_type": "execute_result"
    }
   ],
   "source": [
    "def map[A, B](t: Tree[A])(f: A => B): Tree[B] = \n",
    "    t match {\n",
    "        case Empty() => Empty()\n",
    "        case Node(left, root, right) => \n",
    "            Node(map(left)(f), f(root), map(right)(f))\n",
    "    }"
   ]
  },
  {
   "cell_type": "code",
   "execution_count": 43,
   "metadata": {},
   "outputs": [
    {
     "name": "stdout",
     "output_type": "stream",
     "text": [
      "\u001b[32mcmd40$Helper$TestMap:\u001b[0m\n",
      "\u001b[32mmap\u001b[0m\n",
      "\u001b[32m- should work for _.toString\u001b[0m\n",
      "\u001b[32mmap\u001b[0m\n",
      "\u001b[32m- should work for replicate('a')\u001b[0m\n"
     ]
    }
   ],
   "source": [
    "run(new TestMap(map))"
   ]
  },
  {
   "cell_type": "markdown",
   "metadata": {},
   "source": [
    "__d) (1 punto)__ Reimplementa las funciones de los apartados `a)` y `b)` utilizando la función `map`."
   ]
  },
  {
   "cell_type": "code",
   "execution_count": 44,
   "metadata": {},
   "outputs": [
    {
     "data": {
      "text/plain": [
       "defined \u001b[32mfunction\u001b[39m \u001b[36mpositives\u001b[39m"
      ]
     },
     "execution_count": 44,
     "metadata": {},
     "output_type": "execute_result"
    }
   ],
   "source": [
    "def positives(t: Tree[Int]): Tree[Boolean] = \n",
    "    map(t)(_ > 0)"
   ]
  },
  {
   "cell_type": "code",
   "execution_count": 45,
   "metadata": {},
   "outputs": [
    {
     "data": {
      "text/plain": [
       "defined \u001b[32mfunction\u001b[39m \u001b[36mchars\u001b[39m"
      ]
     },
     "execution_count": 45,
     "metadata": {},
     "output_type": "execute_result"
    }
   ],
   "source": [
    "def chars(t: Tree[String]): Tree[List[Char]] = \n",
    "    map(t)(_.toList)"
   ]
  },
  {
   "cell_type": "code",
   "execution_count": 46,
   "metadata": {},
   "outputs": [
    {
     "name": "stdout",
     "output_type": "stream",
     "text": [
      "\u001b[32mcmd33$Helper$TestPositives:\u001b[0m\n",
      "\u001b[32mpositives\u001b[0m\n",
      "\u001b[32m- should work\u001b[0m\n",
      "\u001b[32mcmd37$Helper$TestChars:\u001b[0m\n",
      "\u001b[32mchars\u001b[0m\n",
      "\u001b[32m- should work\u001b[0m\n"
     ]
    }
   ],
   "source": [
    "run(new TestPositives(positives))\n",
    "run(new TestChars(chars))"
   ]
  },
  {
   "cell_type": "markdown",
   "metadata": {},
   "source": [
    "__e) (1 punto)__ Reimplementa la función `map` del apartado `c)` utilizando la función `foldTree`."
   ]
  },
  {
   "cell_type": "code",
   "execution_count": 47,
   "metadata": {},
   "outputs": [
    {
     "data": {
      "text/plain": [
       "defined \u001b[32mfunction\u001b[39m \u001b[36mmap\u001b[39m"
      ]
     },
     "execution_count": 47,
     "metadata": {},
     "output_type": "execute_result"
    }
   ],
   "source": [
    "def map[A, B](t: Tree[A])(f: A => B): Tree[B] = \n",
    "    foldTree[A, Tree[B]](t)(\n",
    "        Empty())((leftSol, root, rightSol) => Node(leftSol, f(root), rightSol))"
   ]
  },
  {
   "cell_type": "code",
   "execution_count": 48,
   "metadata": {},
   "outputs": [
    {
     "name": "stdout",
     "output_type": "stream",
     "text": [
      "\u001b[32mcmd40$Helper$TestMap:\u001b[0m\n",
      "\u001b[32mmap\u001b[0m\n",
      "\u001b[32m- should work for _.toString\u001b[0m\n",
      "\u001b[32mmap\u001b[0m\n",
      "\u001b[32m- should work for replicate('a')\u001b[0m\n"
     ]
    }
   ],
   "source": [
    "run(new TestMap(map))"
   ]
  },
  {
   "cell_type": "markdown",
   "metadata": {},
   "source": [
    "# Ejercicio 4 (a)\n",
    "__(1,5 puntos)__\n",
    "\n",
    "Considérese la siguiente implementación imperativa de la función `sumDivisors`, la cual calcula la suma de todos los divisores propios de un número dado (es decir, excluyendo a él mismo):"
   ]
  },
  {
   "cell_type": "code",
   "execution_count": 51,
   "metadata": {},
   "outputs": [
    {
     "data": {
      "text/plain": [
       "defined \u001b[32mfunction\u001b[39m \u001b[36msumDivisorsF\u001b[39m"
      ]
     },
     "execution_count": 51,
     "metadata": {},
     "output_type": "execute_result"
    }
   ],
   "source": [
    "def sumDivisorsF(n: Int): Int = {\n",
    "    var out = 0\n",
    "    for (i <- 1 to n/2)\n",
    "        if (n % i == 0) out += i\n",
    "    out\n",
    "}"
   ]
  },
  {
   "cell_type": "markdown",
   "metadata": {},
   "source": [
    "A continuación se muestran algunos casos de prueba a modo de ejemplo de funcionamiento de la función:"
   ]
  },
  {
   "cell_type": "code",
   "execution_count": 52,
   "metadata": {},
   "outputs": [
    {
     "data": {
      "text/plain": [
       "defined \u001b[32mclass\u001b[39m \u001b[36mTestDivisors\u001b[39m"
      ]
     },
     "execution_count": 52,
     "metadata": {},
     "output_type": "execute_result"
    }
   ],
   "source": [
    "class TestDivisors(sumDiv: Int => Int) extends FlatSpec with Matchers{\n",
    "    \n",
    "    \"sum of divisors\" should \"work\" in {\n",
    "        sumDiv(2) shouldBe 1\n",
    "        sumDiv(3) shouldBe 1\n",
    "        sumDiv(4) shouldBe 3\n",
    "        sumDiv(5) shouldBe 1\n",
    "        sumDiv(6) shouldBe 6\n",
    "        sumDiv(8) shouldBe 7\n",
    "        sumDiv(9) shouldBe 4\n",
    "    }\n",
    "}"
   ]
  },
  {
   "cell_type": "markdown",
   "metadata": {},
   "source": [
    "Implementa la función `sumDivisors` mediante la función de orden superior `foldLeft`. Para ello, téngase en cuenta que un rango de números `1 to n` puede transformarse en una lista mediante el método `toList`. Por ejemplo, `(1 to 3).toList == List(1,2,3)`."
   ]
  },
  {
   "cell_type": "code",
   "execution_count": 53,
   "metadata": {},
   "outputs": [
    {
     "data": {
      "text/plain": [
       "defined \u001b[32mfunction\u001b[39m \u001b[36msumDivisors\u001b[39m"
      ]
     },
     "execution_count": 53,
     "metadata": {},
     "output_type": "execute_result"
    }
   ],
   "source": [
    "def sumDivisors(n: Int): Int = \n",
    "    (1 to n/2).toList.foldLeft(0)( \n",
    "        (out, i) => if (n % i == 0) out + i else out\n",
    "    )\n",
    "\n",
    "// Realmente, el tipo `Range` de Scala también implementa el método `foldLeft`, por lo que se podría escribir simplemente: \n",
    "// (1 to n).foldLeft(...)(...)\n",
    "// Lo mismo vale para otras funciones de orden superior, como `map`, `filter`, `exists`, etc."
   ]
  },
  {
   "cell_type": "code",
   "execution_count": 54,
   "metadata": {},
   "outputs": [
    {
     "name": "stdout",
     "output_type": "stream",
     "text": [
      "\u001b[32mcmd51$Helper$TestDivisors:\u001b[0m\n",
      "\u001b[32msum of divisors\u001b[0m\n",
      "\u001b[32m- should work\u001b[0m\n"
     ]
    }
   ],
   "source": [
    "run(new TestDivisors(sumDivisors))"
   ]
  },
  {
   "cell_type": "markdown",
   "metadata": {},
   "source": [
    "# Ejercicio 4 (b)\n",
    "__(1,5 puntos)__\n",
    "\n",
    "Considérese la siguiente implementación imperativa de la función `sumDivisors`, la cual calcula la suma de todos los divisores propios de un número dado (es decir, excluyendo a él mismo):"
   ]
  },
  {
   "cell_type": "code",
   "execution_count": 51,
   "metadata": {},
   "outputs": [
    {
     "data": {
      "text/plain": [
       "defined \u001b[32mfunction\u001b[39m \u001b[36msumDivisorsF\u001b[39m"
      ]
     },
     "execution_count": 51,
     "metadata": {},
     "output_type": "execute_result"
    }
   ],
   "source": [
    "def sumDivisorsF(n: Int): Int = {\n",
    "    var out = 0\n",
    "    for (i <- 1 to n/2)\n",
    "        if (n % i == 0) out += i\n",
    "    out\n",
    "}"
   ]
  },
  {
   "cell_type": "markdown",
   "metadata": {},
   "source": [
    "A continuación se muestran algunos casos de prueba a modo de ejemplo de funcionamiento de la función:"
   ]
  },
  {
   "cell_type": "code",
   "execution_count": 52,
   "metadata": {},
   "outputs": [
    {
     "data": {
      "text/plain": [
       "defined \u001b[32mclass\u001b[39m \u001b[36mTestDivisors\u001b[39m"
      ]
     },
     "execution_count": 52,
     "metadata": {},
     "output_type": "execute_result"
    }
   ],
   "source": [
    "class TestDivisors(sumDiv: Int => Int) extends FlatSpec with Matchers{\n",
    "    \n",
    "    \"sum of divisors\" should \"work\" in {\n",
    "        sumDiv(2) shouldBe 1\n",
    "        sumDiv(3) shouldBe 1\n",
    "        sumDiv(4) shouldBe 3\n",
    "        sumDiv(5) shouldBe 1\n",
    "        sumDiv(6) shouldBe 6\n",
    "        sumDiv(8) shouldBe 7\n",
    "        sumDiv(9) shouldBe 4\n",
    "    }\n",
    "}"
   ]
  },
  {
   "cell_type": "markdown",
   "metadata": {},
   "source": [
    "Implementa la función `sumDivisors` utilizando la función de order superior `filter`."
   ]
  },
  {
   "cell_type": "code",
   "execution_count": 57,
   "metadata": {},
   "outputs": [
    {
     "data": {
      "text/plain": [
       "defined \u001b[32mfunction\u001b[39m \u001b[36msumDivisors\u001b[39m"
      ]
     },
     "execution_count": 57,
     "metadata": {},
     "output_type": "execute_result"
    }
   ],
   "source": [
    "def sumDivisors(n: Int): Int = \n",
    "    (1 to n/2).toList.filter(n % _ == 0).foldLeft(0)(_ + _)\n",
    "\n",
    "// Una implementación más idiomática en Scala sería: (1 to n/2).filter(n%_==0).reduce(_+_)"
   ]
  },
  {
   "cell_type": "code",
   "execution_count": 58,
   "metadata": {},
   "outputs": [
    {
     "name": "stdout",
     "output_type": "stream",
     "text": [
      "\u001b[32mcmd51$Helper$TestDivisors:\u001b[0m\n",
      "\u001b[32msum of divisors\u001b[0m\n",
      "\u001b[32m- should work\u001b[0m\n"
     ]
    }
   ],
   "source": [
    "run(new TestDivisors(sumDivisors))"
   ]
  }
 ],
 "metadata": {
  "kernelspec": {
   "display_name": "Scala",
   "language": "scala",
   "name": "scala"
  },
  "language_info": {
   "codemirror_mode": "text/x-scala",
   "file_extension": ".sc",
   "mimetype": "text/x-scala",
   "name": "scala",
   "nbconvert_exporter": "script",
   "version": "2.13.11"
  }
 },
 "nbformat": 4,
 "nbformat_minor": 4
}
