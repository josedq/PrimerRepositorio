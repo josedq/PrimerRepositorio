{
 "cells": [
  {
   "cell_type": "markdown",
   "metadata": {},
   "source": [
    "# Declarative Programming @ URJC\n",
    "# Functional programming\n",
    "## Problem Set 3: Recursion"
   ]
  },
  {
   "cell_type": "code",
   "execution_count": 1,
   "metadata": {},
   "outputs": [
    {
     "data": {
      "text/plain": [
       "\u001b[32mimport \u001b[39m\u001b[36m$ivy.$\u001b[39m\r\n",
       "\u001b[32mimport \u001b[39m\u001b[36morg.scalatest._\u001b[39m"
      ]
     },
     "execution_count": 1,
     "metadata": {},
     "output_type": "execute_result"
    }
   ],
   "source": [
    "import $ivy.`org.scalatest::scalatest:3.0.8`\n",
    "import org.scalatest._"
   ]
  },
  {
   "cell_type": "markdown",
   "metadata": {},
   "source": [
    "# Problem 1"
   ]
  },
  {
   "cell_type": "markdown",
   "metadata": {},
   "source": [
    "Implement a function that drops the first _n_ elements of a list. If the number of elements to be dropped is 0, it must return the same list. The implementation must be tail-recursive."
   ]
  },
  {
   "cell_type": "code",
   "execution_count": 28,
   "metadata": {},
   "outputs": [
    {
     "data": {
      "text/plain": [
       "defined \u001b[32mclass\u001b[39m \u001b[36mTestDrop\u001b[39m"
      ]
     },
     "execution_count": 28,
     "metadata": {},
     "output_type": "execute_result"
    }
   ],
   "source": [
    "class TestDrop(\n",
    "    drop: (List[Boolean], Int) => List[Boolean]\n",
    ") extends FlatSpec with Matchers{\n",
    " \n",
    "    \"drop less elements than the list length\" should \"return the remaining elements\" in {\n",
    "        \n",
    "        drop(List(true, false), 0) shouldBe \n",
    "            List(true, false)\n",
    "        \n",
    "        drop(List(true, false, false, true), 2) shouldBe \n",
    "            List(false, true)\n",
    "        \n",
    "        drop(List(true, false, true, true, false, true), 3) shouldBe \n",
    "            List(true, false, true)\n",
    "    }\n",
    "    \n",
    "    \"drop a number of elements greater than or equal to its length\" should \"return the empty list\" in {\n",
    "        drop(List(), 0) shouldBe \n",
    "            List()\n",
    "    \n",
    "        drop(List(true, false, true, true, false, true), 6) shouldBe \n",
    "            List()\n",
    "\n",
    "        drop(List(), 2) shouldBe \n",
    "            List()\n",
    "        \n",
    "        drop(List(true, false, true, true, false, true), 8) shouldBe \n",
    "            List()\n",
    "    }\n",
    "\n",
    "    \"drop a negative number of elements\" should \"return the same list\" in {\n",
    "        drop(List(), -5) shouldBe List()\n",
    "\n",
    "        drop (List(true, true, true, false), -12) shouldBe List(true, true, true, false)\n",
    "    }\n",
    "}"
   ]
  },
  {
   "cell_type": "code",
   "execution_count": 30,
   "metadata": {},
   "outputs": [
    {
     "data": {
      "text/plain": [
       "defined \u001b[32mfunction\u001b[39m \u001b[36mdrop\u001b[39m"
      ]
     },
     "execution_count": 30,
     "metadata": {},
     "output_type": "execute_result"
    }
   ],
   "source": [
    "// Con funcion auxiliar:\n",
    "\n",
    "def drop[A](list: List[A], n: Int): List[A] = {\n",
    "    @annotation.tailrec\n",
    "    def dropAux(l: List[A], acc: Int): List[A] =\n",
    "        (l,acc) match {\n",
    "            case (Nil,_) => l\n",
    "            case (head :: tail, n) if (n <= 0) => l\n",
    "            case (head :: tail, _) => dropAux(tail, acc-1)\n",
    "        }\n",
    "    dropAux(list, n)\n",
    "}"
   ]
  },
  {
   "cell_type": "code",
   "execution_count": 26,
   "metadata": {},
   "outputs": [
    {
     "data": {
      "text/plain": [
       "defined \u001b[32mfunction\u001b[39m \u001b[36mdrop2\u001b[39m"
      ]
     },
     "execution_count": 26,
     "metadata": {},
     "output_type": "execute_result"
    }
   ],
   "source": [
    "// Sin funcion auxiliar (creo que así es como se pedía):\n",
    "\n",
    "@annotation.tailrec\n",
    "def drop2[A](list: List[A], n: Int): List[A] = {\n",
    "    (list, n) match {\n",
    "        case (Nil, _) => list\n",
    "        case (head :: tail, n) if (n <= 0) => list\n",
    "        case (head :: tail, _) => drop2(tail,n-1)\n",
    "    }\n",
    "}"
   ]
  },
  {
   "cell_type": "code",
   "execution_count": 32,
   "metadata": {},
   "outputs": [
    {
     "name": "stdout",
     "output_type": "stream",
     "text": [
      "\u001b[32mcell28$Helper$TestDrop:\u001b[0m\n",
      "\u001b[32mdrop less elements than the list length\u001b[0m\n",
      "\u001b[32m- should return the remaining elements\u001b[0m\n",
      "\u001b[32mdrop a number of elements greater than or equal to its length\u001b[0m\n",
      "\u001b[32m- should return the empty list\u001b[0m\n",
      "\u001b[32mdrop a negative number of elements\u001b[0m\n",
      "\u001b[32m- should return the same list\u001b[0m\n"
     ]
    }
   ],
   "source": [
    "run(new TestDrop(drop))"
   ]
  },
  {
   "cell_type": "markdown",
   "metadata": {},
   "source": [
    "# Problem 2"
   ]
  },
  {
   "cell_type": "markdown",
   "metadata": {},
   "source": [
    "Create a function that counts the number of occurrences of a given element in a list."
   ]
  },
  {
   "cell_type": "code",
   "execution_count": 34,
   "metadata": {},
   "outputs": [
    {
     "data": {
      "text/plain": [
       "defined \u001b[32mclass\u001b[39m \u001b[36mTestOcurrences\u001b[39m"
      ]
     },
     "execution_count": 34,
     "metadata": {},
     "output_type": "execute_result"
    }
   ],
   "source": [
    "case class TestOcurrences(\n",
    "    occurrences: (List[String], String) => Int) \n",
    "extends FlatSpec with Matchers{\n",
    "    \n",
    "    \"occurrences\" should \"work\" in {\n",
    "        occurrences(List(\"1\",\"1\",\"1\"), \"1\") shouldBe 3\n",
    "        occurrences(List(\"1\",\"2\",\"3\"), \"2\") shouldBe 1\n",
    "        occurrences(List(), \"3\") shouldBe 0\n",
    "        occurrences(List(\"1\",\"2\",\"3\"), \"5\") shouldBe 0\n",
    "    }\n",
    "}"
   ]
  },
  {
   "cell_type": "markdown",
   "metadata": {},
   "source": [
    "#### Part a) Implement the function recursively, without tail-recursion"
   ]
  },
  {
   "cell_type": "code",
   "execution_count": 43,
   "metadata": {},
   "outputs": [
    {
     "data": {
      "text/plain": [
       "defined \u001b[32mfunction\u001b[39m \u001b[36moccurrencesR\u001b[39m"
      ]
     },
     "execution_count": 43,
     "metadata": {},
     "output_type": "execute_result"
    }
   ],
   "source": [
    "def occurrencesR[A](list: List[A], a: A): Int = \n",
    "    list match {\n",
    "        case Nil => 0\n",
    "        case `a` :: tail => 1+occurrencesR(tail,a)\n",
    "        case head :: tail => occurrencesR(tail,a)\n",
    "    }"
   ]
  },
  {
   "cell_type": "code",
   "execution_count": 44,
   "metadata": {},
   "outputs": [
    {
     "name": "stdout",
     "output_type": "stream",
     "text": [
      "\u001b[32mcell34$Helper$TestOcurrences:\u001b[0m\n",
      "\u001b[32moccurrences\u001b[0m\n",
      "\u001b[32m- should work\u001b[0m\n"
     ]
    }
   ],
   "source": [
    "run(TestOcurrences(occurrencesR[String]))"
   ]
  },
  {
   "cell_type": "markdown",
   "metadata": {},
   "source": [
    "#### Part b) Implement the function with tail-recursion"
   ]
  },
  {
   "cell_type": "code",
   "execution_count": 41,
   "metadata": {},
   "outputs": [
    {
     "data": {
      "text/plain": [
       "defined \u001b[32mfunction\u001b[39m \u001b[36moccurrencesTR\u001b[39m"
      ]
     },
     "execution_count": 41,
     "metadata": {},
     "output_type": "execute_result"
    }
   ],
   "source": [
    "def occurrencesTR[A](list: List[A], a: A): Int = {\n",
    "    def occurrencesAux (list: List[A], a: A, occ: Int): Int =\n",
    "        list match {\n",
    "            case Nil => occ\n",
    "            case `a` :: tail => occurrencesAux(tail,a,occ+1)\n",
    "            case head :: tail => occurrencesAux(tail,a,occ)\n",
    "        }\n",
    "    occurrencesAux(list,a,0)\n",
    "}"
   ]
  },
  {
   "cell_type": "code",
   "execution_count": 42,
   "metadata": {},
   "outputs": [
    {
     "name": "stdout",
     "output_type": "stream",
     "text": [
      "\u001b[32mcell34$Helper$TestOcurrences:\u001b[0m\n",
      "\u001b[32moccurrences\u001b[0m\n",
      "\u001b[32m- should work\u001b[0m\n"
     ]
    }
   ],
   "source": [
    "run(TestOcurrences(occurrencesTR[String]))"
   ]
  },
  {
   "cell_type": "markdown",
   "metadata": {},
   "source": [
    "# Problem 3"
   ]
  },
  {
   "cell_type": "markdown",
   "metadata": {},
   "source": [
    "Generate a function that takes the first *n* elements of a list. If the length of the list is less than _n_ it must return the input list (i.e. as many elements as there are)."
   ]
  },
  {
   "cell_type": "code",
   "execution_count": 56,
   "metadata": {},
   "outputs": [
    {
     "data": {
      "text/plain": [
       "defined \u001b[32mclass\u001b[39m \u001b[36mTestTake\u001b[39m"
      ]
     },
     "execution_count": 56,
     "metadata": {},
     "output_type": "execute_result"
    }
   ],
   "source": [
    "class TestTake(\n",
    "    take: (List[Char], Int) => List[Char]\n",
    ") extends FlatSpec with Matchers{\n",
    "    \n",
    "    \"take\" should \"work\" in {\n",
    "        take(List(), 0) shouldBe List()\n",
    "        take(List(), 5) shouldBe List()\n",
    "        take(List('1','2','3'), 0) shouldBe List()\n",
    "        take(List('1','2','3'), 2) shouldBe List('1','2')\n",
    "        take(List('1','2','3'), 3) shouldBe List('1','2','3')\n",
    "        take(List('1','2','3'), 10) shouldBe List('1','2','3')\n",
    "    }\n",
    "}"
   ]
  },
  {
   "cell_type": "markdown",
   "metadata": {},
   "source": [
    "The function does not need to be tail-recursive."
   ]
  },
  {
   "cell_type": "code",
   "execution_count": 63,
   "metadata": {},
   "outputs": [
    {
     "data": {
      "text/plain": [
       "defined \u001b[32mfunction\u001b[39m \u001b[36mtake\u001b[39m"
      ]
     },
     "execution_count": 63,
     "metadata": {},
     "output_type": "execute_result"
    }
   ],
   "source": [
    "def take[A](list: List[A], n: Int): List[A] = \n",
    "    list match {\n",
    "        case Nil => list\n",
    "        case head :: tail if (n<=0) => List()\n",
    "        case head :: tail => head :: take(tail,n-1)\n",
    "    }"
   ]
  },
  {
   "cell_type": "code",
   "execution_count": 64,
   "metadata": {},
   "outputs": [
    {
     "name": "stdout",
     "output_type": "stream",
     "text": [
      "\u001b[32mcell56$Helper$TestTake:\u001b[0m\n",
      "\u001b[32mtake\u001b[0m\n",
      "\u001b[32m- should work\u001b[0m\n"
     ]
    }
   ],
   "source": [
    "run(new TestTake(take))"
   ]
  },
  {
   "cell_type": "markdown",
   "metadata": {},
   "source": [
    "# Problem 4"
   ]
  },
  {
   "cell_type": "markdown",
   "metadata": {},
   "source": [
    "Write a function that partitions a list of integers into a list of even numbers and a list of odd numbers. "
   ]
  },
  {
   "cell_type": "code",
   "execution_count": 3,
   "metadata": {},
   "outputs": [
    {
     "data": {
      "text/plain": [
       "defined \u001b[32mclass\u001b[39m \u001b[36mTestEvenOddPartition\u001b[39m"
      ]
     },
     "execution_count": 3,
     "metadata": {},
     "output_type": "execute_result"
    }
   ],
   "source": [
    "class TestEvenOddPartition(\n",
    "    candidate: List[Int] => (List[Int], List[Int])\n",
    ") extends FlatSpec with Matchers{\n",
    "    \n",
    "    \"partitionEvenOdd\" should \"work\" in {\n",
    "        candidate(List()) shouldBe (List(), List())\n",
    "        candidate(List(1,3,5)) shouldBe (List(1,3,5), List())\n",
    "        candidate(List(0,2,4,6)) shouldBe (List(), List(0,2,4,6))\n",
    "        candidate(List(1,2,3,4,5)) shouldBe (List(1,3,5), List(2,4))\n",
    "    }\n",
    "}"
   ]
  },
  {
   "cell_type": "markdown",
   "metadata": {},
   "source": [
    "Recall that given a [2-tuple](https://www.scala-lang.org/api/current/scala/Tuple2.html) in Scala, we can observe its components as follows:"
   ]
  },
  {
   "cell_type": "code",
   "execution_count": null,
   "metadata": {},
   "outputs": [],
   "source": [
    "val t2: (Int, String) = (3, \"tres\")\n",
    "val n: Int = t2._1\n",
    "val s: String = t2._2\n",
    "val (n1: Int, s1: String) = t2"
   ]
  },
  {
   "cell_type": "markdown",
   "metadata": {},
   "source": [
    "The function does not need to be tail-recursive."
   ]
  },
  {
   "cell_type": "code",
   "execution_count": 8,
   "metadata": {},
   "outputs": [
    {
     "name": "stderr",
     "output_type": "stream",
     "text": [
      "cell8.sc:2: match may not be exhaustive.\n",
      "It would fail on the following input: List(_)\n",
      "    list match {\n",
      "    ^\n"
     ]
    },
    {
     "data": {
      "text/plain": [
       "defined \u001b[32mfunction\u001b[39m \u001b[36mpartitionEvenOdd\u001b[39m"
      ]
     },
     "execution_count": 8,
     "metadata": {},
     "output_type": "execute_result"
    }
   ],
   "source": [
    "def partitionEvenOdd(list: List[Int]): (List[Int], List[Int]) = \n",
    "    list match {\n",
    "        case Nil => (List(), List())\n",
    "        case head :: tail if (head % 2 == 1) => (head :: partitionEvenOdd(tail)._1, partitionEvenOdd(tail)._2)\n",
    "        case head :: tail if (head % 2 == 0) => (partitionEvenOdd(tail)._1, head :: partitionEvenOdd(tail)._2)\n",
    "    }"
   ]
  },
  {
   "cell_type": "code",
   "execution_count": 9,
   "metadata": {},
   "outputs": [
    {
     "name": "stdout",
     "output_type": "stream",
     "text": [
      "\u001b[32mcell3$Helper$TestEvenOddPartition:\u001b[0m\n",
      "\u001b[32mpartitionEvenOdd\u001b[0m\n",
      "\u001b[32m- should work\u001b[0m\n"
     ]
    }
   ],
   "source": [
    "run(new TestEvenOddPartition(partitionEvenOdd))"
   ]
  },
  {
   "cell_type": "markdown",
   "metadata": {},
   "source": [
    "# Problem 5"
   ]
  },
  {
   "cell_type": "markdown",
   "metadata": {},
   "source": [
    "Write a function that receives a list whose values are either `A`s or `B`s, and splits them apart into two different lists of `A`s and `B`s, respectively."
   ]
  },
  {
   "cell_type": "code",
   "execution_count": 11,
   "metadata": {},
   "outputs": [
    {
     "data": {
      "text/plain": [
       "defined \u001b[32mclass\u001b[39m \u001b[36mTestSplit\u001b[39m"
      ]
     },
     "execution_count": 11,
     "metadata": {},
     "output_type": "execute_result"
    }
   ],
   "source": [
    "class TestSplit(split: List[Either[String, Boolean]] => (List[String], List[Boolean]))\n",
    "extends FlatSpec with Matchers{\n",
    "    \"split\" should \"work\" in {\n",
    "        split(List(Left(\"a\"), Left(\"b\"), Left(\"a\"))) shouldBe \n",
    "            (List(\"a\", \"b\", \"a\"), List())\n",
    "        split(List(Right(false), Right(false), Right(true))) shouldBe \n",
    "            (List(), List(false, false, true))\n",
    "        split(List()) shouldBe\n",
    "            (List(), List())\n",
    "        split(List(Right(false), Left(\"a\"), Right(true), Left(\"b\"), Left(\"a\"), Right(true))) shouldBe \n",
    "            (List(\"a\", \"b\", \"a\"), List(false, true, true))\n",
    "    }\n",
    "} "
   ]
  },
  {
   "cell_type": "code",
   "execution_count": 15,
   "metadata": {},
   "outputs": [
    {
     "data": {
      "text/plain": [
       "defined \u001b[32mfunction\u001b[39m \u001b[36msplit\u001b[39m"
      ]
     },
     "execution_count": 15,
     "metadata": {},
     "output_type": "execute_result"
    }
   ],
   "source": [
    "def split[A, B](l: List[Either[A, B]]): (List[A], List[B]) = \n",
    "    l match {\n",
    "        case Nil => (List(), List())\n",
    "        case head :: tail => \n",
    "            val (leftTail, rightTail) = split(tail)\n",
    "            head match {\n",
    "                case Left(a) => (a :: leftTail, rightTail)\n",
    "                case Right(b) => (leftTail, b :: rightTail)\n",
    "        }\n",
    "    }"
   ]
  },
  {
   "cell_type": "code",
   "execution_count": 16,
   "metadata": {},
   "outputs": [
    {
     "name": "stdout",
     "output_type": "stream",
     "text": [
      "\u001b[32mcell11$Helper$TestSplit:\u001b[0m\n",
      "\u001b[32msplit\u001b[0m\n",
      "\u001b[32m- should work\u001b[0m\n"
     ]
    }
   ],
   "source": [
    "run(new TestSplit(split))"
   ]
  },
  {
   "cell_type": "markdown",
   "metadata": {},
   "source": [
    "# Problem 6"
   ]
  },
  {
   "cell_type": "markdown",
   "metadata": {},
   "source": [
    "Write a funtion that receives a list of pairs of integers and returns a new list made from the sum of all pairs."
   ]
  },
  {
   "cell_type": "code",
   "execution_count": 3,
   "metadata": {},
   "outputs": [
    {
     "data": {
      "text/plain": [
       "defined \u001b[32mclass\u001b[39m \u001b[36mTestSum\u001b[39m"
      ]
     },
     "execution_count": 3,
     "metadata": {},
     "output_type": "execute_result"
    }
   ],
   "source": [
    "class TestSum(\n",
    "    sum: List[(Int, Int)] => List[Int]\n",
    ") extends FlatSpec with Matchers{\n",
    "    \n",
    "    \"sum\" should \"work\" in {\n",
    "        sum(List()) shouldBe List()\n",
    "        sum(List((0,0))) shouldBe List(0)\n",
    "        sum(List((1,2), (3,4), (5,6))) shouldBe List(3, 7, 11)\n",
    "    }\n",
    "}"
   ]
  },
  {
   "cell_type": "markdown",
   "metadata": {},
   "source": [
    "The function does not need to be tail-recursive."
   ]
  },
  {
   "cell_type": "code",
   "execution_count": 1,
   "metadata": {},
   "outputs": [
    {
     "data": {
      "text/plain": [
       "defined \u001b[32mfunction\u001b[39m \u001b[36msum\u001b[39m"
      ]
     },
     "execution_count": 1,
     "metadata": {},
     "output_type": "execute_result"
    }
   ],
   "source": [
    "def sum(list: List[(Int, Int)]): List[Int] = \n",
    "    list match {\n",
    "        case Nil => List()\n",
    "        case (a,b) :: t => (a+b) :: sum(t)\n",
    "    }\n",
    "            "
   ]
  },
  {
   "cell_type": "code",
   "execution_count": 4,
   "metadata": {},
   "outputs": [
    {
     "name": "stdout",
     "output_type": "stream",
     "text": [
      "\u001b[32mcell3$Helper$TestSum:\u001b[0m\n",
      "\u001b[32msum\u001b[0m\n",
      "\u001b[32m- should work\u001b[0m\n"
     ]
    }
   ],
   "source": [
    "run(new TestSum(sum))"
   ]
  },
  {
   "cell_type": "markdown",
   "metadata": {},
   "source": [
    "# Problem 7"
   ]
  },
  {
   "cell_type": "markdown",
   "metadata": {},
   "source": [
    "Write a function that receives two lists and returns a single list whose elements are pairs made from the corresponding elements of each list."
   ]
  },
  {
   "cell_type": "code",
   "execution_count": 6,
   "metadata": {},
   "outputs": [
    {
     "data": {
      "text/plain": [
       "defined \u001b[32mclass\u001b[39m \u001b[36mTestZip\u001b[39m"
      ]
     },
     "execution_count": 6,
     "metadata": {},
     "output_type": "execute_result"
    }
   ],
   "source": [
    "class TestZip(\n",
    "    zip: (List[Int], List[Char]) => List[(Int, Char)]\n",
    ") extends FlatSpec with Matchers{\n",
    "    \n",
    "    \"zip\" should \"work\" in {\n",
    "        zip(List(), List()) shouldBe List()\n",
    "        zip(List(), List('a','b')) shouldBe List()\n",
    "        zip(List(1,2,3), List()) shouldBe List()\n",
    "        zip(List(1,2,3), List('a','b','c')) shouldBe\n",
    "            List((1,'a'), (2,'b'), (3, 'c'))\n",
    "        zip(List(1,2), List('a','b','c')) shouldBe\n",
    "            List((1,'a'), (2,'b'))\n",
    "        zip(List(1,2,3), List('a','b')) shouldBe\n",
    "            List((1,'a'), (2,'b'))\n",
    "    }\n",
    "}\n"
   ]
  },
  {
   "cell_type": "markdown",
   "metadata": {},
   "source": [
    "The function does not need to be tail-recursive."
   ]
  },
  {
   "cell_type": "code",
   "execution_count": 5,
   "metadata": {},
   "outputs": [
    {
     "data": {
      "text/plain": [
       "defined \u001b[32mfunction\u001b[39m \u001b[36mzip\u001b[39m"
      ]
     },
     "execution_count": 5,
     "metadata": {},
     "output_type": "execute_result"
    }
   ],
   "source": [
    "def zip[A, B](list1: List[A], list2: List[B]): List[(A, B)] = \n",
    "    list1 match {\n",
    "        case Nil => List()\n",
    "        case h1 :: t1 => \n",
    "            list2 match {\n",
    "                case Nil => List()\n",
    "                case h2 :: t2 => (h1,h2) :: zip(t1,t2)\n",
    "            }\n",
    "    }"
   ]
  },
  {
   "cell_type": "code",
   "execution_count": 7,
   "metadata": {},
   "outputs": [
    {
     "name": "stdout",
     "output_type": "stream",
     "text": [
      "\u001b[32mcell6$Helper$TestZip:\u001b[0m\n",
      "\u001b[32mzip\u001b[0m\n",
      "\u001b[32m- should work\u001b[0m\n"
     ]
    }
   ],
   "source": [
    "run(new TestZip(zip[Int, Char]))"
   ]
  },
  {
   "cell_type": "markdown",
   "metadata": {},
   "source": [
    "# Problem 8"
   ]
  },
  {
   "cell_type": "markdown",
   "metadata": {},
   "source": [
    "Write a function that returns the greatest element of a list of integers."
   ]
  },
  {
   "cell_type": "code",
   "execution_count": 4,
   "metadata": {},
   "outputs": [
    {
     "data": {
      "text/plain": [
       "defined \u001b[32mclass\u001b[39m \u001b[36mTestGreatest\u001b[39m"
      ]
     },
     "execution_count": 4,
     "metadata": {},
     "output_type": "execute_result"
    }
   ],
   "source": [
    "class TestGreatest(\n",
    "    greatest: List[Int] => Option[Int]\n",
    ") extends FlatSpec with Matchers{\n",
    "    \n",
    "    \"greatest of an empty list\" should \"return None\" in {\n",
    "        greatest(List()) shouldBe None\n",
    "    }\n",
    "    \n",
    "    \"greatest of a non-empty list\" should \"return the greatest one\" in {\n",
    "        greatest(List(1,2,3)) shouldBe Some(3)\n",
    "        greatest(List(3,2,1)) shouldBe Some(3)\n",
    "        greatest(List(1)) shouldBe Some(1)\n",
    "    }\n",
    "}"
   ]
  },
  {
   "cell_type": "markdown",
   "metadata": {},
   "source": [
    "Use pattern guards when possible. This is an example of pattern guard:"
   ]
  },
  {
   "cell_type": "code",
   "execution_count": null,
   "metadata": {},
   "outputs": [],
   "source": [
    "val maybeInt: Option[Int] = Some(4)\n",
    "maybeInt match {\n",
    "    case Some(i) if i>3 => true\n",
    "    // for any other case, no matter if some(_) or None\n",
    "    case _ => false\n",
    "}"
   ]
  },
  {
   "cell_type": "markdown",
   "metadata": {},
   "source": [
    "#### Part a) Implement the function recursively, without tail-recursion"
   ]
  },
  {
   "cell_type": "code",
   "execution_count": 2,
   "metadata": {},
   "outputs": [
    {
     "data": {
      "text/plain": [
       "defined \u001b[32mfunction\u001b[39m \u001b[36mgreatest\u001b[39m"
      ]
     },
     "execution_count": 2,
     "metadata": {},
     "output_type": "execute_result"
    }
   ],
   "source": [
    "def greatest(list: List[Int]): Option[Int] = \n",
    "    list match {\n",
    "        case Nil => None\n",
    "        case h :: t =>\n",
    "            greatest(t) match {\n",
    "                case Some(g) if h<g => Some(g)\n",
    "                case _ => Some(h)\n",
    "            }\n",
    "    }"
   ]
  },
  {
   "cell_type": "code",
   "execution_count": 10,
   "metadata": {},
   "outputs": [
    {
     "name": "stdout",
     "output_type": "stream",
     "text": [
      "\u001b[32mcell9$Helper$TestGreatest:\u001b[0m\n",
      "\u001b[32mgreatest of an empty list\u001b[0m\n",
      "\u001b[32m- should return None\u001b[0m\n",
      "\u001b[32mgreatest of a non-empty list\u001b[0m\n",
      "\u001b[32m- should return the greatest one\u001b[0m\n"
     ]
    }
   ],
   "source": [
    "run(new TestGreatest(greatest))"
   ]
  },
  {
   "cell_type": "markdown",
   "metadata": {},
   "source": [
    "#### Part b) Implement the function with tail-recursion"
   ]
  },
  {
   "cell_type": "code",
   "execution_count": 13,
   "metadata": {},
   "outputs": [
    {
     "data": {
      "text/plain": [
       "defined \u001b[32mfunction\u001b[39m \u001b[36mgreatestTR\u001b[39m"
      ]
     },
     "execution_count": 13,
     "metadata": {},
     "output_type": "execute_result"
    }
   ],
   "source": [
    "def greatestTR(list: List[Int]): Option[Int] = {\n",
    "    @annotation.tailrec\n",
    "    def greatestAux(list: List[Int], greatest: Option[Int]): Option[Int] =\n",
    "        list match {\n",
    "            case Nil => greatest\n",
    "            case h :: t => greatestAux(t, greatest match {\n",
    "                case Some(g) if h<g => Some(g)\n",
    "                case _ => Some(h)})\n",
    "        }\n",
    "    greatestAux(list, None)\n",
    "}"
   ]
  },
  {
   "cell_type": "code",
   "execution_count": 15,
   "metadata": {},
   "outputs": [
    {
     "name": "stdout",
     "output_type": "stream",
     "text": [
      "\u001b[32mcell4$Helper$TestGreatest:\u001b[0m\n",
      "\u001b[32mgreatest of an empty list\u001b[0m\n",
      "\u001b[32m- should return None\u001b[0m\n",
      "\u001b[32mgreatest of a non-empty list\u001b[0m\n",
      "\u001b[32m- should return the greatest one\u001b[0m\n"
     ]
    }
   ],
   "source": [
    "run(new TestGreatest(greatestTR))"
   ]
  },
  {
   "cell_type": "markdown",
   "metadata": {},
   "source": [
    "# Problem 9"
   ]
  },
  {
   "cell_type": "markdown",
   "metadata": {},
   "source": [
    "Create a function that given a list of strings or integers, returns the concatenation of all the string elements. If the list doesn't contain any string, it must return the empty string."
   ]
  },
  {
   "cell_type": "code",
   "execution_count": 3,
   "metadata": {},
   "outputs": [
    {
     "data": {
      "text/plain": [
       "defined \u001b[32mclass\u001b[39m \u001b[36mTestConcatenate\u001b[39m"
      ]
     },
     "execution_count": 3,
     "metadata": {},
     "output_type": "execute_result"
    }
   ],
   "source": [
    "class TestConcatenate(\n",
    "    conc: List[Either[String, Int]] => String\n",
    ") extends FlatSpec with Matchers {\n",
    "    \n",
    "    \"concatenate\" should \"work\" in {\n",
    "        conc(List()) shouldBe \"\" \n",
    "        conc(List(Right(1), Right(2), Right(3))) shouldBe \"\"\n",
    "        conc(List(Left(\"hello\"), Left(\", \"), Left(\"world!\"))) shouldBe \n",
    "            \"hello, world!\"\n",
    "        conc(List(Right(1), Left(\"hello\"), Right(2), \n",
    "                  Left(\", \"), Left(\"world!\"), Right(5))) shouldBe \n",
    "            \"hello, world!\"\n",
    "        \n",
    "    }\n",
    "}"
   ]
  },
  {
   "cell_type": "markdown",
   "metadata": {},
   "source": [
    "Recall the definition of the [`Either[A, B]`](https://www.scala-lang.org/api/current/scala/util/Either.html) algebraic data type in the Scala API. "
   ]
  },
  {
   "cell_type": "markdown",
   "metadata": {},
   "source": [
    "The function does not need to be tail-recursive."
   ]
  },
  {
   "cell_type": "code",
   "execution_count": 1,
   "metadata": {},
   "outputs": [
    {
     "data": {
      "text/plain": [
       "defined \u001b[32mfunction\u001b[39m \u001b[36mconcatenate\u001b[39m"
      ]
     },
     "execution_count": 1,
     "metadata": {},
     "output_type": "execute_result"
    }
   ],
   "source": [
    "def concatenate(list: List[Either[String, Int]]): String =\n",
    "    list match {\n",
    "        case Nil => \"\"\n",
    "        case head :: tail =>\n",
    "            head match {\n",
    "                case Right(i) => concatenate(tail)\n",
    "                case Left(s) => s + concatenate(tail)\n",
    "            }\n",
    "    }"
   ]
  },
  {
   "cell_type": "code",
   "execution_count": 4,
   "metadata": {},
   "outputs": [
    {
     "name": "stdout",
     "output_type": "stream",
     "text": [
      "\u001b[32mcell3$Helper$TestConcatenate:\u001b[0m\n",
      "\u001b[32mconcatenate\u001b[0m\n",
      "\u001b[32m- should work\u001b[0m\n"
     ]
    }
   ],
   "source": [
    "run(new TestConcatenate(concatenate))"
   ]
  },
  {
   "cell_type": "markdown",
   "metadata": {},
   "source": [
    "# Binary trees"
   ]
  },
  {
   "cell_type": "markdown",
   "metadata": {},
   "source": [
    "The following problems deal with functions on binary trees. This data structure can be defined as the following algebraic data type:"
   ]
  },
  {
   "cell_type": "code",
   "execution_count": 2,
   "metadata": {},
   "outputs": [
    {
     "data": {
      "text/plain": [
       "defined \u001b[32mclass\u001b[39m \u001b[36mTree\u001b[39m\r\n",
       "defined \u001b[32mclass\u001b[39m \u001b[36mEmpty\u001b[39m\r\n",
       "defined \u001b[32mclass\u001b[39m \u001b[36mNode\u001b[39m"
      ]
     },
     "execution_count": 2,
     "metadata": {},
     "output_type": "execute_result"
    }
   ],
   "source": [
    "// type Tree[A] = 1 + Tree[A] * A * Tree[A]\n",
    "\n",
    "sealed abstract class Tree[A]\n",
    "case class Empty[A]() extends Tree[A] // se podría poner Empty[A](u: Unit) pero como solo hay 1 valor para Unit no es necesario\n",
    "case class Node[A](left: Tree[A], root: A, right: Tree[A]) extends Tree[A]"
   ]
  },
  {
   "cell_type": "code",
   "execution_count": 2,
   "metadata": {},
   "outputs": [
    {
     "data": {
      "text/plain": [
       "\u001b[36mt1\u001b[39m: \u001b[32mTree\u001b[39m[\u001b[32mInt\u001b[39m] = \u001b[33mNode\u001b[39m(\n",
       "  left = \u001b[33mNode\u001b[39m(\n",
       "    left = Empty(),\n",
       "    root = \u001b[32m2\u001b[39m,\n",
       "    right = \u001b[33mNode\u001b[39m(left = Empty(), root = \u001b[32m3\u001b[39m, right = Empty())\n",
       "  ),\n",
       "  root = \u001b[32m1\u001b[39m,\n",
       "  right = \u001b[33mNode\u001b[39m(\n",
       "    left = \u001b[33mNode\u001b[39m(left = Empty(), root = \u001b[32m5\u001b[39m, right = Empty()),\n",
       "    root = \u001b[32m4\u001b[39m,\n",
       "    right = Empty()\n",
       "  )\n",
       ")"
      ]
     },
     "execution_count": 2,
     "metadata": {},
     "output_type": "execute_result"
    }
   ],
   "source": [
    "val t1: Tree[Int] =\n",
    "    Node(Node(Empty(),\n",
    "              2,\n",
    "              Node(Empty(),\n",
    "                   3,\n",
    "                   Empty())),\n",
    "         1,\n",
    "         Node(Node(Empty(),\n",
    "                   5,\n",
    "                   Empty()),\n",
    "              4,\n",
    "              Empty()))"
   ]
  },
  {
   "cell_type": "markdown",
   "metadata": {},
   "source": [
    "The companion object defines some smart constructors that will allow us to write test cases more easily."
   ]
  },
  {
   "cell_type": "code",
   "execution_count": 3,
   "metadata": {},
   "outputs": [
    {
     "data": {
      "text/plain": [
       "defined \u001b[32mobject\u001b[39m \u001b[36mTree\u001b[39m\r\n",
       "\u001b[32mimport \u001b[39m\u001b[36mTree._\u001b[39m"
      ]
     },
     "execution_count": 3,
     "metadata": {},
     "output_type": "execute_result"
    }
   ],
   "source": [
    "object Tree{\n",
    "    \n",
    "    def void[A]: Tree[A] = \n",
    "        Empty()\n",
    "    \n",
    "    def leaf[A](a: A): Node[A] = \n",
    "        Node(Empty(), a, Empty())\n",
    "    \n",
    "    def right[A](a: A, tree: Tree[A]): Node[A] = \n",
    "        Node(Empty(), a, tree)\n",
    "    \n",
    "    def left[A](tree: Tree[A], a: A): Node[A] = \n",
    "        Node(tree, a, Empty())\n",
    "    \n",
    "    def node[A](left: Tree[A], a: A, right: Tree[A]): Node[A] = \n",
    "        Node(left, a, right)\n",
    "}\n",
    "\n",
    "import Tree._"
   ]
  },
  {
   "cell_type": "markdown",
   "metadata": {},
   "source": [
    "# Problem 10"
   ]
  },
  {
   "cell_type": "markdown",
   "metadata": {},
   "source": [
    "Create a function that computes the number of nodes a tree."
   ]
  },
  {
   "cell_type": "code",
   "execution_count": 18,
   "metadata": {},
   "outputs": [
    {
     "data": {
      "text/plain": [
       "defined \u001b[32mclass\u001b[39m \u001b[36mTestTreeNumNodes\u001b[39m"
      ]
     },
     "execution_count": 18,
     "metadata": {},
     "output_type": "execute_result"
    }
   ],
   "source": [
    "class TestTreeNumNodes(\n",
    "    numNodes: Tree[Int] => Int\n",
    ") extends FlatSpec with Matchers {\n",
    "    \n",
    "    \"concatenate\" should \"work\" in {\n",
    "        numNodes(void) shouldBe 0\n",
    "        numNodes(leaf(1)) shouldBe 1\n",
    "        numNodes(left(leaf(1), 2)) shouldBe 2\n",
    "        numNodes(node(leaf(1), 2, leaf(3))) shouldBe 3\n",
    "    }\n",
    "}"
   ]
  },
  {
   "cell_type": "code",
   "execution_count": 19,
   "metadata": {},
   "outputs": [
    {
     "data": {
      "text/plain": [
       "defined \u001b[32mfunction\u001b[39m \u001b[36mnumNodes\u001b[39m\r\n",
       "defined \u001b[32mfunction\u001b[39m \u001b[36mnumNodes2\u001b[39m"
      ]
     },
     "execution_count": 19,
     "metadata": {},
     "output_type": "execute_result"
    }
   ],
   "source": [
    "def numNodes[A](tree: Tree[A]): Int = \n",
    "    tree match {\n",
    "        case Empty() => 0\n",
    "        case Node(left: Tree[A], a, right: Tree[A]) =>\n",
    "            val leftSol: Int = numNodes(left)\n",
    "            val rightSol: Int = numNodes(right)\n",
    "            1+leftSol+rightSol : Int\n",
    "    }\n",
    "\n",
    "def numNodes2[A](tree: Tree[A]): Int = \n",
    "    tree match {\n",
    "        case Empty() => 0\n",
    "        case Node(left, a, right) => 1+numNodes2(left)+numNodes2(right)\n",
    "    }"
   ]
  },
  {
   "cell_type": "code",
   "execution_count": 21,
   "metadata": {},
   "outputs": [
    {
     "name": "stdout",
     "output_type": "stream",
     "text": [
      "\u001b[32mcell18$Helper$TestTreeNumNodes:\u001b[0m\n",
      "\u001b[32mconcatenate\u001b[0m\n",
      "\u001b[32m- should work\u001b[0m\n"
     ]
    }
   ],
   "source": [
    "run(new TestTreeNumNodes(numNodes2))"
   ]
  },
  {
   "cell_type": "markdown",
   "metadata": {},
   "source": [
    "# Problem 11"
   ]
  },
  {
   "cell_type": "markdown",
   "metadata": {},
   "source": [
    "Create a function that calculates the _height_ of a tree, which is defined as the depth of its deepest node (the depth of a node, in turn, is the number of edges from that node to the root of the tree). An empty tree doesn't have any nodes, so it doesn't have height either. "
   ]
  },
  {
   "cell_type": "code",
   "execution_count": 4,
   "metadata": {},
   "outputs": [
    {
     "data": {
      "text/plain": [
       "defined \u001b[32mclass\u001b[39m \u001b[36mTestTreeHeight\u001b[39m"
      ]
     },
     "execution_count": 4,
     "metadata": {},
     "output_type": "execute_result"
    }
   ],
   "source": [
    "class TestTreeHeight(\n",
    "    height: Node[Int] => Int\n",
    ") extends FlatSpec with Matchers {\n",
    "    \n",
    "    \"concatenate\" should \"work\" in {\n",
    "        height(leaf(1)) shouldBe 0\n",
    "        height(left(leaf(1),2)) shouldBe 1\n",
    "        height(node(leaf(1), 2, leaf(3))) shouldBe 1\n",
    "        height(left(left(leaf(3),2),1)) shouldBe 2\n",
    "    }\n",
    "}"
   ]
  },
  {
   "cell_type": "markdown",
   "metadata": {},
   "source": [
    "Hint: use the Scala [`max`](https://www.scala-lang.org/api/current/scala/Int.html#max(that:Int):Int) method of the `Int` class to calculate the maximum of two numbers."
   ]
  },
  {
   "cell_type": "code",
   "execution_count": 5,
   "metadata": {},
   "outputs": [
    {
     "name": "stderr",
     "output_type": "stream",
     "text": [
      "cell5.sc:4: abstract type A in type pattern cell5.this.cell2.Node[A] is unchecked since it is eliminated by erasure\n",
      "        case Node(left: Node[A], _, Empty()) => 1+height(left)\n",
      "                        ^\n",
      "cell5.sc:5: abstract type A in type pattern cell5.this.cell2.Node[A] is unchecked since it is eliminated by erasure\n",
      "        case Node(Empty(), _, right: Node[A]) => 1+height(right)\n",
      "                                     ^\n",
      "cell5.sc:6: abstract type A in type pattern cell5.this.cell2.Node[A] is unchecked since it is eliminated by erasure\n",
      "        case Node(left: Node[A], _, right: Node[A]) => 1+height(left) max height(right)\n",
      "                        ^\n",
      "cell5.sc:6: abstract type A in type pattern cell5.this.cell2.Node[A] is unchecked since it is eliminated by erasure\n",
      "        case Node(left: Node[A], _, right: Node[A]) => 1+height(left) max height(right)\n",
      "                                           ^\n"
     ]
    },
    {
     "data": {
      "text/plain": [
       "defined \u001b[32mfunction\u001b[39m \u001b[36mheight\u001b[39m"
      ]
     },
     "execution_count": 5,
     "metadata": {},
     "output_type": "execute_result"
    }
   ],
   "source": [
    "def height[A](tree: Node[A]): Int = \n",
    "    tree match {\n",
    "        case Node(Empty(), _, Empty()) => 0\n",
    "        case Node(left: Node[A], _, Empty()) => 1+height(left)\n",
    "        case Node(Empty(), _, right: Node[A]) => 1+height(right)\n",
    "        case Node(left: Node[A], _, right: Node[A]) => 1+height(left) max height(right)\n",
    "    }"
   ]
  },
  {
   "cell_type": "code",
   "execution_count": 25,
   "metadata": {},
   "outputs": [
    {
     "name": "stdout",
     "output_type": "stream",
     "text": [
      "\u001b[32mcell22$Helper$TestTreeHeight:\u001b[0m\n",
      "\u001b[32mconcatenate\u001b[0m\n",
      "\u001b[32m- should work\u001b[0m\n"
     ]
    }
   ],
   "source": [
    "run(new TestTreeHeight(height))"
   ]
  },
  {
   "cell_type": "markdown",
   "metadata": {},
   "source": [
    "# Problem 11"
   ]
  },
  {
   "cell_type": "markdown",
   "metadata": {},
   "source": [
    "A degenerate tree is a tree whose nodes only have a child at most. Create a function that determines whether a tree is degenerate or not."
   ]
  },
  {
   "cell_type": "code",
   "execution_count": 36,
   "metadata": {},
   "outputs": [
    {
     "data": {
      "text/plain": [
       "defined \u001b[32mclass\u001b[39m \u001b[36mTestIsDegenerate\u001b[39m"
      ]
     },
     "execution_count": 36,
     "metadata": {},
     "output_type": "execute_result"
    }
   ],
   "source": [
    "class TestIsDegenerate(\n",
    "    isDegenerate: Tree[Int] => Boolean\n",
    ") extends FlatSpec with Matchers {\n",
    "    \n",
    "    \"isDegenerate\" should \"work\" in {\n",
    "        isDegenerate(void) shouldBe true\n",
    "        isDegenerate(leaf(1)) shouldBe true\n",
    "        isDegenerate(left(leaf(1), 2)) shouldBe true\n",
    "        isDegenerate(right(2, leaf(1)))  shouldBe true\n",
    "        isDegenerate(node(leaf(1), 2, leaf(3))) shouldBe false\n",
    "        isDegenerate(left(left(leaf(3), 2), 1)) shouldBe true\n",
    "        isDegenerate(left(right(2, left(right(4, leaf(5)), 3)),1)) shouldBe true\n",
    "        isDegenerate(left(node(leaf(3), 2, leaf(3)), 1)) shouldBe false\n",
    "    }\n",
    "}"
   ]
  },
  {
   "cell_type": "code",
   "execution_count": 41,
   "metadata": {},
   "outputs": [
    {
     "name": "stderr",
     "output_type": "stream",
     "text": [
      "cell41.sc:5: abstract type A in type pattern cell41.this.cell16.Node[A] is unchecked since it is eliminated by erasure\n",
      "        case Node(left: Node[A], _, right: Node[A]) => false\n",
      "                        ^\n",
      "cell41.sc:5: abstract type A in type pattern cell41.this.cell16.Node[A] is unchecked since it is eliminated by erasure\n",
      "        case Node(left: Node[A], _, right: Node[A]) => false\n",
      "                                           ^\n",
      "cell41.sc:6: abstract type A in type pattern cell41.this.cell16.Node[A] is unchecked since it is eliminated by erasure\n",
      "        case Node(Empty(), _, right: Node[A]) => isDegenerate(right)\n",
      "                                     ^\n",
      "cell41.sc:7: abstract type A in type pattern cell41.this.cell16.Node[A] is unchecked since it is eliminated by erasure\n",
      "        case Node(left: Node[A], _, Empty()) => isDegenerate(left)\n",
      "                        ^\n"
     ]
    },
    {
     "data": {
      "text/plain": [
       "defined \u001b[32mfunction\u001b[39m \u001b[36misDegenerate\u001b[39m"
      ]
     },
     "execution_count": 41,
     "metadata": {},
     "output_type": "execute_result"
    }
   ],
   "source": [
    "def isDegenerate[A](tree: Tree[A]): Boolean = \n",
    "    tree match {\n",
    "        case Empty() => true\n",
    "        case Node(Empty(),_,Empty()) => true\n",
    "        case Node(left, _, right: Node[A]) => false\n",
    "        case Node(Empty(), _, right: Node[A]) => isDegenerate(right)\n",
    "        case Node(left: Node[A], _, Empty()) => isDegenerate(left)\n",
    "    }"
   ]
  },
  {
   "cell_type": "code",
   "execution_count": 42,
   "metadata": {},
   "outputs": [
    {
     "name": "stdout",
     "output_type": "stream",
     "text": [
      "\u001b[32mcell36$Helper$TestIsDegenerate:\u001b[0m\n",
      "\u001b[32misDegenerate\u001b[0m\n",
      "\u001b[32m- should work\u001b[0m\n"
     ]
    }
   ],
   "source": [
    "run(new TestIsDegenerate(isDegenerate))"
   ]
  },
  {
   "cell_type": "markdown",
   "metadata": {},
   "source": [
    "# Problem 12"
   ]
  },
  {
   "cell_type": "markdown",
   "metadata": {},
   "source": [
    "Write a function that returns the leaves of a tree. The leafs of any left child must be placed in the list before any leaf from its right sibling. "
   ]
  },
  {
   "cell_type": "code",
   "execution_count": 44,
   "metadata": {},
   "outputs": [
    {
     "data": {
      "text/plain": [
       "defined \u001b[32mclass\u001b[39m \u001b[36mTestLeaves\u001b[39m"
      ]
     },
     "execution_count": 44,
     "metadata": {},
     "output_type": "execute_result"
    }
   ],
   "source": [
    "class TestLeaves(\n",
    "    leaves: Tree[Int] => List[Int]\n",
    ") extends FlatSpec with Matchers {\n",
    "    \n",
    "    \"isDegenerate\" should \"work\" in {\n",
    "        leaves(void) shouldBe List()\n",
    "        leaves(leaf(1)) shouldBe List(1)\n",
    "        leaves(left(leaf(1), 2)) shouldBe List(1)\n",
    "        leaves(right(2, leaf(1)))  shouldBe List(1)\n",
    "        leaves(node(leaf(1), 2, leaf(3))) shouldBe List(1,3)\n",
    "        leaves(left(left(leaf(3), 2), 1)) shouldBe List(3)\n",
    "        leaves(left(right(2, left(right(4, leaf(5)), 3)),1)) shouldBe List(5)\n",
    "        leaves(left(node(leaf(3), 2, leaf(3)), 1)) shouldBe List(3,3)\n",
    "        leaves(node(node(leaf(1),2,leaf(3)),4,node(leaf(5),6,leaf(7)))) shouldBe\n",
    "            List(1,3,5,7)\n",
    "    }\n",
    "}"
   ]
  },
  {
   "cell_type": "markdown",
   "metadata": {},
   "source": [
    "Hint: use the [`++`](https://www.scala-lang.org/api/current/scala/collection/immutable/List.html#++[B%3E:A](suffix:scala.collection.IterableOnce[B]):CC[B]) method of the `List` class to concatenate lists."
   ]
  },
  {
   "cell_type": "code",
   "execution_count": 43,
   "metadata": {},
   "outputs": [
    {
     "data": {
      "text/plain": [
       "defined \u001b[32mfunction\u001b[39m \u001b[36mleaves\u001b[39m"
      ]
     },
     "execution_count": 43,
     "metadata": {},
     "output_type": "execute_result"
    }
   ],
   "source": [
    "def leaves[A](tree: Tree[A]): List[A] = \n",
    "    tree match {\n",
    "        case Empty() => List()\n",
    "        case Node(Empty(), a, Empty()) => List(a)\n",
    "        case Node(left, a, right) => leaves(left) ++ leaves(right)\n",
    "    }"
   ]
  },
  {
   "cell_type": "code",
   "execution_count": 45,
   "metadata": {},
   "outputs": [
    {
     "name": "stdout",
     "output_type": "stream",
     "text": [
      "\u001b[32mcell44$Helper$TestLeaves:\u001b[0m\n",
      "\u001b[32misDegenerate\u001b[0m\n",
      "\u001b[32m- should work\u001b[0m\n"
     ]
    }
   ],
   "source": [
    "run(new TestLeaves(leaves))"
   ]
  },
  {
   "cell_type": "markdown",
   "metadata": {},
   "source": [
    "# Problem 13"
   ]
  },
  {
   "cell_type": "markdown",
   "metadata": {},
   "source": [
    "This problem deals with [_tree traversals_](https://en.wikipedia.org/wiki/Tree_traversal). "
   ]
  },
  {
   "cell_type": "markdown",
   "metadata": {},
   "source": [
    "Hint: use the [`++`](https://www.scala-lang.org/api/current/scala/collection/immutable/List.html#++[B%3E:A](suffix:scala.collection.IterableOnce[B]):CC[B]) method of the `List` class to concatenate lists."
   ]
  },
  {
   "cell_type": "markdown",
   "metadata": {},
   "source": [
    "#### Part a) Write a function that creates the pre-order of a binary tree."
   ]
  },
  {
   "cell_type": "code",
   "execution_count": 6,
   "metadata": {},
   "outputs": [
    {
     "data": {
      "text/plain": [
       "defined \u001b[32mclass\u001b[39m \u001b[36mTestPreorder\u001b[39m"
      ]
     },
     "execution_count": 6,
     "metadata": {},
     "output_type": "execute_result"
    }
   ],
   "source": [
    "class TestPreorder(\n",
    "    preorder: Tree[Int] => List[Int]\n",
    ") extends FlatSpec with Matchers {\n",
    "    \n",
    "    \"preorder\" should \"work\" in {\n",
    "        preorder(void) shouldBe List()\n",
    "        preorder(leaf(1)) shouldBe List(1)\n",
    "        preorder(left(leaf(1), 2)) shouldBe List(2,1)\n",
    "        preorder(right(2, leaf(1)))  shouldBe List(2,1)\n",
    "        preorder(node(leaf(1), 2, leaf(3))) shouldBe List(2,1,3)\n",
    "        preorder(left(left(leaf(3), 2), 1)) shouldBe List(1,2,3)\n",
    "        preorder(left(right(2, left(right(4, leaf(5)), 3)),1)) shouldBe \n",
    "            List(1,2,3,4,5)\n",
    "        preorder(left(node(leaf(3), 2, leaf(4)), 1)) shouldBe \n",
    "            List(1,2,3,4)\n",
    "        preorder(node(node(leaf(1),2,leaf(3)),4,node(leaf(5),6,leaf(7)))) shouldBe\n",
    "            List(4,2,1,3,6,5,7)\n",
    "    }\n",
    "}"
   ]
  },
  {
   "cell_type": "code",
   "execution_count": 55,
   "metadata": {},
   "outputs": [
    {
     "name": "stderr",
     "output_type": "stream",
     "text": [
      "cell55.sc:5: abstract type A in type pattern cell55.this.cell16.Node[A] is unchecked since it is eliminated by erasure\n",
      "        case Node(left: Node[A], a, Empty()) => List(a) ++ preorder(left)\n",
      "                        ^\n",
      "cell55.sc:6: abstract type A in type pattern cell55.this.cell16.Node[A] is unchecked since it is eliminated by erasure\n",
      "        case Node(Empty(), a, right: Node[A]) => List(a) ++ preorder(right)\n",
      "                                     ^\n",
      "cell55.sc:7: abstract type A in type pattern cell55.this.cell16.Node[A] is unchecked since it is eliminated by erasure\n",
      "        case Node(left: Node[A], a, right: Node[A]) => List(a) ++ preorder(left) ++ preorder(right)\n",
      "                        ^\n",
      "cell55.sc:7: abstract type A in type pattern cell55.this.cell16.Node[A] is unchecked since it is eliminated by erasure\n",
      "        case Node(left: Node[A], a, right: Node[A]) => List(a) ++ preorder(left) ++ preorder(right)\n",
      "                                           ^\n"
     ]
    },
    {
     "data": {
      "text/plain": [
       "defined \u001b[32mfunction\u001b[39m \u001b[36mpreorder\u001b[39m"
      ]
     },
     "execution_count": 55,
     "metadata": {},
     "output_type": "execute_result"
    }
   ],
   "source": [
    "def preorder[A](tree: Tree[A]): List[A] = \n",
    "    tree match {\n",
    "        case Empty() => List()\n",
    "        case Node(Empty(), a, Empty()) => List(a)\n",
    "        case Node(left: Node[A], a, Empty()) => List(a) ++ preorder(left)\n",
    "        case Node(Empty(), a, right: Node[A]) => List(a) ++ preorder(right)\n",
    "        case Node(left: Node[A], a, right: Node[A]) => List(a) ++ preorder(left) ++ preorder(right)\n",
    "    }"
   ]
  },
  {
   "cell_type": "code",
   "execution_count": 57,
   "metadata": {},
   "outputs": [
    {
     "name": "stdout",
     "output_type": "stream",
     "text": [
      "\u001b[32mcell47$Helper$TestPreorder:\u001b[0m\n",
      "\u001b[32mpreorder\u001b[0m\n",
      "\u001b[32m- should work\u001b[0m\n"
     ]
    }
   ],
   "source": [
    "run(new TestPreorder(preorder))"
   ]
  },
  {
   "cell_type": "markdown",
   "metadata": {},
   "source": [
    "#### Part b) Write a function that returns the in-order of a binary tree"
   ]
  },
  {
   "cell_type": "code",
   "execution_count": 7,
   "metadata": {},
   "outputs": [
    {
     "data": {
      "text/plain": [
       "defined \u001b[32mclass\u001b[39m \u001b[36mTestInorder\u001b[39m"
      ]
     },
     "execution_count": 7,
     "metadata": {},
     "output_type": "execute_result"
    }
   ],
   "source": [
    "class TestInorder(\n",
    "    inorder: Tree[Int] => List[Int]\n",
    ") extends FlatSpec with Matchers {\n",
    "    \n",
    "    \"preorder\" should \"work\" in {\n",
    "        inorder(void) shouldBe List()\n",
    "        inorder(leaf(1)) shouldBe List(1)\n",
    "        inorder(left(leaf(1), 2)) shouldBe List(1,2)\n",
    "        inorder(right(2, leaf(1)))  shouldBe List(2,1)\n",
    "        inorder(node(leaf(1), 2, leaf(3))) shouldBe List(1,2,3)\n",
    "        inorder(left(left(leaf(3), 2), 1)) shouldBe List(3,2,1)\n",
    "        inorder(left(right(2, left(right(4, leaf(5)), 3)),1)) shouldBe \n",
    "            List(2,4,5,3,1)\n",
    "        inorder(left(node(leaf(3), 2, leaf(4)), 1)) shouldBe \n",
    "            List(3,2,4,1)\n",
    "        inorder(node(node(leaf(1),2,leaf(3)),4,node(leaf(5),6,leaf(7)))) shouldBe\n",
    "            List(1,2,3,4,5,6,7)\n",
    "    }\n",
    "}"
   ]
  },
  {
   "cell_type": "code",
   "execution_count": 19,
   "metadata": {},
   "outputs": [
    {
     "data": {
      "text/plain": [
       "defined \u001b[32mfunction\u001b[39m \u001b[36minorder\u001b[39m"
      ]
     },
     "execution_count": 19,
     "metadata": {},
     "output_type": "execute_result"
    }
   ],
   "source": [
    "def inorder[A](tree: Tree[A]): List[A] = \n",
    "    tree match {\n",
    "        case Empty() => List()\n",
    "        case Node(left, a, right) => inorder(left) ++ List(a) ++ inorder(right)\n",
    "    }"
   ]
  },
  {
   "cell_type": "code",
   "execution_count": 18,
   "metadata": {},
   "outputs": [
    {
     "name": "stdout",
     "output_type": "stream",
     "text": [
      "\u001b[32mcell7$Helper$TestInorder:\u001b[0m\n",
      "\u001b[32mpreorder\u001b[0m\n",
      "\u001b[32m- should work\u001b[0m\n"
     ]
    }
   ],
   "source": [
    "run(new TestInorder(inorder))"
   ]
  },
  {
   "cell_type": "markdown",
   "metadata": {},
   "source": [
    "#### Part c) Write a function that returns post-order of a binary tree"
   ]
  },
  {
   "cell_type": "code",
   "execution_count": 11,
   "metadata": {},
   "outputs": [
    {
     "data": {
      "text/plain": [
       "defined \u001b[32mclass\u001b[39m \u001b[36mTestPostorder\u001b[39m"
      ]
     },
     "execution_count": 11,
     "metadata": {},
     "output_type": "execute_result"
    }
   ],
   "source": [
    "class TestPostorder(\n",
    "    postorder: Tree[Int] => List[Int]\n",
    ") extends FlatSpec with Matchers {\n",
    "    \n",
    "    \"postorder\" should \"work\" in {\n",
    "        postorder(void) shouldBe List()\n",
    "        postorder(leaf(1)) shouldBe List(1)\n",
    "        postorder(left(leaf(1), 2)) shouldBe List(1,2)\n",
    "        postorder(right(2, leaf(1)))  shouldBe List(1,2)\n",
    "        postorder(node(leaf(1), 2, leaf(3))) shouldBe List(1,3,2)\n",
    "        postorder(left(left(leaf(3), 2), 1)) shouldBe List(3,2,1)\n",
    "        postorder(left(right(2, left(right(4, leaf(5)), 3)),1)) shouldBe \n",
    "            List(5,4,3,2,1)\n",
    "        postorder(left(node(leaf(3), 2, leaf(4)), 1)) shouldBe \n",
    "            List(3,4,2,1)\n",
    "        postorder(node(node(leaf(1),2,leaf(3)),4,node(leaf(5),6,leaf(7)))) shouldBe\n",
    "            List(1,3,2,5,7,6,4)\n",
    "    }\n",
    "}"
   ]
  },
  {
   "cell_type": "code",
   "execution_count": 15,
   "metadata": {},
   "outputs": [
    {
     "data": {
      "text/plain": [
       "defined \u001b[32mfunction\u001b[39m \u001b[36mpostorder\u001b[39m"
      ]
     },
     "execution_count": 15,
     "metadata": {},
     "output_type": "execute_result"
    }
   ],
   "source": [
    "def postorder[A](tree: Tree[A]): List[A] = \n",
    "    tree match {\n",
    "        case Empty() => List()\n",
    "        case Node(left, a, right) => postorder(left) ++ postorder(right) ++ List(a)\n",
    "    }"
   ]
  },
  {
   "cell_type": "code",
   "execution_count": 16,
   "metadata": {},
   "outputs": [
    {
     "name": "stdout",
     "output_type": "stream",
     "text": [
      "\u001b[32mcell11$Helper$TestPostorder:\u001b[0m\n",
      "\u001b[32mpostorder\u001b[0m\n",
      "\u001b[32m- should work\u001b[0m\n"
     ]
    }
   ],
   "source": [
    "run(new TestPostorder(postorder))"
   ]
  },
  {
   "cell_type": "markdown",
   "metadata": {},
   "source": [
    "# Problem 14"
   ]
  },
  {
   "cell_type": "markdown",
   "metadata": {},
   "source": [
    "Given a tree whose nodes are tuples of integers, write a function that returns a tree of the same shape that contains the sum of the numbers for each node."
   ]
  },
  {
   "cell_type": "code",
   "execution_count": 21,
   "metadata": {},
   "outputs": [
    {
     "data": {
      "text/plain": [
       "defined \u001b[32mclass\u001b[39m \u001b[36mTestSum\u001b[39m"
      ]
     },
     "execution_count": 21,
     "metadata": {},
     "output_type": "execute_result"
    }
   ],
   "source": [
    "class TestSum(\n",
    "    sum: Tree[(Int, Int)] => Tree[Int]\n",
    ") extends FlatSpec with Matchers {\n",
    "    \n",
    "    \"sum\" should \"work\" in {\n",
    "        sum(void) shouldBe \n",
    "            void\n",
    "        sum(leaf((1,1))) shouldBe \n",
    "            leaf(2)\n",
    "        sum(left(leaf((1,3)), (2,5))) shouldBe \n",
    "            left(leaf(4), 7)\n",
    "        sum(right((0,2), leaf((-1,2)))) shouldBe \n",
    "            right(2, leaf(1))\n",
    "        sum(left(left(leaf((-3,6)), (2,0)), (-5,6))) shouldBe \n",
    "            left(left(leaf(3), 2), 1)\n",
    "    }\n",
    "}"
   ]
  },
  {
   "cell_type": "code",
   "execution_count": 20,
   "metadata": {},
   "outputs": [
    {
     "data": {
      "text/plain": [
       "defined \u001b[32mfunction\u001b[39m \u001b[36msum\u001b[39m"
      ]
     },
     "execution_count": 20,
     "metadata": {},
     "output_type": "execute_result"
    }
   ],
   "source": [
    "def sum(tree: Tree[(Int, Int)]): Tree[Int] = \n",
    "    tree match {\n",
    "        case Empty() => Empty()\n",
    "        case Node(left,a,right) =>\n",
    "            val leftSum: Tree[Int] = sum(left)\n",
    "            val rightSum: Tree[Int] = sum(right)\n",
    "            Node (leftSum: Tree[Int], a._1+a._2 : Int, rightSum : Tree[Int]): Tree[Int]\n",
    "    }"
   ]
  },
  {
   "cell_type": "code",
   "execution_count": 22,
   "metadata": {},
   "outputs": [
    {
     "name": "stdout",
     "output_type": "stream",
     "text": [
      "\u001b[32mcell21$Helper$TestSum:\u001b[0m\n",
      "\u001b[32msum\u001b[0m\n",
      "\u001b[32m- should work\u001b[0m\n"
     ]
    }
   ],
   "source": [
    "run(new TestSum(sum))"
   ]
  }
 ],
 "metadata": {
  "kernelspec": {
   "display_name": "Scala",
   "language": "scala",
   "name": "scala"
  },
  "language_info": {
   "codemirror_mode": "text/x-scala",
   "file_extension": ".sc",
   "mimetype": "text/x-scala",
   "name": "scala",
   "nbconvert_exporter": "script",
   "version": "2.13.11"
  }
 },
 "nbformat": 4,
 "nbformat_minor": 4
}
