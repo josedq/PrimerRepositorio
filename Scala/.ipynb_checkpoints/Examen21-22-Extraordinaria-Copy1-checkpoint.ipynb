{
 "cells": [
  {
   "cell_type": "markdown",
   "metadata": {},
   "source": [
    "# Ingeniería Informática\n",
    "# Programación declarativa @ URJC\n",
    "# Prueba 1: programación funcional\n",
    "## Curso 21-22, convocatoria extraordinaria (29 de junio de 2022)\n"
   ]
  },
  {
   "cell_type": "markdown",
   "metadata": {},
   "source": [
    "# Definiciones auxiliares"
   ]
  },
  {
   "cell_type": "code",
   "execution_count": 1,
   "metadata": {},
   "outputs": [
    {
     "data": {
      "text/plain": [
       "\u001b[32mimport \u001b[39m\u001b[36m$ivy.$\u001b[39m\r\n",
       "\u001b[32mimport \u001b[39m\u001b[36morg.scalatest._\u001b[39m"
      ]
     },
     "execution_count": 1,
     "metadata": {},
     "output_type": "execute_result"
    }
   ],
   "source": [
    "import $ivy.`org.scalatest::scalatest:3.0.8`\n",
    "import org.scalatest._"
   ]
  },
  {
   "cell_type": "code",
   "execution_count": 2,
   "metadata": {},
   "outputs": [
    {
     "data": {
      "text/plain": [
       "defined \u001b[32mobject\u001b[39m \u001b[36mSignatures\u001b[39m"
      ]
     },
     "execution_count": 2,
     "metadata": {},
     "output_type": "execute_result"
    }
   ],
   "source": [
    "object Signatures{\n",
    "    abstract class List[A]{\n",
    "        \n",
    "        // Common HOFs\n",
    "        def foldRight[B](nil: B)(cons: (A, B) => B): B\n",
    "        def foldLeft[B](initial: B)(update: (B, A) => B): B\n",
    "        def map[B](f: A => B): List[B]\n",
    "        def flatMap[B](f: A => List[B]): List[B]\n",
    "        def filter(f: A => Boolean): List[A]\n",
    "        def forall(pred: A => Boolean): Boolean\n",
    "        def exists(pred: A => Boolean): Boolean\n",
    "        \n",
    "        // Tests if the specified element belongs to this list\n",
    "        def contains(a: A): Boolean \n",
    " \n",
    "        // Returns the number of elements of this list\n",
    "        def length: Int\n",
    "        \n",
    "        // Reverse the elementos of this list\n",
    "        def reverse: List[A]\n",
    "    }\n",
    "}"
   ]
  },
  {
   "cell_type": "code",
   "execution_count": 3,
   "metadata": {},
   "outputs": [
    {
     "data": {
      "text/plain": [
       "defined \u001b[32mtype\u001b[39m \u001b[36mNot\u001b[39m"
      ]
     },
     "execution_count": 3,
     "metadata": {},
     "output_type": "execute_result"
    }
   ],
   "source": [
    "type Not[P] = P => Nothing"
   ]
  },
  {
   "cell_type": "markdown",
   "metadata": {},
   "source": [
    "# Ejercicio 1\n",
    "__(2 puntos)__\n",
    "\n",
    "\n",
    "__a) (1 punto)__ Utiliza la correspondencia de Curry-Howard para demostrar los siguientes teoremas y/o deducciones de la lógica intuicionista: \n",
    "\n",
    "$⊢ (\\neg p \\vee q) \\rightarrow (p \\vee r) \\rightarrow (q \\vee r) $\n",
    "\n",
    "$ \\{ p \\rightarrow \\neg q \\} ⊢ \\neg (p \\wedge q) $"
   ]
  },
  {
   "cell_type": "code",
   "execution_count": 5,
   "metadata": {},
   "outputs": [
    {
     "data": {
      "text/plain": [
       "defined \u001b[32mfunction\u001b[39m \u001b[36mproof\u001b[39m"
      ]
     },
     "execution_count": 5,
     "metadata": {},
     "output_type": "execute_result"
    }
   ],
   "source": [
    "def proof[P,Q,R]: Either[Not[P], Q] => Either[P,R] => Either[Q,R] =\n",
    "    npq => pr => (npq, pr) match {\n",
    "        case (Right(q), _) => Left(q)\n",
    "        case (_, Right(r)) => Right(r)\n",
    "        case (Left(np), Left(p)) => np(p)\n",
    "    }"
   ]
  },
  {
   "cell_type": "code",
   "execution_count": 7,
   "metadata": {},
   "outputs": [
    {
     "data": {
      "text/plain": [
       "defined \u001b[32mfunction\u001b[39m \u001b[36mproof\u001b[39m"
      ]
     },
     "execution_count": 7,
     "metadata": {},
     "output_type": "execute_result"
    }
   ],
   "source": [
    "def proof[P,Q](pnq: P => Not[Q]): Not[(P,Q)] =\n",
    "    (pq : (P,Q)) => pnq(pq._1)(pq._2)"
   ]
  },
  {
   "cell_type": "markdown",
   "metadata": {},
   "source": [
    "__b) (1 punto)__ Utiliza la correspondencia de Curry-Howard para demostrar el siguiente teorema de la lógica clásica: \n",
    "\n",
    "$⊢ (p \\rightarrow q) \\rightarrow \\neg p \\vee q $\n",
    "\n",
    "Supóngase para ello que la ley del tercio excluso se cumple para las variables proposicionales $p$ y $q$, es decir, que las fórmulas  $p \\vee \\neg p$ y $q \\vee \\neg q$ pueden utilizarse como premisas."
   ]
  },
  {
   "cell_type": "code",
   "execution_count": 9,
   "metadata": {},
   "outputs": [
    {
     "data": {
      "text/plain": [
       "defined \u001b[32mfunction\u001b[39m \u001b[36mproof\u001b[39m"
      ]
     },
     "execution_count": 9,
     "metadata": {},
     "output_type": "execute_result"
    }
   ],
   "source": [
    "def proof[P,Q](p1: Either[P, Not[P]], p2: Either[Q, Not[Q]]): (P => Q) => Either[Not[P], Q] =\n",
    "    (pq : P => Q) => (p1, p2) match {\n",
    "        case (_, Left(q)) => Right(q)\n",
    "        case (Right(np), _) => Left(np)\n",
    "        case (Left(p), Right(nq)) => Left(p => nq(pq(p)))\n",
    "    }"
   ]
  },
  {
   "cell_type": "markdown",
   "metadata": {},
   "source": [
    "# Ejercicio 2 \n",
    "__(2 puntos)__"
   ]
  },
  {
   "cell_type": "markdown",
   "metadata": {},
   "source": [
    "Demuestra el siguiente isomorfismo entre tipos algebraicos de datos para todo tipo $X$: \n",
    "\n",
    "$ 1 + \\mathrm{Nel} X \\cong \\mathrm{List} X$\n",
    "\n",
    "donde $\\mathrm{Nel} X$ representa el tipo de las listas no vacías (es decir, con al menos un elemento), y se define de la siguiente forma: \n",
    "\n",
    "$\\mathrm{Nel} X = X * \\mathrm{List} X$.\n",
    "\n",
    "La implementación del tipo $\\mathrm{Nel} X$ en Scala es la siguiente:"
   ]
  },
  {
   "cell_type": "code",
   "execution_count": 10,
   "metadata": {},
   "outputs": [
    {
     "data": {
      "text/plain": [
       "defined \u001b[32mtype\u001b[39m \u001b[36mNel\u001b[39m"
      ]
     },
     "execution_count": 10,
     "metadata": {},
     "output_type": "execute_result"
    }
   ],
   "source": [
    "type Nel[A] = (A, List[A])"
   ]
  },
  {
   "cell_type": "markdown",
   "metadata": {},
   "source": [
    "__a) (1,5 puntos)__ Demuestra en Scala el isomorfismo $ 1 + \\mathrm{Nel} X \\cong \\mathrm{List} X$ mediante la implementación de las siguientes funciones `from` y `to`: "
   ]
  },
  {
   "cell_type": "code",
   "execution_count": 11,
   "metadata": {},
   "outputs": [
    {
     "data": {
      "text/plain": [
       "defined \u001b[32mfunction\u001b[39m \u001b[36mfrom\u001b[39m"
      ]
     },
     "execution_count": 11,
     "metadata": {},
     "output_type": "execute_result"
    }
   ],
   "source": [
    "def from[X](f: Option[Nel[X]]): List[X] =\n",
    "    f match {\n",
    "        case None => List[X]()\n",
    "        case Some((a,l)) => a :: l\n",
    "    }"
   ]
  },
  {
   "cell_type": "code",
   "execution_count": 12,
   "metadata": {},
   "outputs": [
    {
     "data": {
      "text/plain": [
       "defined \u001b[32mfunction\u001b[39m \u001b[36mto\u001b[39m"
      ]
     },
     "execution_count": 12,
     "metadata": {},
     "output_type": "execute_result"
    }
   ],
   "source": [
    "def to[X](l: List[X]): Option[Nel[X]] =\n",
    "    l match {\n",
    "        case Nil => None\n",
    "        case a :: l => Some((a,l))\n",
    "    }"
   ]
  },
  {
   "cell_type": "markdown",
   "metadata": {},
   "source": [
    "__b) (0,5 puntos)__ Completa el siguiente test unitario para comprobar que las funciones `from` y `to` efectivamente implementan el isomorfismo requerido."
   ]
  },
  {
   "cell_type": "code",
   "execution_count": 13,
   "metadata": {},
   "outputs": [
    {
     "data": {
      "text/plain": [
       "defined \u001b[32mclass\u001b[39m \u001b[36mIsoTest\u001b[39m"
      ]
     },
     "execution_count": 13,
     "metadata": {},
     "output_type": "execute_result"
    }
   ],
   "source": [
    "class IsoTest(\n",
    "    from: Option[Nel[Int]] => List[Int], \n",
    "    to: List[Int] => Option[Nel[Int]]\n",
    ") extends FlatSpec with Matchers{\n",
    "    \n",
    "    \"from-to\" should \"work\" in {\n",
    "        from(to(Nil)) shouldBe Nil\n",
    "        from(to(List(1))) shouldBe List(1)\n",
    "        from(to(List(1,2,3))) shouldBe List(1,2,3)\n",
    "    }\n",
    "    \n",
    "    \"to-from\" should \"work\" in {\n",
    "        to(from(None)) shouldBe None\n",
    "        to(from(Some((1, Nil)))) shouldBe Some((1, Nil))\n",
    "        to(from(Some((1, List(2,3))))) shouldBe Some((1, List(2,3)))\n",
    "    }\n",
    "}"
   ]
  },
  {
   "cell_type": "code",
   "execution_count": 14,
   "metadata": {},
   "outputs": [
    {
     "name": "stdout",
     "output_type": "stream",
     "text": [
      "\u001b[32mcell13$Helper$IsoTest:\u001b[0m\n",
      "\u001b[32mfrom-to\u001b[0m\n",
      "\u001b[32m- should work\u001b[0m\n",
      "\u001b[32mto-from\u001b[0m\n",
      "\u001b[32m- should work\u001b[0m\n"
     ]
    }
   ],
   "source": [
    "run(new IsoTest(from[Int], to[Int]))"
   ]
  },
  {
   "cell_type": "markdown",
   "metadata": {},
   "source": [
    "# Ejercicio 3\n",
    "__(2 puntos)__\n",
    "\n",
    "La función `removeAll` elimina todas las ocurrencias de un determinado elemento en una lista. A continuación se muestran distintos casos de prueba particularizados para una lista de enteros:"
   ]
  },
  {
   "cell_type": "code",
   "execution_count": 16,
   "metadata": {},
   "outputs": [
    {
     "data": {
      "text/plain": [
       "defined \u001b[32mclass\u001b[39m \u001b[36mTestRemoveAll\u001b[39m"
      ]
     },
     "execution_count": 16,
     "metadata": {},
     "output_type": "execute_result"
    }
   ],
   "source": [
    "class TestRemoveAll(\n",
    "    removeAll: (Int, List[Int]) => List[Int]\n",
    ") extends FlatSpec with Matchers{\n",
    "    \"removeAll\" should \"work\" in {\n",
    "        removeAll(1, List()) shouldBe List()\n",
    "        removeAll(1, List(1,1,1,1)) shouldBe List()\n",
    "        removeAll(1, List(1,2,3)) shouldBe List(2,3)\n",
    "        removeAll(1, List(2,1,3)) shouldBe List(2,3)\n",
    "        removeAll(1, List(2,3,1)) shouldBe List(2,3)\n",
    "        removeAll(1, List(2,1,3,1)) shouldBe List(2,3)\n",
    "    }\n",
    "}"
   ]
  },
  {
   "cell_type": "markdown",
   "metadata": {},
   "source": [
    "__a) (1 punto)__ Implementa la función `removeAll` de manera recursiva."
   ]
  },
  {
   "cell_type": "code",
   "execution_count": 15,
   "metadata": {},
   "outputs": [
    {
     "data": {
      "text/plain": [
       "defined \u001b[32mfunction\u001b[39m \u001b[36mremoveAll\u001b[39m"
      ]
     },
     "execution_count": 15,
     "metadata": {},
     "output_type": "execute_result"
    }
   ],
   "source": [
    "def removeAll[A](a: A, list: List[A]): List[A] =\n",
    "    list match {\n",
    "        case Nil => Nil\n",
    "        case h :: t => if (h == a) removeAll(a,t) else h :: removeAll(a,t)\n",
    "    }"
   ]
  },
  {
   "cell_type": "code",
   "execution_count": 17,
   "metadata": {},
   "outputs": [
    {
     "name": "stdout",
     "output_type": "stream",
     "text": [
      "\u001b[32mcell16$Helper$TestRemoveAll:\u001b[0m\n",
      "\u001b[32mremoveAll\u001b[0m\n",
      "\u001b[32m- should work\u001b[0m\n"
     ]
    }
   ],
   "source": [
    "run(new TestRemoveAll(removeAll))"
   ]
  },
  {
   "cell_type": "markdown",
   "metadata": {},
   "source": [
    "__b) (1 punto)__ Implementa la función `removeAll` utilizando la función `foldRight`/`filter`."
   ]
  },
  {
   "cell_type": "code",
   "execution_count": 20,
   "metadata": {},
   "outputs": [
    {
     "data": {
      "text/plain": [
       "defined \u001b[32mfunction\u001b[39m \u001b[36mremoveAllFR\u001b[39m"
      ]
     },
     "execution_count": 20,
     "metadata": {},
     "output_type": "execute_result"
    }
   ],
   "source": [
    "def removeAllFR[A](a: A, list: List[A]): List[A] =\n",
    "    list.foldRight(List[A]()){\n",
    "        (head, tailSol) => if (head == a) tailSol else head :: tailSol\n",
    "    }\n",
    "\n",
    "// Si comparamos vemos que tailSol = removeAll(a,t)"
   ]
  },
  {
   "cell_type": "code",
   "execution_count": 21,
   "metadata": {},
   "outputs": [
    {
     "name": "stdout",
     "output_type": "stream",
     "text": [
      "\u001b[32mcell16$Helper$TestRemoveAll:\u001b[0m\n",
      "\u001b[32mremoveAll\u001b[0m\n",
      "\u001b[32m- should work\u001b[0m\n"
     ]
    }
   ],
   "source": [
    "run(new TestRemoveAll(removeAllFR))"
   ]
  },
  {
   "cell_type": "code",
   "execution_count": 24,
   "metadata": {},
   "outputs": [
    {
     "data": {
      "text/plain": [
       "defined \u001b[32mfunction\u001b[39m \u001b[36mremoveAllF\u001b[39m"
      ]
     },
     "execution_count": 24,
     "metadata": {},
     "output_type": "execute_result"
    }
   ],
   "source": [
    "def removeAllF[A](a: A, list: List[A]): List[A] =\n",
    "    list.filter(_ != a)"
   ]
  },
  {
   "cell_type": "code",
   "execution_count": 25,
   "metadata": {},
   "outputs": [
    {
     "name": "stdout",
     "output_type": "stream",
     "text": [
      "\u001b[32mcell16$Helper$TestRemoveAll:\u001b[0m\n",
      "\u001b[32mremoveAll\u001b[0m\n",
      "\u001b[32m- should work\u001b[0m\n"
     ]
    }
   ],
   "source": [
    "run(new TestRemoveAll(removeAllF))"
   ]
  },
  {
   "cell_type": "markdown",
   "metadata": {},
   "source": [
    "# Ejercicio 4\n",
    "__(4 puntos)__\n",
    "\n",
    "La función `distinct` elimina todas las ocurrencias de un determinado elemento en una lista, _excepto_ la primera de ellas. A continuación se muestran distintos casos de prueba particularizados para una lista de enteros:"
   ]
  },
  {
   "cell_type": "code",
   "execution_count": 63,
   "metadata": {},
   "outputs": [
    {
     "data": {
      "text/plain": [
       "defined \u001b[32mclass\u001b[39m \u001b[36mTestDistinct\u001b[39m"
      ]
     },
     "execution_count": 63,
     "metadata": {},
     "output_type": "execute_result"
    }
   ],
   "source": [
    "class TestDistinct(\n",
    "    distinct: List[Int] => List[Int]\n",
    ") extends FlatSpec with Matchers{\n",
    "    \"distinct\" should \"work\" in {\n",
    "        distinct(List()) shouldBe List()\n",
    "        distinct(List(1,2,3)) shouldBe List(1,2,3)\n",
    "        distinct(List(1,1,1,1)) shouldBe List(1)\n",
    "        distinct(List(1,1,2,2,3,3)) shouldBe List(1,2,3)\n",
    "        distinct(List(1,2,3,1,2,3)) shouldBe List(1,2,3)\n",
    "        distinct(List(1,2,1,3,3,2)) shouldBe List(1,2,3)\n",
    "    }\n",
    "}"
   ]
  },
  {
   "cell_type": "markdown",
   "metadata": {},
   "source": [
    "__a) (1 punto)__ Implementa la función `distinct` de manera recursiva, utilizando la función `removeAll` descrita en otro ejercicio de este mismo examen."
   ]
  },
  {
   "cell_type": "code",
   "execution_count": 37,
   "metadata": {},
   "outputs": [
    {
     "data": {
      "text/plain": [
       "defined \u001b[32mfunction\u001b[39m \u001b[36mdistinct\u001b[39m"
      ]
     },
     "execution_count": 37,
     "metadata": {},
     "output_type": "execute_result"
    }
   ],
   "source": [
    "def distinct[A](list: List[A]): List[A] =\n",
    "    list match {\n",
    "        case Nil => Nil\n",
    "        case h :: t => if (t.contains(h)) h :: distinct(removeAll(h,t)) else h :: distinct(t)\n",
    "    }\n",
    "            "
   ]
  },
  {
   "cell_type": "code",
   "execution_count": 38,
   "metadata": {},
   "outputs": [
    {
     "name": "stdout",
     "output_type": "stream",
     "text": [
      "\u001b[32mcell36$Helper$TestDistinct:\u001b[0m\n",
      "\u001b[32mdistinct\u001b[0m\n",
      "\u001b[32m- should work\u001b[0m\n"
     ]
    }
   ],
   "source": [
    "run(new TestDistinct(distinct))"
   ]
  },
  {
   "cell_type": "markdown",
   "metadata": {},
   "source": [
    "__b) (1 punto)__ Implementa la función `distinct` utilizando las funciones `foldRight` y `removeAll`."
   ]
  },
  {
   "cell_type": "code",
   "execution_count": 39,
   "metadata": {},
   "outputs": [
    {
     "data": {
      "text/plain": [
       "defined \u001b[32mfunction\u001b[39m \u001b[36mdistinct\u001b[39m"
      ]
     },
     "execution_count": 39,
     "metadata": {},
     "output_type": "execute_result"
    }
   ],
   "source": [
    "def distinct[A](list: List[A]): List[A] =\n",
    "    list.foldRight(List[A]()){\n",
    "        (head, tailSol) => if (tailSol.contains(head)) head :: removeAll(head, tailSol) else head :: tailSol\n",
    "    }"
   ]
  },
  {
   "cell_type": "code",
   "execution_count": 40,
   "metadata": {},
   "outputs": [
    {
     "name": "stdout",
     "output_type": "stream",
     "text": [
      "\u001b[32mcell36$Helper$TestDistinct:\u001b[0m\n",
      "\u001b[32mdistinct\u001b[0m\n",
      "\u001b[32m- should work\u001b[0m\n"
     ]
    }
   ],
   "source": [
    "run(new TestDistinct(distinct))"
   ]
  },
  {
   "cell_type": "markdown",
   "metadata": {},
   "source": [
    "__c) (1 punto)__ Implementa la función `distinct` mediante recursión final (o de cola)."
   ]
  },
  {
   "cell_type": "code",
   "execution_count": 46,
   "metadata": {},
   "outputs": [
    {
     "data": {
      "text/plain": [
       "defined \u001b[32mfunction\u001b[39m \u001b[36mdistinctTR\u001b[39m"
      ]
     },
     "execution_count": 46,
     "metadata": {},
     "output_type": "execute_result"
    }
   ],
   "source": [
    "def distinctTR[A](list: List[A]): List[A] = {\n",
    "    @annotation.tailrec\n",
    "    def distinctAux(acc: List[A], l: List[A]): List[A] =\n",
    "        l match {\n",
    "            case Nil => acc\n",
    "            case h :: t if (t.contains(h)) => distinctAux(h :: acc, removeAll(h, t))\n",
    "            case h :: t => distinctAux(h :: acc, t)\n",
    "        }\n",
    "    distinctAux(Nil, list).reverse\n",
    "}"
   ]
  },
  {
   "cell_type": "code",
   "execution_count": 47,
   "metadata": {},
   "outputs": [
    {
     "name": "stdout",
     "output_type": "stream",
     "text": [
      "\u001b[32mcell36$Helper$TestDistinct:\u001b[0m\n",
      "\u001b[32mdistinct\u001b[0m\n",
      "\u001b[32m- should work\u001b[0m\n"
     ]
    }
   ],
   "source": [
    "run(new TestDistinct(distinctTR))"
   ]
  },
  {
   "cell_type": "markdown",
   "metadata": {},
   "source": [
    "__d) (1 punto)__ Implementa la función `distinct` mediante la función `foldLeft`."
   ]
  },
  {
   "cell_type": "code",
   "execution_count": 73,
   "metadata": {},
   "outputs": [
    {
     "data": {
      "text/plain": [
       "defined \u001b[32mfunction\u001b[39m \u001b[36mdistinctFL\u001b[39m"
      ]
     },
     "execution_count": 73,
     "metadata": {},
     "output_type": "execute_result"
    }
   ],
   "source": [
    "def distinctFL[A](list: List[A]): List[A] =\n",
    "    list.foldLeft(List[A]()){\n",
    "        case (out, h) if out.contains(h) => out\n",
    "        case (out, h) => out ++ List(h)\n",
    "    }"
   ]
  },
  {
   "cell_type": "code",
   "execution_count": 74,
   "metadata": {},
   "outputs": [
    {
     "name": "stdout",
     "output_type": "stream",
     "text": [
      "\u001b[32mcell63$Helper$TestDistinct:\u001b[0m\n",
      "\u001b[32mdistinct\u001b[0m\n",
      "\u001b[32m- should work\u001b[0m\n"
     ]
    }
   ],
   "source": [
    "run(new TestDistinct(distinctFL))"
   ]
  },
  {
   "cell_type": "code",
   "execution_count": null,
   "metadata": {},
   "outputs": [],
   "source": []
  }
 ],
 "metadata": {
  "kernelspec": {
   "display_name": "Scala",
   "language": "scala",
   "name": "scala"
  },
  "language_info": {
   "codemirror_mode": "text/x-scala",
   "file_extension": ".sc",
   "mimetype": "text/x-scala",
   "name": "scala",
   "nbconvert_exporter": "script",
   "version": "2.13.11"
  }
 },
 "nbformat": 4,
 "nbformat_minor": 4
}
