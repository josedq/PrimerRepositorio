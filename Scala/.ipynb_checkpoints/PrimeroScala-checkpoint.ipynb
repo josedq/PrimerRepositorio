{
 "cells": [
  {
   "cell_type": "code",
   "execution_count": 6,
   "id": "325fa22c-687e-4f6c-ac39-761a03a0da99",
   "metadata": {},
   "outputs": [
    {
     "data": {
      "text/plain": [
       "defined \u001b[32mfunction\u001b[39m \u001b[36madd\u001b[39m"
      ]
     },
     "execution_count": 6,
     "metadata": {},
     "output_type": "execute_result"
    }
   ],
   "source": [
    "def add(input: Int): Int = \n",
    "  input + 1"
   ]
  },
  {
   "cell_type": "code",
   "execution_count": 7,
   "id": "5b610134-ab2a-4544-81da-a96791961fd6",
   "metadata": {},
   "outputs": [
    {
     "data": {
      "text/plain": [
       "\u001b[36mres7\u001b[39m: \u001b[32mInt\u001b[39m = \u001b[32m-3\u001b[39m"
      ]
     },
     "execution_count": 7,
     "metadata": {},
     "output_type": "execute_result"
    }
   ],
   "source": [
    "add(-4)"
   ]
  },
  {
   "cell_type": "markdown",
   "id": "2df824a4-6caf-42df-8dd1-8471d8270c25",
   "metadata": {},
   "source": [
    "hola"
   ]
  },
  {
   "cell_type": "code",
   "execution_count": 5,
   "id": "0dd1d45e-7254-4e11-907a-2a1d77d41ade",
   "metadata": {},
   "outputs": [
    {
     "name": "stdout",
     "output_type": "stream",
     "text": [
      "Error\n"
     ]
    },
    {
     "data": {
      "text/plain": [
       "\u001b[36mmes\u001b[39m: \u001b[32mInt\u001b[39m = \u001b[32m3\u001b[39m"
      ]
     },
     "execution_count": 5,
     "metadata": {},
     "output_type": "execute_result"
    }
   ],
   "source": [
    "val mes = 3\n",
    "println (mes match{\n",
    "    case 1 => \"Enero\"\n",
    "    case 2 => \"Febrero\"\n",
    "    case _ => \"Error\"\n",
    "})"
   ]
  },
  {
   "cell_type": "code",
   "execution_count": 19,
   "id": "c999c0a8-a80c-411f-8e03-4da8f41c8923",
   "metadata": {},
   "outputs": [
    {
     "data": {
      "text/html": [
       "<div class=\"jp-RenderedText\">\n",
       "<pre><code><span style=\"color: rgb(0, 187, 187)\"><span class=\"ansi-cyan-fg\">k</span></span>: <span style=\"color: rgb(0, 187, 0)\"><span class=\"ansi-green-fg\">Int</span></span> = <style>@keyframes fadein { from { opacity: 0; } to { opacity: 1; } }</style><span style=\"animation: fadein 2s;\"><span style=\"color: rgb(0, 187, 0)\"><span class=\"ansi-green-fg\">6</span></span></span></code></pre>\n",
       "</div>"
      ],
      "text/plain": [
       "\u001b[36mk\u001b[39m: \u001b[32mInt\u001b[39m = \u001b[32m6\u001b[39m"
      ]
     },
     "metadata": {},
     "output_type": "display_data"
    }
   ],
   "source": [
    "var k = 0"
   ]
  },
  {
   "cell_type": "code",
   "execution_count": 18,
   "id": "c23b8f5f-9738-49e4-a631-c388fec409af",
   "metadata": {},
   "outputs": [
    {
     "name": "stdout",
     "output_type": "stream",
     "text": [
      "k = 0\n",
      "k = 1\n",
      "k = 2\n",
      "k = 3\n",
      "k = 4\n"
     ]
    }
   ],
   "source": [
    "while (k < 5) {\n",
    "    println(s\"k = $k\")\n",
    "    k=k+1\n",
    "}"
   ]
  },
  {
   "cell_type": "code",
   "execution_count": 21,
   "id": "c546157d-9721-4b08-89fd-9a77e99036be",
   "metadata": {},
   "outputs": [
    {
     "name": "stdout",
     "output_type": "stream",
     "text": [
      "k = 5\n"
     ]
    }
   ],
   "source": [
    "do {\n",
    "    println(s\"k = $k\")\n",
    "    k=k+1\n",
    "} while (k<5)"
   ]
  },
  {
   "cell_type": "code",
   "execution_count": null,
   "id": "45125b56-0ff4-4331-a77c-38aa4780446b",
   "metadata": {},
   "outputs": [],
   "source": []
  }
 ],
 "metadata": {
  "kernelspec": {
   "display_name": "Scala",
   "language": "scala",
   "name": "scala"
  },
  "language_info": {
   "codemirror_mode": "text/x-scala",
   "file_extension": ".sc",
   "mimetype": "text/x-scala",
   "name": "scala",
   "nbconvert_exporter": "script",
   "version": "2.13.11"
  }
 },
 "nbformat": 4,
 "nbformat_minor": 5
}
