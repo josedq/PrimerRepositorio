{
 "cells": [
  {
   "cell_type": "markdown",
   "metadata": {},
   "source": [
    "# Programación declarativa @ URJC\n",
    "# Programación funcional\n",
    "## Examen Convocatoria Ordinaria (3 de febrero de 2021)\n",
    "## Curso 20-21"
   ]
  },
  {
   "cell_type": "markdown",
   "metadata": {},
   "source": [
    "# Definiciones auxiliares"
   ]
  },
  {
   "cell_type": "code",
   "execution_count": 1,
   "metadata": {},
   "outputs": [
    {
     "data": {
      "text/plain": [
       "\u001b[32mimport \u001b[39m\u001b[36m$ivy.$\u001b[39m\r\n",
       "\u001b[32mimport \u001b[39m\u001b[36morg.scalatest._\u001b[39m"
      ]
     },
     "execution_count": 1,
     "metadata": {},
     "output_type": "execute_result"
    }
   ],
   "source": [
    "import $ivy.`org.scalatest::scalatest:3.0.8`\n",
    "import org.scalatest._"
   ]
  },
  {
   "cell_type": "markdown",
   "metadata": {},
   "source": [
    "### Algunas funciones sobre tipos estándar de la librería de Scala"
   ]
  },
  {
   "cell_type": "code",
   "execution_count": 25,
   "metadata": {},
   "outputs": [
    {
     "data": {
      "text/plain": [
       "defined \u001b[32mobject\u001b[39m \u001b[36mSignatures\u001b[39m"
      ]
     },
     "execution_count": 25,
     "metadata": {},
     "output_type": "execute_result"
    }
   ],
   "source": [
    "object Signatures{\n",
    "    abstract class List[A]{\n",
    "        \n",
    "        // Common HOFs\n",
    "        def foldRight[B](directSol: B)(composeSol: (A, B) => B): B\n",
    "        def foldLeft[B](initial: B)(update: (B, A) => B): B\n",
    "        def map[B](f: A => B): List[B]\n",
    "        def flatMap[B](f: A => List[B]): List[B]\n",
    "        def filter(f: A => Boolean): List[A]\n",
    "        def forall(pred: A => Boolean): Boolean\n",
    "        def exists(pred: A => Boolean): Boolean\n",
    "        \n",
    "        // Reverse a list\n",
    "        // e.g. List(1,2,3).reverse==List(3,2,1)\n",
    "        def reverse: List[A]\n",
    "        \n",
    "        // Take the first `n` elements of the list\n",
    "        // e.g. List(1,2,3).take(2) == List(1,2)\n",
    "        //      List(1,2,3).take(0) == List()\n",
    "        //      List(1,2,3).take(5) == List(1,2,3)\n",
    "        def take(n: Int): List[A]\n",
    "        \n",
    "        // Drop the first `n` elements of the list \n",
    "        // e.g. List(1,2,3).drop(2) == List(3)\n",
    "        //      List(1,2,3).drop(0) == List(1,2,3)\n",
    "        //      List(1,2,3).drop(4) == List()\n",
    "        def drop(n: Int): List[A]\n",
    "\n",
    "        // List concatenation\n",
    "        // e.g. List(1,2,3).concat(List(4,5)) == List(1,2,3,4,5)\n",
    "        def concat(l: List[A]): List[A]\n",
    "    }\n",
    "    \n",
    "    abstract class Option[A]{\n",
    "        // Test whether the value is defined (i.e. `Some`) or not (i.e. `None`)\n",
    "        def isDefined: Boolean \n",
    "        def map[B](f: A => B): Option[B]\n",
    "    }\n",
    "    \n",
    "    abstract class Either[A, B]{\n",
    "        // Test whether the value is left or right\n",
    "        def isLeft: Boolean \n",
    "        def isRight: Boolean \n",
    "        def map[C](f: B => C): Either[A, C]\n",
    "    }\n",
    "}"
   ]
  },
  {
   "cell_type": "markdown",
   "metadata": {},
   "source": [
    "### Definiciones auxiliares sobre la correspondencia Curry-Howard"
   ]
  },
  {
   "cell_type": "code",
   "execution_count": 3,
   "metadata": {},
   "outputs": [
    {
     "data": {
      "text/plain": [
       "defined \u001b[32mtype\u001b[39m \u001b[36mNot\u001b[39m\r\n",
       "defined \u001b[32mtype\u001b[39m \u001b[36m<=>\u001b[39m\r\n",
       "defined \u001b[32mtype\u001b[39m \u001b[36mOr\u001b[39m\r\n",
       "defined \u001b[32mtype\u001b[39m \u001b[36mAnd\u001b[39m"
      ]
     },
     "execution_count": 3,
     "metadata": {},
     "output_type": "execute_result"
    }
   ],
   "source": [
    "type Not[P] = P => Nothing\n",
    "type <=>[P, Q] = (P => Q, Q => P)\n",
    "type Or[P, Q] = Either[P, Q]\n",
    "type And[P, Q] = (P, Q)"
   ]
  },
  {
   "cell_type": "markdown",
   "metadata": {},
   "source": [
    "# Ejercicio 1 (variante 1)\n",
    "\n",
    "\n",
    "__a) (2 puntos)__ Utiliza la correspondencia de Curry-Howard para demostrar que los siguientes razonamientos de la lógica proposicional representan deducciones válidas de la lógica intuicionista: \n",
    "\n",
    "* Dilema constructivo complejo: $\\{p ∨ q, p→r, q→s\\} ⊢ r ∨ s$"
   ]
  },
  {
   "cell_type": "code",
   "execution_count": 4,
   "metadata": {},
   "outputs": [
    {
     "data": {
      "text/plain": [
       "defined \u001b[32mfunction\u001b[39m \u001b[36mproof\u001b[39m"
      ]
     },
     "execution_count": 4,
     "metadata": {},
     "output_type": "execute_result"
    }
   ],
   "source": [
    "def proof[P,Q,R,S](p1: Either[P,Q], p2: P => R, p3: Q => S): Either[R,S] =\n",
    "    p1 match {\n",
    "        case Left(p) => Left(p2(p))\n",
    "        case Right(q) => Right(p3(q))\n",
    "    }"
   ]
  },
  {
   "cell_type": "markdown",
   "metadata": {},
   "source": [
    "* Dilema destructivo simple: $\\{¬p ∨¬q, r→p, r→q\\} ⊢ ¬r$"
   ]
  },
  {
   "cell_type": "code",
   "execution_count": 5,
   "metadata": {},
   "outputs": [
    {
     "data": {
      "text/plain": [
       "defined \u001b[32mfunction\u001b[39m \u001b[36mproof\u001b[39m"
      ]
     },
     "execution_count": 5,
     "metadata": {},
     "output_type": "execute_result"
    }
   ],
   "source": [
    "def proof[P,Q,R](p1: Either[Not[P], Not[Q]], p2: R => P, p3: R => Q): Not[R] =\n",
    "    (r: R) => p1 match {\n",
    "        case Left(np) => np(p2(r))\n",
    "        case Right(nq) => nq(p3(r))\n",
    "    }"
   ]
  },
  {
   "cell_type": "markdown",
   "metadata": {},
   "source": [
    "* Dilema destructivo complejo: $\\{¬p ∨¬q, r→p, s→q\\} ⊢ ¬r ∨ ¬s$"
   ]
  },
  {
   "cell_type": "code",
   "execution_count": 6,
   "metadata": {},
   "outputs": [
    {
     "data": {
      "text/plain": [
       "defined \u001b[32mfunction\u001b[39m \u001b[36mproof\u001b[39m"
      ]
     },
     "execution_count": 6,
     "metadata": {},
     "output_type": "execute_result"
    }
   ],
   "source": [
    "def proof[P,Q,R,S](p1: Either[Not[P], Not[Q]], p2: R => P, p3: S => Q): Either[Not[R], Not[S]] =\n",
    "    p1 match {\n",
    "        case Left(np) => Left((r: R) => np(p2(r)))\n",
    "        case Right(nq) => Right((s: S) => nq(p3(s)))\n",
    "    }"
   ]
  },
  {
   "cell_type": "markdown",
   "metadata": {},
   "source": [
    "__b) (1 punto)__ Utiliza la correspondencia de Curry-Howard para demostrar el siguiente teorema de la lógica clásica: \n",
    "\n",
    "$⊢ ((p →q) →p)→p$\n",
    "\n",
    "Supóngase para ello que la ley del tercio excluso se cumple para la variable proposicional $p$, es decir, que la fórmula $p ∨ ¬p$  puede utilizarse como premisa.\n"
   ]
  },
  {
   "cell_type": "code",
   "execution_count": 7,
   "metadata": {},
   "outputs": [
    {
     "data": {
      "text/plain": [
       "defined \u001b[32mfunction\u001b[39m \u001b[36mproof\u001b[39m"
      ]
     },
     "execution_count": 7,
     "metadata": {},
     "output_type": "execute_result"
    }
   ],
   "source": [
    "def proof[P,Q](lemq: Either[P, Not[P]]): ((P => Q) => P) => P =\n",
    "    (pqp : ((P => Q) => P)) => lemq match {\n",
    "        case Left(p) => p\n",
    "        case Right(np) => pqp(np)\n",
    "    }"
   ]
  },
  {
   "cell_type": "markdown",
   "metadata": {},
   "source": [
    "# Ejercicio 1 (variante 2)\n",
    "\n",
    "\n",
    "__a) (2 puntos)__ Utiliza la correspondencia de Curry-Howard para demostrar que los siguientes teoremas de la lógica intuicionista: \n",
    "\n",
    "* Dilema constructivo complejo: $⊢ (p ∨ q) → (p→r) → (q→s) → (r ∨ s)$"
   ]
  },
  {
   "cell_type": "code",
   "execution_count": 8,
   "metadata": {},
   "outputs": [
    {
     "data": {
      "text/plain": [
       "defined \u001b[32mfunction\u001b[39m \u001b[36mproof\u001b[39m"
      ]
     },
     "execution_count": 8,
     "metadata": {},
     "output_type": "execute_result"
    }
   ],
   "source": [
    "def proof[P,Q,R,S]: Either[P,Q] => (P => R) => (Q => S) => Either[R,S] =\n",
    "    (pvq: Either[P,Q]) => (pr: P => R) => (qs: Q => S) => pvq match {\n",
    "        case Left(p) => Left(pr(p))\n",
    "        case Right(q) => Right(qs(q))\n",
    "    }"
   ]
  },
  {
   "cell_type": "markdown",
   "metadata": {},
   "source": [
    "* Dilema destructivo simple: $⊢ (¬p ∨¬q)→(r→p)→(r→q)→¬r$"
   ]
  },
  {
   "cell_type": "code",
   "execution_count": 9,
   "metadata": {},
   "outputs": [
    {
     "data": {
      "text/plain": [
       "defined \u001b[32mfunction\u001b[39m \u001b[36mproof\u001b[39m"
      ]
     },
     "execution_count": 9,
     "metadata": {},
     "output_type": "execute_result"
    }
   ],
   "source": [
    "def proof[P,Q,R]: Either[Not[P], Not[Q]] => (R => P) => (R => Q) => Not[R] =\n",
    "    (npvnq: Either[Not[P], Not[Q]]) => (rp: R => P) => (rq: R => Q) => (r: R) => npvnq match {\n",
    "        case Left(np) => np(rp(r))\n",
    "        case Right(nq) => nq(rq(r))\n",
    "    }"
   ]
  },
  {
   "cell_type": "markdown",
   "metadata": {},
   "source": [
    "* Dilema destructivo complejo: $⊢(¬p ∨¬q)→(r→p)→(s→q) → (¬r ∨ ¬s)$"
   ]
  },
  {
   "cell_type": "code",
   "execution_count": 10,
   "metadata": {},
   "outputs": [
    {
     "data": {
      "text/plain": [
       "defined \u001b[32mfunction\u001b[39m \u001b[36mproof\u001b[39m"
      ]
     },
     "execution_count": 10,
     "metadata": {},
     "output_type": "execute_result"
    }
   ],
   "source": [
    "def proof[P,Q,R,S]: Either[Not[P], Not[Q]] => (R => P) => (S => Q) => Either[Not[R], Not[S]] =\n",
    "    (npvnq: Either[Not[P], Not[Q]]) => (rp: R => P) => (sq: S => Q) => npvnq match {\n",
    "        case Left(np) => Left((r : R) => np(rp(r)))\n",
    "        case Right(nq) => Right((s: S) => nq(sq(s)))\n",
    "    }"
   ]
  },
  {
   "cell_type": "markdown",
   "metadata": {},
   "source": [
    "__b) (1 punto)__ Utiliza la correspondencia de Curry-Howard para demostrar el siguiente teorema de la lógica clásica: \n",
    "\n",
    "$⊢ ((p →q) →p)→p$\n",
    "\n",
    "Supóngase para ello que la ley de la doble negación se cumple para la variable proposicional $p$, es decir, que la fórmula  $¬¬p→p$  puede utilizarse como premisa."
   ]
  },
  {
   "cell_type": "code",
   "execution_count": 17,
   "metadata": {},
   "outputs": [
    {
     "data": {
      "text/plain": [
       "defined \u001b[32mfunction\u001b[39m \u001b[36mproof\u001b[39m"
      ]
     },
     "execution_count": 17,
     "metadata": {},
     "output_type": "execute_result"
    }
   ],
   "source": [
    "def proof[P,Q](lemq: Not[Not[P]] => P): ((P => Q) => P) => P =\n",
    "    (pqp: ((P => Q) => P)) => lemq((np: Not[P]) => np(pqp(np)))"
   ]
  },
  {
   "cell_type": "markdown",
   "metadata": {},
   "source": [
    "# Ejercicio 2 \n",
    "__(1 punto)__"
   ]
  },
  {
   "cell_type": "markdown",
   "metadata": {},
   "source": [
    "Demuestra el siguiente isomorfismo entre tipos algebraicos de datos para todo tipo $X$: \n",
    "\n",
    "$(X+1)^2 \\cong X^2+2*X+1$\n",
    "\n",
    "de tal forma que se verifique el siguiente test unitario para $X=Boolean$:"
   ]
  },
  {
   "cell_type": "markdown",
   "metadata": {},
   "source": [
    "_(variante 1)_"
   ]
  },
  {
   "cell_type": "code",
   "execution_count": 18,
   "metadata": {},
   "outputs": [
    {
     "data": {
      "text/plain": [
       "defined \u001b[32mclass\u001b[39m \u001b[36mIsoTest\u001b[39m"
      ]
     },
     "execution_count": 18,
     "metadata": {},
     "output_type": "execute_result"
    }
   ],
   "source": [
    "class IsoTest(\n",
    "    from: ((Option[Boolean], Option[Boolean])) => Either[(Boolean, Boolean), Either[Boolean, Option[Boolean]]],\n",
    "    to: Either[(Boolean, Boolean), Either[Boolean, Option[Boolean]]] => (Option[Boolean], Option[Boolean])\n",
    ") extends FlatSpec with Matchers{\n",
    "    \n",
    "    \"from-to\" should \"work\" in {\n",
    "        from(to(Left((true,true)))) shouldBe Left((true, true))\n",
    "        from(to(Right(Left(true)))) shouldBe Right(Left(true))\n",
    "        from(to(Right(Right(Some(true))))) shouldBe Right(Right(Some(true)))\n",
    "        from(to(Right(Right(None)))) shouldBe Right(Right(None))\n",
    "    }\n",
    "    \n",
    "    \"to-from\" should \"work\" in {\n",
    "        to(from((None, None))) shouldBe (None, None)\n",
    "        to(from((Some(false), None))) shouldBe (Some(false), None)\n",
    "        to(from((None, Some(true)))) shouldBe (None, Some(true))\n",
    "        to(from((Some(true), Some(false)))) shouldBe (Some(true), Some(false))\n",
    "    }\n",
    "}"
   ]
  },
  {
   "cell_type": "code",
   "execution_count": 19,
   "metadata": {},
   "outputs": [
    {
     "data": {
      "text/plain": [
       "defined \u001b[32mfunction\u001b[39m \u001b[36mfrom\u001b[39m\r\n",
       "defined \u001b[32mfunction\u001b[39m \u001b[36mto\u001b[39m"
      ]
     },
     "execution_count": 19,
     "metadata": {},
     "output_type": "execute_result"
    }
   ],
   "source": [
    "def from[X](f: ((Option[X], Option[X]))): Either[(X,X), Either[X, Option[X]]] =\n",
    "    f match {\n",
    "        case (None, None) => Right(Right(None))\n",
    "        case (None, Some(x)) => Right(Right(Some(x)))\n",
    "        case (Some(x), None) => Right(Left(x))\n",
    "        case (Some(x1), Some(x2)) => Left((x1,x2))\n",
    "    }\n",
    "\n",
    "def to[X](g: Either[(X,X), Either[X, Option[X]]]): ((Option[X], Option[X])) = \n",
    "    g match {\n",
    "        case Left((x1,x2)) => (Some(x1), Some(x2))\n",
    "        case Right(Left(x)) => (Some(x), None)\n",
    "        case Right(Right(Some(x))) => (None, Some(x))\n",
    "        case Right(Right(None)) => (None, None)\n",
    "    }"
   ]
  },
  {
   "cell_type": "code",
   "execution_count": 20,
   "metadata": {},
   "outputs": [
    {
     "name": "stdout",
     "output_type": "stream",
     "text": [
      "\u001b[32mcell18$Helper$IsoTest:\u001b[0m\n",
      "\u001b[32mfrom-to\u001b[0m\n",
      "\u001b[32m- should work\u001b[0m\n",
      "\u001b[32mto-from\u001b[0m\n",
      "\u001b[32m- should work\u001b[0m\n"
     ]
    }
   ],
   "source": [
    "run(new IsoTest(from, to))"
   ]
  },
  {
   "cell_type": "markdown",
   "metadata": {},
   "source": [
    "_(variante 2)_"
   ]
  },
  {
   "cell_type": "code",
   "execution_count": 21,
   "metadata": {},
   "outputs": [
    {
     "data": {
      "text/plain": [
       "defined \u001b[32mclass\u001b[39m \u001b[36mIsoTest\u001b[39m"
      ]
     },
     "execution_count": 21,
     "metadata": {},
     "output_type": "execute_result"
    }
   ],
   "source": [
    "class IsoTest(\n",
    "    from: ((Either[Boolean, Unit], Either[Boolean, Unit])) => \n",
    "                Either[(Boolean, Boolean), Either[Boolean, Either[Boolean, Unit]]],\n",
    "    to: Either[(Boolean, Boolean), Either[Boolean, Either[Boolean, Unit]]] => \n",
    "                (Either[Boolean, Unit], Either[Boolean, Unit])\n",
    ") extends FlatSpec with Matchers{\n",
    "    \n",
    "    \"from-to\" should \"work\" in {\n",
    "        from(to(Left((true, true)))) shouldBe Left((true, true))\n",
    "        from(to(Right(Left(true)))) shouldBe Right(Left(true))\n",
    "        from(to(Right(Right(Left(true))))) shouldBe Right(Right(Left(true)))\n",
    "        from(to(Right(Right(Right(()))))) shouldBe Right(Right(Right(())))\n",
    "    }\n",
    "    \n",
    "    \"to-from\" should \"work\" in {\n",
    "        to(from((Right(()), Right(())))) shouldBe (Right(()), Right(()))\n",
    "        to(from((Left(false), Right(())))) shouldBe (Left(false), Right(()))\n",
    "        to(from((Right(()), Left(true)))) shouldBe (Right(()), Left(true))\n",
    "        to(from((Left(true), Left(false)))) shouldBe (Left(true), Left(false))\n",
    "    }\n",
    "}"
   ]
  },
  {
   "cell_type": "code",
   "execution_count": null,
   "metadata": {},
   "outputs": [],
   "source": []
  },
  {
   "cell_type": "code",
   "execution_count": null,
   "metadata": {},
   "outputs": [],
   "source": [
    "run(new IsoTest(from, to))"
   ]
  },
  {
   "cell_type": "markdown",
   "metadata": {},
   "source": [
    "# Ejercicio 3 (variante 1)\n",
    "__(3 puntos)__\n",
    "\n",
    "La función de orden superior `sequence` recibe una lista de valores opcionales y devuelve una lista con todos los valores pertenecientes a la lista de entrada (en el mismo orden), _en caso de que todos los valores de la lista de entrada estén definidos_; si alguno de los valores opcionales de la lista de entrada es `None`, entonces la función sequence devuelve `None` también. El comportamiento de la función se ilustra en el siguiente test unitario:\n"
   ]
  },
  {
   "cell_type": "code",
   "execution_count": 5,
   "metadata": {},
   "outputs": [
    {
     "data": {
      "text/plain": [
       "defined \u001b[32mclass\u001b[39m \u001b[36mSequenceTest\u001b[39m"
      ]
     },
     "execution_count": 5,
     "metadata": {},
     "output_type": "execute_result"
    }
   ],
   "source": [
    "class SequenceTest(\n",
    "    sequence: List[Option[Int]] => Option[List[Int]]\n",
    ") extends FlatSpec with Matchers{\n",
    "    \"sequence\" should \"work\" in {\n",
    "        sequence(List(Some(1), Some(2), Some(3))) shouldBe Some(List(1,2,3))\n",
    "        sequence(List(None, Some(2), Some(3))) shouldBe None\n",
    "        sequence(List(Some(1), None, Some(3))) shouldBe None\n",
    "        sequence(List(Some(5))) shouldBe Some(List(5))\n",
    "        sequence(List(None)) shouldBe None\n",
    "        sequence(List()) shouldBe Some(List())\n",
    "    }\n",
    "}"
   ]
  },
  {
   "cell_type": "markdown",
   "metadata": {},
   "source": [
    "__a) (1 punto)__ Implementa la función `sequence` de manera recursiva."
   ]
  },
  {
   "cell_type": "code",
   "execution_count": 4,
   "metadata": {},
   "outputs": [
    {
     "data": {
      "text/plain": [
       "defined \u001b[32mfunction\u001b[39m \u001b[36msequence\u001b[39m"
      ]
     },
     "execution_count": 4,
     "metadata": {},
     "output_type": "execute_result"
    }
   ],
   "source": [
    "def sequence[A](list: List[Option[A]]): Option[List[A]] =\n",
    "    list match {\n",
    "        case Nil => Some(Nil)\n",
    "        case None :: _ => None\n",
    "        case Some(h) :: tail => sequence(tail) match {\n",
    "            case None => None\n",
    "            case Some(t) => Some(h :: t)\n",
    "        }\n",
    "        /*case h :: t => h match {\n",
    "            case None => None\n",
    "            case Some(a) => sequenceR(h :: t)\n",
    "        }*/\n",
    "    }"
   ]
  },
  {
   "cell_type": "code",
   "execution_count": 6,
   "metadata": {},
   "outputs": [
    {
     "name": "stdout",
     "output_type": "stream",
     "text": [
      "\u001b[32mcell5$Helper$SequenceTest:\u001b[0m\n",
      "\u001b[32msequence\u001b[0m\n",
      "\u001b[32m- should work\u001b[0m\n"
     ]
    }
   ],
   "source": [
    "run(new SequenceTest(sequence))"
   ]
  },
  {
   "cell_type": "markdown",
   "metadata": {},
   "source": [
    "__b) (1 punto)__ Implementa la función `sequence` utilizando __`foldRight`__."
   ]
  },
  {
   "cell_type": "code",
   "execution_count": 11,
   "metadata": {},
   "outputs": [
    {
     "data": {
      "text/plain": [
       "defined \u001b[32mfunction\u001b[39m \u001b[36msequenceFR\u001b[39m"
      ]
     },
     "execution_count": 11,
     "metadata": {},
     "output_type": "execute_result"
    }
   ],
   "source": [
    "def sequenceFR[A](list: List[Option[A]]): Option[List[A]] =\n",
    "    list.foldRight(Some(List[A]()): Option[List[A]]){\n",
    "            case (Some(h), Some(t)) => Some(h::t)\n",
    "            case _ => None\n",
    "        }"
   ]
  },
  {
   "cell_type": "code",
   "execution_count": 12,
   "metadata": {},
   "outputs": [
    {
     "name": "stdout",
     "output_type": "stream",
     "text": [
      "\u001b[32mcell5$Helper$SequenceTest:\u001b[0m\n",
      "\u001b[32msequence\u001b[0m\n",
      "\u001b[32m- should work\u001b[0m\n"
     ]
    }
   ],
   "source": [
    "run(new SequenceTest(sequenceFR))"
   ]
  },
  {
   "cell_type": "markdown",
   "metadata": {},
   "source": [
    "__c) (1 punto)__ Se desea implementar una función que reciba una lista de enteros, divida todos sus elementos entre un valor dado y, finalmente, multiplique los resultados de las divisiones, _siempre y cuando todas las divisiones hayan resultado en un valor entero_. En caso de que la división de algunos de los elementos no haya sido entera o no se haya podido realizar (en el caso de la división por cero), la función no devolverá ningún número. Por ejemplo:\n",
    "\n"
   ]
  },
  {
   "cell_type": "code",
   "execution_count": 15,
   "metadata": {},
   "outputs": [
    {
     "data": {
      "text/plain": [
       "defined \u001b[32mclass\u001b[39m \u001b[36mTestOp\u001b[39m"
      ]
     },
     "execution_count": 15,
     "metadata": {},
     "output_type": "execute_result"
    }
   ],
   "source": [
    "class TestOp(op: (List[Int], Int) => Option[Int]) extends FlatSpec with Matchers{\n",
    "    \"op\" should \"work\" in {\n",
    "        op(List(2,4,6), 2) shouldBe Some(2/2*4/2*6/2)\n",
    "        op(List(3,6,9), 3) shouldBe Some(6)\n",
    "        op(List(3,5,9), 3) shouldBe None\n",
    "        op(List(), 5) shouldBe Some(1)\n",
    "        op(List(), 0) shouldBe Some(1)\n",
    "        op(List(2,5,2), 0) shouldBe None\n",
    "    }\n",
    "}"
   ]
  },
  {
   "cell_type": "markdown",
   "metadata": {},
   "source": [
    "Implementa la función `op` utilizando `sequence` y otras funciones de orden superior del catálogo explicado en clase."
   ]
  },
  {
   "cell_type": "code",
   "execution_count": 19,
   "metadata": {},
   "outputs": [
    {
     "data": {
      "text/plain": [
       "defined \u001b[32mfunction\u001b[39m \u001b[36mop\u001b[39m"
      ]
     },
     "execution_count": 19,
     "metadata": {},
     "output_type": "execute_result"
    }
   ],
   "source": [
    "def op(list: List[Int], n: Int): Option[Int] =\n",
    "    sequence(list.map(d => if (n != 0 && d % n == 0) Some(d / n) else None)).map(_.foldLeft(1)(_*_))"
   ]
  },
  {
   "cell_type": "code",
   "execution_count": 18,
   "metadata": {},
   "outputs": [
    {
     "name": "stdout",
     "output_type": "stream",
     "text": [
      "\u001b[32mcell15$Helper$TestOp:\u001b[0m\n",
      "\u001b[32mop\u001b[0m\n",
      "\u001b[32m- should work\u001b[0m\n"
     ]
    }
   ],
   "source": [
    "run(new TestOp(op))"
   ]
  },
  {
   "cell_type": "markdown",
   "metadata": {},
   "source": [
    "# Ejercicio 3 (variante 2)\n",
    "__(3 puntos)__\n",
    "\n",
    "La función de orden superior `sequence` recibe una lista de valores de tipo `X` o `Y` y devuelve una lista con los valores de tipo `Y` pertenecientes a la lista de entrada (en el mismo orden), _en caso de que dicha lista no contenga ningún valor de tipo `X`_; en caso de que sí lo contenga, la función `sequence` devolverá el primer valor de tipo `X` encontrado. El comportamiento de la función se ilustra en el siguiente test unitario, donde la función `sequence` se encuentra particularizada para los tipos `X=String` e `Y=Int`:\n"
   ]
  },
  {
   "cell_type": "code",
   "execution_count": null,
   "metadata": {},
   "outputs": [],
   "source": [
    "class SequenceTest(\n",
    "    sequence: List[Either[String, Int]] => Either[String, List[Int]]\n",
    ") extends FlatSpec with Matchers{\n",
    "    \"sequence\" should \"work\" in {\n",
    "        sequence(List(Right(1), Right(2), Right(3))) shouldBe Right(List(1,2,3))\n",
    "        sequence(List(Left(\"error1\"), Right(2), Right(3))) shouldBe Left(\"error1\")\n",
    "        sequence(List(Right(1), Left(\"error1\"), Right(3))) shouldBe Left(\"error1\")\n",
    "        sequence(List(Right(1), Left(\"error1\"), Left(\"error2\"))) shouldBe Left(\"error1\")\n",
    "        sequence(List(Right(5))) shouldBe Right(List(5))\n",
    "        sequence(List(Left(\"error1\"))) shouldBe Left(\"error1\")\n",
    "        sequence(List()) shouldBe Right(List())\n",
    "    }\n",
    "}"
   ]
  },
  {
   "cell_type": "markdown",
   "metadata": {},
   "source": [
    "__a) (1 punto)__ Implementa la función `sequence` de manera recursiva."
   ]
  },
  {
   "cell_type": "code",
   "execution_count": null,
   "metadata": {},
   "outputs": [],
   "source": []
  },
  {
   "cell_type": "code",
   "execution_count": null,
   "metadata": {},
   "outputs": [],
   "source": [
    "run(new SequenceTest(sequence))"
   ]
  },
  {
   "cell_type": "markdown",
   "metadata": {},
   "source": [
    "__b) (1 punto)__ Implementa la función `sequence` utilizando __`foldRight`__."
   ]
  },
  {
   "cell_type": "code",
   "execution_count": null,
   "metadata": {},
   "outputs": [],
   "source": []
  },
  {
   "cell_type": "code",
   "execution_count": null,
   "metadata": {},
   "outputs": [],
   "source": [
    "run(new SequenceTest(sequenceFR))"
   ]
  },
  {
   "cell_type": "markdown",
   "metadata": {},
   "source": [
    "__c) (1 punto)__ Se desea implementar una función que reciba una lista de enteros, divida todos sus elementos entre un valor dado y, finalmente, multiplique los resultados de las divisiones, _siempre y cuando todas las divisiones hayan resultado en un valor entero_. En caso de que la división de algunos de los elementos no haya sido entera o no se haya podido realizar (en el caso de la división por cero), la función devolverá la cadena `\"error\"`. Por ejemplo:\n",
    "\n"
   ]
  },
  {
   "cell_type": "code",
   "execution_count": null,
   "metadata": {},
   "outputs": [],
   "source": [
    "class TestOp(op: (List[Int], Int) => Either[String, Int]) extends FlatSpec with Matchers{\n",
    "    \"op\" should \"work\" in {\n",
    "        op(List(2,4,6), 2) shouldBe Right(2/2*4/2*6/2)\n",
    "        op(List(3,6,9), 3) shouldBe Right(6)\n",
    "        op(List(3,5,9), 3) shouldBe Left(\"error\")\n",
    "        op(List(), 5) shouldBe Right(1)\n",
    "        op(List(), 0) shouldBe Right(1)\n",
    "        op(List(2,5,2), 0) shouldBe Left(\"error\")\n",
    "    }\n",
    "}"
   ]
  },
  {
   "cell_type": "markdown",
   "metadata": {},
   "source": [
    "Implementa la función `op` utilizando `sequence` y otras funciones de orden superior del catálogo explicado en clase."
   ]
  },
  {
   "cell_type": "code",
   "execution_count": null,
   "metadata": {},
   "outputs": [],
   "source": []
  },
  {
   "cell_type": "code",
   "execution_count": null,
   "metadata": {},
   "outputs": [],
   "source": [
    "run(new TestOp(op))"
   ]
  },
  {
   "cell_type": "markdown",
   "metadata": {},
   "source": [
    "# Ejercicio 4\n",
    "__(3 puntos)__\n",
    "\n",
    "Considérese la siguiente implementación mediante recursión final de la función de orden superior `foldLeft`: \n",
    "```scala\n",
    "def foldLeft[A, B](l: List[A])(acc: B)(f: (B, A) => B): B = \n",
    "    l match {\n",
    "        case Nil => acc\n",
    "        case h :: t => foldLeft(t)(f(acc, h))(f)\n",
    "    }\n",
    "```"
   ]
  },
  {
   "cell_type": "markdown",
   "metadata": {},
   "source": [
    "__a) (1,5 puntos)__ Implementa una variante de la función `foldLeft`, denominada `foldLeftUntil`, que permita finalizar de manera anticipada la iteración cuando el valor acumulado hasta el momento satisfaga determinada condición. En caso de que el valor acumulado no cumpla nunca la condición, el comportamiento será el mismo de la función `foldLeft`."
   ]
  },
  {
   "cell_type": "code",
   "execution_count": 26,
   "metadata": {},
   "outputs": [
    {
     "data": {
      "text/plain": [
       "defined \u001b[32mfunction\u001b[39m \u001b[36mfoldLeftUntil\u001b[39m"
      ]
     },
     "execution_count": 26,
     "metadata": {},
     "output_type": "execute_result"
    }
   ],
   "source": [
    "def foldLeftUntil[A,B](l: List[A])(acc : B)(cond: B => Boolean)(f: (B,A) => B): B =\n",
    "    l match {\n",
    "        case Nil => acc\n",
    "        case h :: t => if (!cond(acc)) foldLeftUntil(t)(f(acc,h))(cond)(f) else acc\n",
    "    }"
   ]
  },
  {
   "cell_type": "markdown",
   "metadata": {},
   "source": [
    "_(variante 1)_"
   ]
  },
  {
   "cell_type": "markdown",
   "metadata": {},
   "source": [
    "__b) (1,5 puntos)__ Dada una lista de pares clave/valor, se desea implementar una función `lookup` que devuelva el valor asociado a una clave en caso de que exista. Si existen varias ocurrencias con la misma clave se devolverá el valor de la primera. Por ejemplo:"
   ]
  },
  {
   "cell_type": "code",
   "execution_count": 28,
   "metadata": {},
   "outputs": [
    {
     "data": {
      "text/plain": [
       "defined \u001b[32mclass\u001b[39m \u001b[36mTestLookup\u001b[39m"
      ]
     },
     "execution_count": 28,
     "metadata": {},
     "output_type": "execute_result"
    }
   ],
   "source": [
    "class TestLookup(\n",
    "    lookup: List[(Int, String)] => Int => Option[String]\n",
    ") extends FlatSpec with Matchers{\n",
    "    \n",
    "    \"lookup\" should \"work\" in {\n",
    "        lookup(List())(1) shouldBe None\n",
    "        lookup(List((1, \"a\"), (2, \"b\"), (3, \"c\")))(1) shouldBe Some(\"a\")\n",
    "        lookup(List((1, \"a\"), (2, \"b\"), (1, \"a_bis\"), (3, \"c\")))(1) shouldBe Some(\"a\")\n",
    "        lookup(List((1, \"a\"), (2, \"b\"), (3, \"c\")))(2) shouldBe Some(\"b\")\n",
    "        lookup(List((1, \"a\"), (2, \"b\"), (3, \"c\")))(3) shouldBe Some(\"c\")\n",
    "        lookup(List((1, \"a\"), (2, \"b\"), (3, \"c\")))(0) shouldBe None\n",
    "    }\n",
    "}"
   ]
  },
  {
   "cell_type": "markdown",
   "metadata": {},
   "source": [
    "Implementa la función `lookup` utilizando la función `foldLeftUntil` del apartado anterior: "
   ]
  },
  {
   "cell_type": "code",
   "execution_count": 27,
   "metadata": {},
   "outputs": [
    {
     "data": {
      "text/plain": [
       "defined \u001b[32mfunction\u001b[39m \u001b[36mlookup\u001b[39m"
      ]
     },
     "execution_count": 27,
     "metadata": {},
     "output_type": "execute_result"
    }
   ],
   "source": [
    "def lookup[A,B](l: List[(A, B)])(a: A): Option[B] =\n",
    "    foldLeftUntil(l)(Option.empty[B])(_.isDefined){\n",
    "        case (_, (`a`, b)) => Some(b)\n",
    "        case(acc, _) => acc\n",
    "    }"
   ]
  },
  {
   "cell_type": "code",
   "execution_count": 29,
   "metadata": {},
   "outputs": [
    {
     "name": "stdout",
     "output_type": "stream",
     "text": [
      "\u001b[32mcell28$Helper$TestLookup:\u001b[0m\n",
      "\u001b[32mlookup\u001b[0m\n",
      "\u001b[32m- should work\u001b[0m\n"
     ]
    }
   ],
   "source": [
    "run(new TestLookup(lookup))"
   ]
  },
  {
   "cell_type": "markdown",
   "metadata": {},
   "source": [
    "_(variante 2)_\n",
    "\n",
    "__b) (1,5 puntos)__ Dada una lista de pares clave/valor, se desea implementar una función `lookup` que devuelva el valor asociado a una clave en caso de que exista. Si existen varias ocurrencias con la misma clave se devolverá el valor de la primera. Si no existe valor para la clave especificada se devolverá la cadena `\"error\"`. Por ejemplo:"
   ]
  },
  {
   "cell_type": "code",
   "execution_count": 31,
   "metadata": {},
   "outputs": [
    {
     "data": {
      "text/plain": [
       "defined \u001b[32mclass\u001b[39m \u001b[36mTestLookup\u001b[39m"
      ]
     },
     "execution_count": 31,
     "metadata": {},
     "output_type": "execute_result"
    }
   ],
   "source": [
    "class TestLookup(\n",
    "    lookup: List[(Int, Char)] => Int => Either[String, Char]\n",
    ") extends FlatSpec with Matchers{\n",
    "    \n",
    "    \"lookup\" should \"work\" in {\n",
    "        lookup(List())(1) shouldBe Left(\"error\")\n",
    "        lookup(List((1, 'a'), (2, 'b'), (3, 'c')))(1) shouldBe Right('a')\n",
    "        lookup(List((1, 'a'), (2, 'b'), (1, 'f'), (3, 'c')))(1) shouldBe Right('a')\n",
    "        lookup(List((1, 'a'), (2, 'b'), (3, 'c')))(2) shouldBe Right('b')\n",
    "        lookup(List((1, 'a'), (2, 'b'), (3, 'c')))(3) shouldBe Right('c')\n",
    "        lookup(List((1, 'a'), (2, 'b'), (3, 'c')))(0) shouldBe Left(\"error\")\n",
    "    }\n",
    "}"
   ]
  },
  {
   "cell_type": "markdown",
   "metadata": {},
   "source": [
    "Implementa la función `lookup` utilizando la función `foldLeftUntil` del apartado anterior: "
   ]
  },
  {
   "cell_type": "code",
   "execution_count": 30,
   "metadata": {},
   "outputs": [
    {
     "data": {
      "text/plain": [
       "defined \u001b[32mfunction\u001b[39m \u001b[36mlookup2\u001b[39m"
      ]
     },
     "execution_count": 30,
     "metadata": {},
     "output_type": "execute_result"
    }
   ],
   "source": [
    "def lookup2[A,B](list: List[(A,B)])(a: A): Either[String, B] =\n",
    "    foldLeftUntil[(A,B), Either[String, B]](list)(Left(\"error\"))(_.isRight){\n",
    "        case (_, (`a`, b)) => Right(b)\n",
    "        case (acc, _) => acc\n",
    "    }"
   ]
  },
  {
   "cell_type": "code",
   "execution_count": 32,
   "metadata": {},
   "outputs": [
    {
     "name": "stdout",
     "output_type": "stream",
     "text": [
      "\u001b[32mcell31$Helper$TestLookup:\u001b[0m\n",
      "\u001b[32mlookup\u001b[0m\n",
      "\u001b[32m- should work\u001b[0m\n"
     ]
    }
   ],
   "source": [
    "run(new TestLookup(lookup2))"
   ]
  }
 ],
 "metadata": {
  "kernelspec": {
   "display_name": "Scala",
   "language": "scala",
   "name": "scala"
  },
  "language_info": {
   "codemirror_mode": "text/x-scala",
   "file_extension": ".sc",
   "mimetype": "text/x-scala",
   "name": "scala",
   "nbconvert_exporter": "script",
   "version": "2.13.11"
  }
 },
 "nbformat": 4,
 "nbformat_minor": 4
}
