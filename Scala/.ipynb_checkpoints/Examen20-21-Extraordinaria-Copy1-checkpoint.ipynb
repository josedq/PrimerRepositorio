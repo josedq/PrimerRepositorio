{
 "cells": [
  {
   "cell_type": "markdown",
   "metadata": {},
   "source": [
    "# Programación declarativa @ URJC\n",
    "# Programación funcional\n",
    "## Examen Convocatoria Extraordinaria (2 de julio de 2021)\n",
    "## Curso 2020-2021"
   ]
  },
  {
   "cell_type": "markdown",
   "metadata": {},
   "source": [
    "# Definiciones auxiliares"
   ]
  },
  {
   "cell_type": "code",
   "execution_count": null,
   "metadata": {},
   "outputs": [],
   "source": [
    "import $ivy.`org.scalatest::scalatest:3.0.8`\n",
    "import org.scalatest._"
   ]
  },
  {
   "cell_type": "markdown",
   "metadata": {},
   "source": [
    "### Algunas funciones sobre tipos estándar de la librería de Scala"
   ]
  },
  {
   "cell_type": "code",
   "execution_count": null,
   "metadata": {},
   "outputs": [],
   "source": [
    "object Signatures{\n",
    "    abstract class List[A]{\n",
    "        \n",
    "        // Common HOFs\n",
    "        def foldRight[B](directSol: B)(composeSol: (A, B) => B): B\n",
    "        def foldLeft[B](initial: B)(update: (B, A) => B): B\n",
    "        def map[B](f: A => B): List[B]\n",
    "        def flatMap[B](f: A => List[B]): List[B]\n",
    "        def filter(f: A => Boolean): List[A]\n",
    "        def forall(pred: A => Boolean): Boolean\n",
    "        def exists(pred: A => Boolean): Boolean\n",
    "        \n",
    "        // Reverse a list\n",
    "        // e.g. List(1,2,3).reverse==List(3,2,1)\n",
    "        def reverse: List[A]\n",
    "        \n",
    "        // Take the first `n` elements of the list\n",
    "        // e.g. List(1,2,3).take(2) == List(1,2)\n",
    "        //      List(1,2,3).take(0) == List()\n",
    "        //      List(1,2,3).take(5) == List(1,2,3)\n",
    "        def take(n: Int): List[A]\n",
    "        \n",
    "        // Drop the first `n` elements of the list \n",
    "        // e.g. List(1,2,3).drop(2) == List(3)\n",
    "        //      List(1,2,3).drop(0) == List(1,2,3)\n",
    "        //      List(1,2,3).drop(4) == List()\n",
    "        def drop(n: Int): List[A]\n",
    "\n",
    "        // List concatenation\n",
    "        // e.g. List(1,2,3).concat(List(4,5)) == List(1,2,3,4,5)\n",
    "        def concat(l: List[A]): List[A]\n",
    "    }\n",
    "    \n",
    "    abstract class Option[A]{\n",
    "        // Test whether the value is defined (i.e. `Some`) or not (i.e. `None`)\n",
    "        def isDefined: Boolean \n",
    "        def map[B](f: A => B): Option[B]\n",
    "    }\n",
    "    \n",
    "    abstract class Either[A, B]{\n",
    "        // Test whether the value is left or right\n",
    "        def isLeft: Boolean \n",
    "        def isRight: Boolean \n",
    "        def map[C](f: B => C): Either[A, C]\n",
    "    }\n",
    "}"
   ]
  },
  {
   "cell_type": "markdown",
   "metadata": {},
   "source": [
    "### Definiciones auxiliares sobre la correspondencia Curry-Howard"
   ]
  },
  {
   "cell_type": "code",
   "execution_count": null,
   "metadata": {},
   "outputs": [],
   "source": [
    "type Not[P] = P => Nothing\n",
    "type <=>[P, Q] = (P => Q, Q => P)\n",
    "type Or[P, Q] = Either[P, Q]\n",
    "type And[P, Q] = (P, Q)"
   ]
  },
  {
   "cell_type": "markdown",
   "metadata": {},
   "source": [
    "# Ejercicio 1\n",
    "\n",
    "\n",
    "__a) (2 puntos)__ Utiliza la correspondencia de Curry-Howard para demostrar que las siguientes proposiciones representan teoremas de la lógica intuicionista: \n",
    "\n",
    "$\\vdash \\neg (p \\vee q) \\rightarrow \\neg p \\wedge \\neg q$\n"
   ]
  },
  {
   "cell_type": "code",
   "execution_count": null,
   "metadata": {},
   "outputs": [],
   "source": []
  },
  {
   "cell_type": "markdown",
   "metadata": {},
   "source": [
    "$\\vdash \\neg p \\wedge \\neg q \\rightarrow \\neg (p \\vee q)$"
   ]
  },
  {
   "cell_type": "code",
   "execution_count": null,
   "metadata": {},
   "outputs": [],
   "source": []
  },
  {
   "cell_type": "markdown",
   "metadata": {},
   "source": [
    "__b) (1 punto)__ Utiliza la correspondencia de Curry-Howard para demostrar el siguiente teorema de la lógica clásica: \n",
    "\n",
    "$\\vdash \\neg(\\neg p \\vee \\neg q) \\rightarrow p \\wedge q$\n",
    "\n",
    "Supóngase para ello que la ley del tercio excluso se cumple para las variables proposicionales $p$ y $q$, es decir, que las fórmulas $p ∨ ¬p$ y $q ∨ ¬q$  pueden utilizarse como premisas.\n"
   ]
  },
  {
   "cell_type": "code",
   "execution_count": null,
   "metadata": {},
   "outputs": [],
   "source": []
  },
  {
   "cell_type": "markdown",
   "metadata": {},
   "source": [
    "# Ejercicio 2 \n",
    "__(2 puntos)__"
   ]
  },
  {
   "cell_type": "markdown",
   "metadata": {},
   "source": [
    "Demuestra el isomorfismo entre tipos algebraicos de datos correspondiente a la siguiente igualdad algebraica: \n",
    "\n",
    "<p style=\"text-align: center;\">$(y*z)^x = y^x*z^x$, para todo $x$, $y$, $z \\in \\mathbb{N}$</p>"
   ]
  },
  {
   "cell_type": "code",
   "execution_count": null,
   "metadata": {},
   "outputs": [],
   "source": []
  },
  {
   "cell_type": "markdown",
   "metadata": {},
   "source": [
    "# Ejercicio 3 (variante A)\n",
    "__(5 puntos)__\n",
    "\n",
    "La función `split` recibe una lista de pares y devuelve un par de listas formadas por los elementos de la primera y segunda componentes de cada par, respectivamente. El comportamiento de la función se ilustra en el siguiente test unitario:\n"
   ]
  },
  {
   "cell_type": "code",
   "execution_count": null,
   "metadata": {},
   "outputs": [],
   "source": [
    "class SplitTest_A(\n",
    "    split: List[(Int, Boolean)] => (List[Int], List[Boolean])\n",
    ") extends FlatSpec with Matchers{\n",
    "    \"split\" should \"work\" in {\n",
    "        split(List()) shouldBe (List(), List())\n",
    "        split(List((1, true), (2, false), (3, true))) shouldBe (List(1,2,3), List(true, false, true))\n",
    "        split(List((0, true), (0, true))) shouldBe (List(0,0), List(true, true))\n",
    "    }\n",
    "}"
   ]
  },
  {
   "cell_type": "markdown",
   "metadata": {},
   "source": [
    "__a) (1 punto)__ Implementa la función `split` de manera recursiva (no final)."
   ]
  },
  {
   "cell_type": "code",
   "execution_count": null,
   "metadata": {},
   "outputs": [],
   "source": []
  },
  {
   "cell_type": "code",
   "execution_count": null,
   "metadata": {},
   "outputs": [],
   "source": [
    "run(new SplitTest_A(splitR_A))"
   ]
  },
  {
   "cell_type": "markdown",
   "metadata": {},
   "source": [
    "__b) (1 punto)__ Implementa la función `split` utilizando __`foldRight`__."
   ]
  },
  {
   "cell_type": "code",
   "execution_count": null,
   "metadata": {},
   "outputs": [],
   "source": []
  },
  {
   "cell_type": "code",
   "execution_count": null,
   "metadata": {},
   "outputs": [],
   "source": [
    "run(new SplitTest_A(splitFR_A))"
   ]
  },
  {
   "cell_type": "markdown",
   "metadata": {},
   "source": [
    "__c) (1 punto)__ Implementa la función `split` mediante recursión por cola (o final):"
   ]
  },
  {
   "cell_type": "code",
   "execution_count": null,
   "metadata": {},
   "outputs": [],
   "source": []
  },
  {
   "cell_type": "code",
   "execution_count": null,
   "metadata": {},
   "outputs": [],
   "source": [
    "run(new SplitTest_A(splitTR_A))"
   ]
  },
  {
   "cell_type": "markdown",
   "metadata": {},
   "source": [
    "__d) (1 punto)__ Implementa la función `split` utilizando __`foldLeft`__."
   ]
  },
  {
   "cell_type": "code",
   "execution_count": null,
   "metadata": {},
   "outputs": [],
   "source": []
  },
  {
   "cell_type": "code",
   "execution_count": null,
   "metadata": {},
   "outputs": [],
   "source": [
    "run(new SplitTest_A(splitFL_A))"
   ]
  },
  {
   "cell_type": "markdown",
   "metadata": {},
   "source": [
    "__e) (1 punto)__ Dada una lista de puntos del plano representados mediante coordenadas polares, se desean obtener los valores de las abscisas y ordenadas de sus coordenadas rectangulares. Concretamente, dados los tipos de datos:"
   ]
  },
  {
   "cell_type": "code",
   "execution_count": null,
   "metadata": {},
   "outputs": [],
   "source": [
    "case class Polar(radius: Double, angle: Double)\n",
    "type Rectangular = (Double, Double)"
   ]
  },
  {
   "cell_type": "markdown",
   "metadata": {},
   "source": [
    "y la función de conversión entre coordenadas polares y rectangulares: "
   ]
  },
  {
   "cell_type": "code",
   "execution_count": null,
   "metadata": {},
   "outputs": [],
   "source": [
    "import scala.math.{Pi, sin, cos}\n",
    "\n",
    "def from(p: Polar): Rectangular = \n",
    "    (p.radius * cos(p.angle), p.radius * sin(p.angle))"
   ]
  },
  {
   "cell_type": "markdown",
   "metadata": {},
   "source": [
    "se desea implementar una función `components` que satisfaga el siguiente test unitario:"
   ]
  },
  {
   "cell_type": "code",
   "execution_count": null,
   "metadata": {},
   "outputs": [],
   "source": [
    "class ComponentsTest(\n",
    "    components: List[Polar] => (List[Double], List[Double])\n",
    ") extends FlatSpec with Matchers{\n",
    "    \"components\" should \"work\" in {\n",
    "        components(List(Polar(1,0), Polar(2,Pi/4), Polar(3,Pi/2), Polar(4,Pi))) shouldBe \n",
    "            (List(cos(0), 2*cos(Pi/4), 3*cos(Pi/2), 4*cos(Pi)), \n",
    "            List(sin(0), 2*sin(Pi/4), 3*sin(Pi/2), 4*sin(Pi)))\n",
    "    }\n",
    "}"
   ]
  },
  {
   "cell_type": "markdown",
   "metadata": {},
   "source": [
    "Implementa la función `components` utilizando la función `split` y alguna de las funciones de orden superior explicadas en clase (`map`, `flatMap`, `foldLeft`, `foldRight`, etc.), de tal forma que la implementación sea lo más __concisa__ posible."
   ]
  },
  {
   "cell_type": "code",
   "execution_count": null,
   "metadata": {},
   "outputs": [],
   "source": []
  },
  {
   "cell_type": "code",
   "execution_count": null,
   "metadata": {},
   "outputs": [],
   "source": [
    "run(new ComponentsTest(components))"
   ]
  },
  {
   "cell_type": "markdown",
   "metadata": {},
   "source": [
    "# Ejercicio 3 (variante B)\n",
    "__(5 puntos)__\n",
    "\n",
    "La función `split` recibe una lista de valores de tipo `Either`, y devuelve un par de listas formadas por los elementos de tipo `Left` y `Right`, respectivamente. El comportamiento de la función se ilustra en el siguiente test unitario:\n"
   ]
  },
  {
   "cell_type": "code",
   "execution_count": null,
   "metadata": {},
   "outputs": [],
   "source": [
    "class SplitTest_B(\n",
    "    split: List[Either[Int, Boolean]] => (List[Int], List[Boolean])\n",
    ") extends FlatSpec with Matchers{\n",
    "    \"split\" should \"work\" in {\n",
    "        split(List()) shouldBe (List(), List())\n",
    "        split(List(Left(1), Right(false), Left(3))) shouldBe (List(1,3), List(false))\n",
    "        split(List(Right(true), Right(true))) shouldBe (List(), List(true, true))\n",
    "    }\n",
    "}"
   ]
  },
  {
   "cell_type": "markdown",
   "metadata": {},
   "source": [
    "__a) (1 punto)__ Implementa la función `split` de manera recursiva (no final)."
   ]
  },
  {
   "cell_type": "code",
   "execution_count": null,
   "metadata": {},
   "outputs": [],
   "source": []
  },
  {
   "cell_type": "code",
   "execution_count": null,
   "metadata": {},
   "outputs": [],
   "source": [
    "run(new SplitTest_B(splitR_B))"
   ]
  },
  {
   "cell_type": "markdown",
   "metadata": {},
   "source": [
    "__b) (1 punto)__ Implementa la función `split` utilizando __`foldRight`__."
   ]
  },
  {
   "cell_type": "code",
   "execution_count": null,
   "metadata": {},
   "outputs": [],
   "source": []
  },
  {
   "cell_type": "code",
   "execution_count": null,
   "metadata": {},
   "outputs": [],
   "source": [
    "run(new SplitTest_B(splitFR_B))"
   ]
  },
  {
   "cell_type": "markdown",
   "metadata": {},
   "source": [
    "__c) (1 punto)__ Implementa la función `split` mediante recursión por cola (o final):"
   ]
  },
  {
   "cell_type": "code",
   "execution_count": null,
   "metadata": {},
   "outputs": [],
   "source": []
  },
  {
   "cell_type": "code",
   "execution_count": null,
   "metadata": {},
   "outputs": [],
   "source": [
    "run(new SplitTest_B(splitTR_B))"
   ]
  },
  {
   "cell_type": "markdown",
   "metadata": {},
   "source": [
    "__d) (1 punto)__ Implementa la función `split` utilizando __`foldLeft`__."
   ]
  },
  {
   "cell_type": "code",
   "execution_count": null,
   "metadata": {},
   "outputs": [],
   "source": []
  },
  {
   "cell_type": "code",
   "execution_count": null,
   "metadata": {},
   "outputs": [],
   "source": [
    "run(new SplitTest_B(splitFL_B))"
   ]
  },
  {
   "cell_type": "markdown",
   "metadata": {},
   "source": [
    "__e) (1 punto)__ Implementa la función `split` utilizando la función de orden superior `filter`:"
   ]
  },
  {
   "cell_type": "code",
   "execution_count": null,
   "metadata": {},
   "outputs": [],
   "source": []
  },
  {
   "cell_type": "code",
   "execution_count": null,
   "metadata": {},
   "outputs": [],
   "source": [
    "run(new SplitTest_B(splitF))"
   ]
  },
  {
   "cell_type": "code",
   "execution_count": null,
   "metadata": {},
   "outputs": [],
   "source": []
  }
 ],
 "metadata": {
  "kernelspec": {
   "display_name": "Scala",
   "language": "scala",
   "name": "scala"
  },
  "language_info": {
   "codemirror_mode": "text/x-scala",
   "file_extension": ".sc",
   "mimetype": "text/x-scala",
   "name": "scala",
   "nbconvert_exporter": "script",
   "version": "2.13.11"
  }
 },
 "nbformat": 4,
 "nbformat_minor": 4
}
